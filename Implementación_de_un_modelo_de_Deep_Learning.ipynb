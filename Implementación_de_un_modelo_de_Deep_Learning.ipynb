{
  "cells": [
    {
      "cell_type": "markdown",
      "source": [
        "# Implementación de un modelo de Deep Learning"
      ],
      "metadata": {
        "id": "WzxVclfYof0l"
      }
    },
    {
      "cell_type": "code",
      "execution_count": 9,
      "metadata": {
        "colab": {
          "base_uri": "https://localhost:8080/"
        },
        "id": "WRa53RpC036s",
        "outputId": "a7480e63-bd3a-424f-aadc-7526f9dcb0a9"
      },
      "outputs": [
        {
          "output_type": "stream",
          "name": "stdout",
          "text": [
            "Drive already mounted at /content/drive; to attempt to forcibly remount, call drive.mount(\"/content/drive\", force_remount=True).\n",
            "/content/drive/MyDrive/IA\n"
          ]
        }
      ],
      "source": [
        "from google.colab import drive\n",
        "drive.mount('/content/drive')\n",
        "\n",
        "#%cd \"/content/drive/MyDrive/IA\""
      ]
    },
    {
      "cell_type": "code",
      "execution_count": 2,
      "metadata": {
        "colab": {
          "base_uri": "https://localhost:8080/",
          "height": 93
        },
        "id": "6IrEnA88Dfdc",
        "outputId": "606be85e-6608-489a-b416-4fbe0185ea15"
      },
      "outputs": [
        {
          "output_type": "display_data",
          "data": {
            "text/plain": [
              "<IPython.core.display.HTML object>"
            ],
            "text/html": [
              "\n",
              "     <input type=\"file\" id=\"files-26018d74-528f-4c96-bf5b-407bbac69f94\" name=\"files[]\" multiple disabled\n",
              "        style=\"border:none\" />\n",
              "     <output id=\"result-26018d74-528f-4c96-bf5b-407bbac69f94\">\n",
              "      Upload widget is only available when the cell has been executed in the\n",
              "      current browser session. Please rerun this cell to enable.\n",
              "      </output>\n",
              "      <script>// Copyright 2017 Google LLC\n",
              "//\n",
              "// Licensed under the Apache License, Version 2.0 (the \"License\");\n",
              "// you may not use this file except in compliance with the License.\n",
              "// You may obtain a copy of the License at\n",
              "//\n",
              "//      http://www.apache.org/licenses/LICENSE-2.0\n",
              "//\n",
              "// Unless required by applicable law or agreed to in writing, software\n",
              "// distributed under the License is distributed on an \"AS IS\" BASIS,\n",
              "// WITHOUT WARRANTIES OR CONDITIONS OF ANY KIND, either express or implied.\n",
              "// See the License for the specific language governing permissions and\n",
              "// limitations under the License.\n",
              "\n",
              "/**\n",
              " * @fileoverview Helpers for google.colab Python module.\n",
              " */\n",
              "(function(scope) {\n",
              "function span(text, styleAttributes = {}) {\n",
              "  const element = document.createElement('span');\n",
              "  element.textContent = text;\n",
              "  for (const key of Object.keys(styleAttributes)) {\n",
              "    element.style[key] = styleAttributes[key];\n",
              "  }\n",
              "  return element;\n",
              "}\n",
              "\n",
              "// Max number of bytes which will be uploaded at a time.\n",
              "const MAX_PAYLOAD_SIZE = 100 * 1024;\n",
              "\n",
              "function _uploadFiles(inputId, outputId) {\n",
              "  const steps = uploadFilesStep(inputId, outputId);\n",
              "  const outputElement = document.getElementById(outputId);\n",
              "  // Cache steps on the outputElement to make it available for the next call\n",
              "  // to uploadFilesContinue from Python.\n",
              "  outputElement.steps = steps;\n",
              "\n",
              "  return _uploadFilesContinue(outputId);\n",
              "}\n",
              "\n",
              "// This is roughly an async generator (not supported in the browser yet),\n",
              "// where there are multiple asynchronous steps and the Python side is going\n",
              "// to poll for completion of each step.\n",
              "// This uses a Promise to block the python side on completion of each step,\n",
              "// then passes the result of the previous step as the input to the next step.\n",
              "function _uploadFilesContinue(outputId) {\n",
              "  const outputElement = document.getElementById(outputId);\n",
              "  const steps = outputElement.steps;\n",
              "\n",
              "  const next = steps.next(outputElement.lastPromiseValue);\n",
              "  return Promise.resolve(next.value.promise).then((value) => {\n",
              "    // Cache the last promise value to make it available to the next\n",
              "    // step of the generator.\n",
              "    outputElement.lastPromiseValue = value;\n",
              "    return next.value.response;\n",
              "  });\n",
              "}\n",
              "\n",
              "/**\n",
              " * Generator function which is called between each async step of the upload\n",
              " * process.\n",
              " * @param {string} inputId Element ID of the input file picker element.\n",
              " * @param {string} outputId Element ID of the output display.\n",
              " * @return {!Iterable<!Object>} Iterable of next steps.\n",
              " */\n",
              "function* uploadFilesStep(inputId, outputId) {\n",
              "  const inputElement = document.getElementById(inputId);\n",
              "  inputElement.disabled = false;\n",
              "\n",
              "  const outputElement = document.getElementById(outputId);\n",
              "  outputElement.innerHTML = '';\n",
              "\n",
              "  const pickedPromise = new Promise((resolve) => {\n",
              "    inputElement.addEventListener('change', (e) => {\n",
              "      resolve(e.target.files);\n",
              "    });\n",
              "  });\n",
              "\n",
              "  const cancel = document.createElement('button');\n",
              "  inputElement.parentElement.appendChild(cancel);\n",
              "  cancel.textContent = 'Cancel upload';\n",
              "  const cancelPromise = new Promise((resolve) => {\n",
              "    cancel.onclick = () => {\n",
              "      resolve(null);\n",
              "    };\n",
              "  });\n",
              "\n",
              "  // Wait for the user to pick the files.\n",
              "  const files = yield {\n",
              "    promise: Promise.race([pickedPromise, cancelPromise]),\n",
              "    response: {\n",
              "      action: 'starting',\n",
              "    }\n",
              "  };\n",
              "\n",
              "  cancel.remove();\n",
              "\n",
              "  // Disable the input element since further picks are not allowed.\n",
              "  inputElement.disabled = true;\n",
              "\n",
              "  if (!files) {\n",
              "    return {\n",
              "      response: {\n",
              "        action: 'complete',\n",
              "      }\n",
              "    };\n",
              "  }\n",
              "\n",
              "  for (const file of files) {\n",
              "    const li = document.createElement('li');\n",
              "    li.append(span(file.name, {fontWeight: 'bold'}));\n",
              "    li.append(span(\n",
              "        `(${file.type || 'n/a'}) - ${file.size} bytes, ` +\n",
              "        `last modified: ${\n",
              "            file.lastModifiedDate ? file.lastModifiedDate.toLocaleDateString() :\n",
              "                                    'n/a'} - `));\n",
              "    const percent = span('0% done');\n",
              "    li.appendChild(percent);\n",
              "\n",
              "    outputElement.appendChild(li);\n",
              "\n",
              "    const fileDataPromise = new Promise((resolve) => {\n",
              "      const reader = new FileReader();\n",
              "      reader.onload = (e) => {\n",
              "        resolve(e.target.result);\n",
              "      };\n",
              "      reader.readAsArrayBuffer(file);\n",
              "    });\n",
              "    // Wait for the data to be ready.\n",
              "    let fileData = yield {\n",
              "      promise: fileDataPromise,\n",
              "      response: {\n",
              "        action: 'continue',\n",
              "      }\n",
              "    };\n",
              "\n",
              "    // Use a chunked sending to avoid message size limits. See b/62115660.\n",
              "    let position = 0;\n",
              "    do {\n",
              "      const length = Math.min(fileData.byteLength - position, MAX_PAYLOAD_SIZE);\n",
              "      const chunk = new Uint8Array(fileData, position, length);\n",
              "      position += length;\n",
              "\n",
              "      const base64 = btoa(String.fromCharCode.apply(null, chunk));\n",
              "      yield {\n",
              "        response: {\n",
              "          action: 'append',\n",
              "          file: file.name,\n",
              "          data: base64,\n",
              "        },\n",
              "      };\n",
              "\n",
              "      let percentDone = fileData.byteLength === 0 ?\n",
              "          100 :\n",
              "          Math.round((position / fileData.byteLength) * 100);\n",
              "      percent.textContent = `${percentDone}% done`;\n",
              "\n",
              "    } while (position < fileData.byteLength);\n",
              "  }\n",
              "\n",
              "  // All done.\n",
              "  yield {\n",
              "    response: {\n",
              "      action: 'complete',\n",
              "    }\n",
              "  };\n",
              "}\n",
              "\n",
              "scope.google = scope.google || {};\n",
              "scope.google.colab = scope.google.colab || {};\n",
              "scope.google.colab._files = {\n",
              "  _uploadFiles,\n",
              "  _uploadFilesContinue,\n",
              "};\n",
              "})(self);\n",
              "</script> "
            ]
          },
          "metadata": {}
        },
        {
          "output_type": "stream",
          "name": "stdout",
          "text": [
            "Saving kaggle.json to kaggle.json\n"
          ]
        },
        {
          "output_type": "execute_result",
          "data": {
            "text/plain": [
              "{'kaggle.json': b'{\"username\":\"a01378649\",\"key\":\"1dca8bf62fee4ec115bdb3be7cbe32ca\"}'}"
            ]
          },
          "metadata": {},
          "execution_count": 2
        }
      ],
      "source": [
        "from google.colab import files\n",
        "files.upload()"
      ]
    },
    {
      "cell_type": "code",
      "execution_count": 4,
      "metadata": {
        "id": "T7__eIp5JS8N"
      },
      "outputs": [],
      "source": [
        "!rm -rf ~/.kaggle "
      ]
    },
    {
      "cell_type": "code",
      "execution_count": 5,
      "metadata": {
        "id": "y6YE08NGHQLD"
      },
      "outputs": [],
      "source": [
        "!mkdir ~/.kaggle\n",
        "!cp kaggle.json ~/.kaggle/\n",
        "!chmod 600 ~/.kaggle/kaggle.json"
      ]
    },
    {
      "cell_type": "code",
      "execution_count": 6,
      "metadata": {
        "colab": {
          "base_uri": "https://localhost:8080/"
        },
        "id": "1a1HpTU6HgMR",
        "outputId": "549f99b7-649f-4a99-d9b4-22fa623e8e8e"
      },
      "outputs": [
        {
          "output_type": "stream",
          "name": "stdout",
          "text": [
            "ref                                                             title                                                size  lastUpdated          downloadCount  voteCount  usabilityRating  \n",
            "--------------------------------------------------------------  --------------------------------------------------  -----  -------------------  -------------  ---------  ---------------  \n",
            "meirnizri/covid19-dataset                                       COVID-19 Dataset                                      5MB  2022-11-13 15:47:17           4854        154  1.0              \n",
            "mvieira101/global-cost-of-living                                Global Cost of Living                                 1MB  2022-12-03 16:37:53            699         34  0.9705882        \n",
            "akshaydattatraykhare/diabetes-dataset                           Diabetes Dataset                                      9KB  2022-10-06 08:55:25          21282        573  1.0              \n",
            "thedevastator/jobs-dataset-from-glassdoor                       Salary Prediction                                     3MB  2022-11-16 13:52:31           3313         79  1.0              \n",
            "fuarresvij/gdp-growth-around-the-globe                          GDP Growth around the Globe                         122KB  2022-11-22 00:36:28           1214         38  0.9411765        \n",
            "akshaydattatraykhare/data-for-admission-in-the-university       Data for Admission in the University                  4KB  2022-10-27 11:05:45           7124        159  1.0              \n",
            "arthurboari/taylor-swift-spotify-data                           Taylor Swift Spotify Data                            96KB  2022-11-21 13:46:01            726         27  0.9705882        \n",
            "dsfelix/us-stores-sales                                         US Stores Sales                                      84KB  2022-11-08 00:11:06           1776         30  1.0              \n",
            "thedevastator/fashion-products-on-amazon-ratings-prices-and-pa  Fashion Products on Amazon: Ratings, Prices, etc      8MB  2022-11-18 14:28:57           1306         34  1.0              \n",
            "whenamancodes/predict-diabities                                 Predict Diabetes                                      9KB  2022-11-09 12:18:49           3807         78  1.0              \n",
            "prosperchuks/health-dataset                                     Diabetes, Hypertension and Stroke Prediction        597KB  2022-11-23 10:04:03           1447         35  1.0              \n",
            "thedevastator/cancer-patients-and-air-pollution-a-new-link       Lung Cancer Prediction                               7KB  2022-11-14 13:40:40           2328         58  1.0              \n",
            "dbarteaux99/stable-diffusion-1-5                                Stable Diffusion 1.5 (normal and EMAonly) with vae    7GB  2022-10-23 15:40:29            102         20  0.9375           \n",
            "piterfm/fifa-football-world-cup                                 FIFA Football World Cup                              77KB  2022-12-04 12:20:48           1903         57  1.0              \n",
            "whenamancodes/credit-card-customers-prediction                  Credit Card Customers Prediction                    379KB  2022-10-30 13:03:27           4189         88  1.0              \n",
            "mukhazarahmad/worldwide-cancer-data                             Worldwide cancer data                                 2KB  2022-11-13 03:06:15            772         31  1.0              \n",
            "shilongzhuang/-women-clothing-ecommerce-sales-data              🏷️👚 Women Clothing Ecommerce Sales Data               5KB  2022-11-21 01:27:59            659         27  1.0              \n",
            "thedevastator/empowering-the-next-wave-of-entrepreneurs         US Startup companies over time (Timeseries)         974KB  2022-11-16 16:11:01            875         30  1.0              \n",
            "zvr842/global-pollution-by-counties                             Global pollution by counties                         15KB  2022-11-14 10:57:31           1865         41  0.9705882        \n",
            "dheerajmukati/india-gdp-19602022                                India GDP 1960-2022                                   1KB  2022-11-11 12:08:46           1516         48  1.0              \n"
          ]
        }
      ],
      "source": [
        "!kaggle datasets list"
      ]
    },
    {
      "cell_type": "markdown",
      "source": [
        "## Selección de dataset\n",
        "\n",
        "Se escogerá la base de SVHN que contiene imágenes RGB de números en diferentes lugares del mundo real. Asimismo, existe ruido alrededor como parte del ambiente, o incluso otros números. En este caso, solo nos interesa categorizar el número más centrado."
      ],
      "metadata": {
        "id": "cB51Hil1pFgK"
      }
    },
    {
      "cell_type": "code",
      "execution_count": null,
      "metadata": {
        "colab": {
          "base_uri": "https://localhost:8080/"
        },
        "id": "BoaxJc5JHhm1",
        "outputId": "ea3af18d-4cf1-41a3-eaea-dbeec5045a1f"
      },
      "outputs": [
        {
          "name": "stdout",
          "output_type": "stream",
          "text": [
            "svhndataset.zip: Skipping, found more recently modified local copy (use --force to force download)\n"
          ]
        }
      ],
      "source": [
        "!kaggle datasets download -d quanbk/svhndataset"
      ]
    },
    {
      "cell_type": "code",
      "execution_count": null,
      "metadata": {
        "colab": {
          "base_uri": "https://localhost:8080/"
        },
        "id": "psCD7RgMKZ0S",
        "outputId": "2bfe1f59-e29d-47fe-c1e8-a63b87925b88"
      },
      "outputs": [
        {
          "name": "stdout",
          "output_type": "stream",
          "text": [
            "Archive:  svhndataset.zip\n",
            "replace extra_32x32.mat? [y]es, [n]o, [A]ll, [N]one, [r]ename: n\n",
            "replace test_32x32.mat? [y]es, [n]o, [A]ll, [N]one, [r]ename: n\n",
            "replace train_32x32.mat? [y]es, [n]o, [A]ll, [N]one, [r]ename: n\n"
          ]
        }
      ],
      "source": [
        "!unzip svhndataset.zip"
      ]
    },
    {
      "cell_type": "code",
      "execution_count": 7,
      "metadata": {
        "id": "cDn4LUBcLODy"
      },
      "outputs": [],
      "source": [
        "import numpy as np\n",
        "import keras\n",
        "import seaborn as sns\n",
        "from matplotlib import pyplot as plt\n",
        "from scipy.io import loadmat\n",
        "from sklearn.model_selection import train_test_split\n",
        "from sklearn.preprocessing import LabelBinarizer\n",
        "from sklearn.metrics import confusion_matrix\n",
        "from keras.preprocessing.image import ImageDataGenerator\n",
        "from tensorflow import keras\n",
        "from keras import layers"
      ]
    },
    {
      "cell_type": "markdown",
      "source": [
        "La base de datos incluye por defecto el set de entrenamiento y prueba, no obstante, hace falta alinear los datos para ser consumidos por el modelo. (Formatear a NHWC)"
      ],
      "metadata": {
        "id": "8E_d5evcqewu"
      }
    },
    {
      "cell_type": "code",
      "execution_count": 10,
      "metadata": {
        "colab": {
          "base_uri": "https://localhost:8080/"
        },
        "id": "K9ISrO0TLy6p",
        "outputId": "1ca335a5-4e6c-47a3-acc8-c7f956e54f23"
      },
      "outputs": [
        {
          "output_type": "stream",
          "name": "stdout",
          "text": [
            "(32, 32, 3, 73257)\n",
            "(32, 32, 3, 26032)\n"
          ]
        }
      ],
      "source": [
        "# Load the data\n",
        "\n",
        "train_raw = loadmat('train_32x32.mat')\n",
        "test_raw = loadmat('test_32x32.mat')\n",
        "\n",
        "train_images = np.array(train_raw['X'])\n",
        "test_images = np.array(test_raw['X'])\n",
        "train_labels = train_raw['y']\n",
        "test_labels = test_raw['y']\n",
        "\n",
        "print(train_images.shape)\n",
        "print(test_images.shape)"
      ]
    },
    {
      "cell_type": "code",
      "execution_count": 11,
      "metadata": {
        "colab": {
          "base_uri": "https://localhost:8080/"
        },
        "id": "FckzIleXMrlO",
        "outputId": "2d20f15a-8980-4520-bd64-d06ab1d1768c"
      },
      "outputs": [
        {
          "output_type": "stream",
          "name": "stdout",
          "text": [
            "(73257, 32, 32, 3)\n",
            "(26032, 32, 32, 3)\n"
          ]
        }
      ],
      "source": [
        "train_images = np.moveaxis(train_images, -1, 0)\n",
        "test_images = np.moveaxis(test_images, -1, 0)\n",
        "\n",
        "print(train_images.shape)\n",
        "print(test_images.shape)"
      ]
    },
    {
      "cell_type": "markdown",
      "source": [
        "Como anteriormente se explica, aunque existan dos números, el label provisto solo hace referencia al número del centro."
      ],
      "metadata": {
        "id": "kVDKToQJfsFT"
      }
    },
    {
      "cell_type": "code",
      "execution_count": 12,
      "metadata": {
        "colab": {
          "base_uri": "https://localhost:8080/",
          "height": 284
        },
        "id": "KsR_bg7LOPMi",
        "outputId": "96a15e9b-97f9-4055-8d7e-892a063764e3"
      },
      "outputs": [
        {
          "output_type": "display_data",
          "data": {
            "text/plain": [
              "<Figure size 432x288 with 1 Axes>"
            ],
            "image/png": "[encoded data removed]"
          },
          "metadata": {
            "needs_background": "light"
          }
        },
        {
          "output_type": "stream",
          "name": "stdout",
          "text": [
            "Label:  [3]\n"
          ]
        }
      ],
      "source": [
        "#Probando que las imágenes se hayan cargado de manera correcta\n",
        "plt.imshow(train_images[8])\n",
        "plt.show()\n",
        "\n",
        "print('Label: ', train_labels[8])"
      ]
    },
    {
      "cell_type": "markdown",
      "source": [
        "Se utilizará One-Hot Encoding para representar las categorías (0 al 9)"
      ],
      "metadata": {
        "id": "AyXvAenYrNcj"
      }
    },
    {
      "cell_type": "code",
      "execution_count": 13,
      "metadata": {
        "id": "ERDX_jTDPBMH"
      },
      "outputs": [],
      "source": [
        "lb = LabelBinarizer()\n",
        "train_labels = lb.fit_transform(train_labels)\n",
        "test_labels = lb.fit_transform(test_labels)"
      ]
    },
    {
      "cell_type": "markdown",
      "source": [
        "Utilizaremos el set de entrenamiento inicial para crear el split de entrenamiento y validación para el modelo. (85% y 15% respectivamente)"
      ],
      "metadata": {
        "id": "axV4QekIsIBr"
      }
    },
    {
      "cell_type": "code",
      "execution_count": 14,
      "metadata": {
        "id": "6lW5FkLiPTkB"
      },
      "outputs": [],
      "source": [
        "X_train, X_val, y_train, y_val = train_test_split(train_images, train_labels,\n",
        "                                                  test_size=0.15, random_state=42)"
      ]
    },
    {
      "cell_type": "markdown",
      "source": [
        "Con esto confirmamos el número y dimensiones para los conjuntos de entrenamiento y validación."
      ],
      "metadata": {
        "id": "CzyfCPnBsCz0"
      }
    },
    {
      "cell_type": "code",
      "execution_count": 15,
      "metadata": {
        "colab": {
          "base_uri": "https://localhost:8080/"
        },
        "id": "xVHIZ6EuPoW9",
        "outputId": "5f692d89-eba1-42bf-9fe4-1857d6d92e3f"
      },
      "outputs": [
        {
          "output_type": "stream",
          "name": "stdout",
          "text": [
            "(62268, 32, 32, 3)\n",
            "(10989, 32, 32, 3)\n"
          ]
        }
      ],
      "source": [
        "print(X_train.shape)\n",
        "print(X_val.shape)"
      ]
    },
    {
      "cell_type": "markdown",
      "source": [
        "Para incrementar el dominio de la naturaleza de las imágenes, añadiremos una capa de data augmentation para prevenir overfitting. Cabe destacar que solo se aplica rotación y zoom aleatorios para no cambiar efectivamente la categoría de la imagen. Por ejemplo, no se le pone random flip porque el número dejaría de ser reconocible."
      ],
      "metadata": {
        "id": "zhItNXyOuJQT"
      }
    },
    {
      "cell_type": "code",
      "execution_count": 16,
      "metadata": {
        "id": "3oYsDF3ePxPh"
      },
      "outputs": [],
      "source": [
        "data_augmentation = keras.Sequential(\n",
        "    [\n",
        "        layers.RandomRotation(0.2),\n",
        "        layers.RandomZoom(0.2)\n",
        "    ]\n",
        ")"
      ]
    },
    {
      "cell_type": "markdown",
      "source": [
        "## Definición del modelo\n",
        "\n",
        "Se optó por el uso de una CNN tradicional de seis capas principales de convolución. Se utiliza BatchNormalization para establizar el comportamiento durante el entrenamiento. Además, Se utilizan capas de MaxPooling intermedias para realizar downsampling y agilizar el cómputo de predicciones, de igual manera, sirve para atenuar varianzas en la imagen como rotación o el zoom que puede suceder naturalmente. Igualmente, se añaden capas de Dropout para prevenir overfitting. \n",
        "\n",
        "Finalmente, los datos procesados son utilizados por una capa de softmax que predice la categoría."
      ],
      "metadata": {
        "id": "WT2u6zypu1vK"
      }
    },
    {
      "cell_type": "code",
      "execution_count": 17,
      "metadata": {
        "id": "e0gdumKVQeWh"
      },
      "outputs": [],
      "source": [
        "#Se define una función que regresa la arquitectura en limpio cada vez que se llama\n",
        "def Model1():\n",
        "    return keras.Sequential([\n",
        "    data_augmentation,\n",
        "    keras.layers.Conv2D(32, (3, 3), padding='same', \n",
        "                           activation='relu',\n",
        "                           input_shape=(32, 32, 3)),\n",
        "    keras.layers.BatchNormalization(),\n",
        "    keras.layers.Conv2D(32, (3, 3), padding='same', \n",
        "                        activation='relu'),\n",
        "    keras.layers.MaxPooling2D((2, 2)),\n",
        "    keras.layers.Dropout(0.3),\n",
        "    \n",
        "    keras.layers.Conv2D(32, (3, 3), padding='same', \n",
        "                           activation='relu'),\n",
        "    keras.layers.BatchNormalization(),\n",
        "    keras.layers.Conv2D(64, (3, 3), padding='same',\n",
        "                        activation='relu'),\n",
        "    keras.layers.MaxPooling2D((2, 2)),\n",
        "    keras.layers.Dropout(0.3),\n",
        "    \n",
        "    keras.layers.Conv2D(64, (3, 3), padding='same', \n",
        "                           activation='relu'),\n",
        "    keras.layers.BatchNormalization(),\n",
        "    keras.layers.Conv2D(64, (3, 3), padding='same',\n",
        "                        activation='relu'),\n",
        "    keras.layers.MaxPooling2D((2, 2)),\n",
        "    keras.layers.Dropout(0.3),\n",
        "    \n",
        "    keras.layers.Flatten(),\n",
        "    keras.layers.Dense(10,  activation='softmax')\n",
        "])"
      ]
    },
    {
      "cell_type": "markdown",
      "source": [
        "No se utilizó ninguna técnica en especial para determinar el mejor learning rate (hyperparameter tunning), no obstante se sabe que para las CNN éste tiene que ser particularmente bajo, por lo que se decidió establecerlo como 0.001."
      ],
      "metadata": {
        "id": "PQJt-hs7C6dY"
      }
    },
    {
      "cell_type": "code",
      "source": [
        "m1 = Model1()\n",
        "early_stopping = keras.callbacks.EarlyStopping(patience=8)\n",
        "optimizer = keras.optimizers.Adam(lr=0.001, amsgrad=True)\n",
        "m1.compile(optimizer=optimizer,\n",
        "              loss='categorical_crossentropy',\n",
        "              metrics=['accuracy'])"
      ],
      "metadata": {
        "colab": {
          "base_uri": "https://localhost:8080/"
        },
        "id": "HjqSpzhH0EKP",
        "outputId": "815863f2-240f-4414-91a7-9e72d82b2864"
      },
      "execution_count": 18,
      "outputs": [
        {
          "output_type": "stream",
          "name": "stderr",
          "text": [
            "/usr/local/lib/python3.8/dist-packages/keras/optimizers/optimizer_v2/adam.py:110: UserWarning: The `lr` argument is deprecated, use `learning_rate` instead.\n",
            "  super(Adam, self).__init__(name, **kwargs)\n"
          ]
        }
      ]
    },
    {
      "cell_type": "markdown",
      "source": [],
      "metadata": {
        "id": "4nN6VbCdC3zR"
      }
    },
    {
      "cell_type": "code",
      "execution_count": 20,
      "metadata": {
        "colab": {
          "base_uri": "https://localhost:8080/"
        },
        "id": "dB4Xh8vNilev",
        "outputId": "2d474115-af69-41f5-ca8f-a740010162c3"
      },
      "outputs": [
        {
          "output_type": "stream",
          "name": "stdout",
          "text": [
            "Epoch 1/40\n",
            "487/487 [==============================] - 17s 15ms/step - loss: 2.2588 - accuracy: 0.1971 - val_loss: 1.6696 - val_accuracy: 0.4624\n",
            "Epoch 2/40\n",
            "487/487 [==============================] - 7s 15ms/step - loss: 1.2731 - accuracy: 0.5689 - val_loss: 0.7322 - val_accuracy: 0.7662\n",
            "Epoch 3/40\n",
            "487/487 [==============================] - 9s 18ms/step - loss: 0.8175 - accuracy: 0.7376 - val_loss: 0.5490 - val_accuracy: 0.8264\n",
            "Epoch 4/40\n",
            "487/487 [==============================] - 7s 15ms/step - loss: 0.6888 - accuracy: 0.7802 - val_loss: 0.4973 - val_accuracy: 0.8428\n",
            "Epoch 5/40\n",
            "487/487 [==============================] - 7s 14ms/step - loss: 0.6303 - accuracy: 0.8014 - val_loss: 0.4714 - val_accuracy: 0.8502\n",
            "Epoch 6/40\n",
            "487/487 [==============================] - 7s 14ms/step - loss: 0.5862 - accuracy: 0.8145 - val_loss: 0.4984 - val_accuracy: 0.8420\n",
            "Epoch 7/40\n",
            "487/487 [==============================] - 7s 15ms/step - loss: 0.5636 - accuracy: 0.8225 - val_loss: 0.3846 - val_accuracy: 0.8814\n",
            "Epoch 8/40\n",
            "487/487 [==============================] - 7s 14ms/step - loss: 0.5429 - accuracy: 0.8300 - val_loss: 0.4085 - val_accuracy: 0.8739\n",
            "Epoch 9/40\n",
            "487/487 [==============================] - 7s 14ms/step - loss: 0.5208 - accuracy: 0.8371 - val_loss: 0.3813 - val_accuracy: 0.8839\n",
            "Epoch 10/40\n",
            "487/487 [==============================] - 8s 16ms/step - loss: 0.5098 - accuracy: 0.8393 - val_loss: 0.3671 - val_accuracy: 0.8899\n",
            "Epoch 11/40\n",
            "487/487 [==============================] - 7s 15ms/step - loss: 0.4967 - accuracy: 0.8446 - val_loss: 0.3544 - val_accuracy: 0.8917\n",
            "Epoch 12/40\n",
            "487/487 [==============================] - 7s 14ms/step - loss: 0.4844 - accuracy: 0.8481 - val_loss: 0.3454 - val_accuracy: 0.8957\n",
            "Epoch 13/40\n",
            "487/487 [==============================] - 7s 14ms/step - loss: 0.4794 - accuracy: 0.8519 - val_loss: 0.3444 - val_accuracy: 0.8961\n",
            "Epoch 14/40\n",
            "487/487 [==============================] - 7s 14ms/step - loss: 0.4681 - accuracy: 0.8546 - val_loss: 0.3935 - val_accuracy: 0.8811\n",
            "Epoch 15/40\n",
            "487/487 [==============================] - 9s 19ms/step - loss: 0.4635 - accuracy: 0.8563 - val_loss: 0.3419 - val_accuracy: 0.8968\n",
            "Epoch 16/40\n",
            "487/487 [==============================] - 8s 16ms/step - loss: 0.4636 - accuracy: 0.8580 - val_loss: 0.3349 - val_accuracy: 0.8998\n",
            "Epoch 17/40\n",
            "487/487 [==============================] - 9s 18ms/step - loss: 0.4522 - accuracy: 0.8600 - val_loss: 0.3412 - val_accuracy: 0.8974\n",
            "Epoch 18/40\n",
            "487/487 [==============================] - 7s 14ms/step - loss: 0.4460 - accuracy: 0.8618 - val_loss: 0.3227 - val_accuracy: 0.9066\n",
            "Epoch 19/40\n",
            "487/487 [==============================] - 7s 14ms/step - loss: 0.4406 - accuracy: 0.8634 - val_loss: 0.3693 - val_accuracy: 0.8869\n",
            "Epoch 20/40\n",
            "487/487 [==============================] - 7s 15ms/step - loss: 0.4380 - accuracy: 0.8636 - val_loss: 0.3221 - val_accuracy: 0.9029\n",
            "Epoch 21/40\n",
            "487/487 [==============================] - 8s 16ms/step - loss: 0.4290 - accuracy: 0.8670 - val_loss: 0.3138 - val_accuracy: 0.9062\n",
            "Epoch 22/40\n",
            "487/487 [==============================] - 7s 15ms/step - loss: 0.4304 - accuracy: 0.8657 - val_loss: 0.3208 - val_accuracy: 0.9068\n",
            "Epoch 23/40\n",
            "487/487 [==============================] - 7s 15ms/step - loss: 0.4254 - accuracy: 0.8695 - val_loss: 0.3345 - val_accuracy: 0.8995\n",
            "Epoch 24/40\n",
            "487/487 [==============================] - 8s 15ms/step - loss: 0.4217 - accuracy: 0.8700 - val_loss: 0.2999 - val_accuracy: 0.9106\n",
            "Epoch 25/40\n",
            "487/487 [==============================] - 8s 15ms/step - loss: 0.4169 - accuracy: 0.8715 - val_loss: 0.3217 - val_accuracy: 0.9019\n",
            "Epoch 26/40\n",
            "487/487 [==============================] - 9s 18ms/step - loss: 0.4201 - accuracy: 0.8702 - val_loss: 0.2991 - val_accuracy: 0.9119\n",
            "Epoch 27/40\n",
            "487/487 [==============================] - 7s 14ms/step - loss: 0.4109 - accuracy: 0.8723 - val_loss: 0.2909 - val_accuracy: 0.9170\n",
            "Epoch 28/40\n",
            "487/487 [==============================] - 8s 15ms/step - loss: 0.4109 - accuracy: 0.8742 - val_loss: 0.3086 - val_accuracy: 0.9099\n",
            "Epoch 29/40\n",
            "487/487 [==============================] - 8s 16ms/step - loss: 0.4071 - accuracy: 0.8748 - val_loss: 0.2951 - val_accuracy: 0.9153\n",
            "Epoch 30/40\n",
            "487/487 [==============================] - 8s 15ms/step - loss: 0.4021 - accuracy: 0.8769 - val_loss: 0.2871 - val_accuracy: 0.9161\n",
            "Epoch 31/40\n",
            "487/487 [==============================] - 8s 16ms/step - loss: 0.4016 - accuracy: 0.8768 - val_loss: 0.3064 - val_accuracy: 0.9128\n",
            "Epoch 32/40\n",
            "487/487 [==============================] - 8s 16ms/step - loss: 0.4009 - accuracy: 0.8774 - val_loss: 0.2928 - val_accuracy: 0.9140\n",
            "Epoch 33/40\n",
            "487/487 [==============================] - 8s 16ms/step - loss: 0.3997 - accuracy: 0.8774 - val_loss: 0.2847 - val_accuracy: 0.9143\n",
            "Epoch 34/40\n",
            "487/487 [==============================] - 7s 14ms/step - loss: 0.3965 - accuracy: 0.8774 - val_loss: 0.3001 - val_accuracy: 0.9107\n",
            "Epoch 35/40\n",
            "487/487 [==============================] - 7s 14ms/step - loss: 0.3923 - accuracy: 0.8779 - val_loss: 0.2918 - val_accuracy: 0.9166\n",
            "Epoch 36/40\n",
            "487/487 [==============================] - 7s 14ms/step - loss: 0.3932 - accuracy: 0.8779 - val_loss: 0.2831 - val_accuracy: 0.9180\n",
            "Epoch 37/40\n",
            "487/487 [==============================] - 7s 13ms/step - loss: 0.3886 - accuracy: 0.8801 - val_loss: 0.2866 - val_accuracy: 0.9170\n",
            "Epoch 38/40\n",
            "487/487 [==============================] - 7s 15ms/step - loss: 0.3883 - accuracy: 0.8812 - val_loss: 0.2835 - val_accuracy: 0.9162\n",
            "Epoch 39/40\n",
            "487/487 [==============================] - 7s 14ms/step - loss: 0.3840 - accuracy: 0.8814 - val_loss: 0.2747 - val_accuracy: 0.9213\n",
            "Epoch 40/40\n",
            "487/487 [==============================] - 7s 15ms/step - loss: 0.3868 - accuracy: 0.8803 - val_loss: 0.3565 - val_accuracy: 0.8891\n"
          ]
        }
      ],
      "source": [
        "history = m1.fit(X_train, y_train, batch_size=128,\n",
        "                              epochs=40, validation_data=(X_val, y_val),\n",
        "                              callbacks=[early_stopping]) "
      ]
    },
    {
      "cell_type": "code",
      "source": [
        "m1.summary()"
      ],
      "metadata": {
        "colab": {
          "base_uri": "https://localhost:8080/"
        },
        "id": "VwF2b6kRkRiQ",
        "outputId": "2b2eb81a-339f-4112-89f7-7b2c03b62cd4"
      },
      "execution_count": 21,
      "outputs": [
        {
          "output_type": "stream",
          "name": "stdout",
          "text": [
            "Model: \"sequential_1\"\n",
            "_________________________________________________________________\n",
            " Layer (type)                Output Shape              Param #   \n",
            "=================================================================\n",
            " sequential (Sequential)     (None, 32, 32, 3)         0         \n",
            "                                                                 \n",
            " conv2d (Conv2D)             (None, 32, 32, 32)        896       \n",
            "                                                                 \n",
            " batch_normalization (BatchN  (None, 32, 32, 32)       128       \n",
            " ormalization)                                                   \n",
            "                                                                 \n",
            " conv2d_1 (Conv2D)           (None, 32, 32, 32)        9248      \n",
            "                                                                 \n",
            " max_pooling2d (MaxPooling2D  (None, 16, 16, 32)       0         \n",
            " )                                                               \n",
            "                                                                 \n",
            " dropout (Dropout)           (None, 16, 16, 32)        0         \n",
            "                                                                 \n",
            " conv2d_2 (Conv2D)           (None, 16, 16, 32)        9248      \n",
            "                                                                 \n",
            " batch_normalization_1 (Batc  (None, 16, 16, 32)       128       \n",
            " hNormalization)                                                 \n",
            "                                                                 \n",
            " conv2d_3 (Conv2D)           (None, 16, 16, 64)        18496     \n",
            "                                                                 \n",
            " max_pooling2d_1 (MaxPooling  (None, 8, 8, 64)         0         \n",
            " 2D)                                                             \n",
            "                                                                 \n",
            " dropout_1 (Dropout)         (None, 8, 8, 64)          0         \n",
            "                                                                 \n",
            " conv2d_4 (Conv2D)           (None, 8, 8, 64)          36928     \n",
            "                                                                 \n",
            " batch_normalization_2 (Batc  (None, 8, 8, 64)         256       \n",
            " hNormalization)                                                 \n",
            "                                                                 \n",
            " conv2d_5 (Conv2D)           (None, 8, 8, 64)          36928     \n",
            "                                                                 \n",
            " max_pooling2d_2 (MaxPooling  (None, 4, 4, 64)         0         \n",
            " 2D)                                                             \n",
            "                                                                 \n",
            " dropout_2 (Dropout)         (None, 4, 4, 64)          0         \n",
            "                                                                 \n",
            " flatten (Flatten)           (None, 1024)              0         \n",
            "                                                                 \n",
            " dense (Dense)               (None, 10)                10250     \n",
            "                                                                 \n",
            "=================================================================\n",
            "Total params: 122,506\n",
            "Trainable params: 122,250\n",
            "Non-trainable params: 256\n",
            "_________________________________________________________________\n"
          ]
        }
      ]
    },
    {
      "cell_type": "markdown",
      "source": [
        "A continuación se muestra el accuracy del modelo, comparando su desempeño en el set de entrenamiento y validación. En este caso, se observa que ambos tienen pendiente positiva en todo momento. No existe una disparidad sustancial en ambas magnitudes por lo que no se trata de underfitting u overfitting. Cabe destacar que el accuracy de entrenamiento es más estable que el de validación, pero el segundo se mantiene lo suficiente para mantener la tendencia. Inclusive se puede apreciar menos variabilidad en las últimas épocas."
      ],
      "metadata": {
        "id": "_Ht4kw8dDugo"
      }
    },
    {
      "cell_type": "code",
      "source": [
        "train_acc = history.history['accuracy']\n",
        "val_acc = history.history['val_accuracy']\n",
        "\n",
        "plt.figure(figsize=(20, 10))\n",
        "\n",
        "plt.subplot(1, 2, 1)\n",
        "plt.plot(train_acc, label='Training Accuracy')\n",
        "plt.plot(val_acc, label='Validation Accuracy')\n",
        "plt.legend()\n",
        "plt.title('Epochs vs. Training and Validation Accuracy')"
      ],
      "metadata": {
        "colab": {
          "base_uri": "https://localhost:8080/",
          "height": 625
        },
        "id": "wuw3unbX0iXt",
        "outputId": "ca20109d-06fd-40c5-93b2-fd14255bad05"
      },
      "execution_count": 22,
      "outputs": [
        {
          "output_type": "execute_result",
          "data": {
            "text/plain": [
              "Text(0.5, 1.0, 'Epochs vs. Training and Validation Accuracy')"
            ]
          },
          "metadata": {},
          "execution_count": 22
        },
        {
          "output_type": "display_data",
          "data": {
            "text/plain": [
              "<Figure size 1440x720 with 1 Axes>"
            ],
            "image/png": "[encoded data removed]"
          },
          "metadata": {
            "needs_background": "light"
          }
        }
      ]
    },
    {
      "cell_type": "markdown",
      "source": [
        "## Evaluación del modelo\n",
        "\n",
        "Para apreciar el comportamiento del modelo durante y al final del entrenamiento, se utilizará el KFold cross-validation para analizar su consistencia. Para ello, se determinará el accuracy promedio y su desviación estándar de todas las instancias experimentales. En este caso, tanto un accuracy promedio alto y una desviación estándar baja (qué tan entrenable es) apuntan a un modelo con mejor desempeño."
      ],
      "metadata": {
        "id": "qW8NrobU0-D3"
      }
    },
    {
      "cell_type": "code",
      "source": [
        "from sklearn.model_selection import KFold"
      ],
      "metadata": {
        "id": "PPfeDmKk2RIz"
      },
      "execution_count": 23,
      "outputs": []
    },
    {
      "cell_type": "markdown",
      "source": [
        "En contraste a la primera instancia del modelo, cada iteración del KFold se entrenerán solo durante 30 épocas."
      ],
      "metadata": {
        "id": "jg6QfWmnGKTp"
      }
    },
    {
      "cell_type": "code",
      "source": [
        "#80% train y 20% validation\n",
        "n_split = 5\n",
        "k_eval = []\n",
        "\n",
        "for train_i ,val_i in KFold(n_split).split(train_images):\n",
        "  x_train,x_val= train_images[train_i], train_images[val_i]\n",
        "  y_t,y_v= train_labels[train_i], train_labels[val_i]\n",
        "\n",
        "  aux = Model1()\n",
        "\n",
        "  aux.compile(optimizer=optimizer,\n",
        "              loss='categorical_crossentropy',\n",
        "              metrics=['accuracy'])\n",
        "  \n",
        "  aux.fit(x_train, y_t,epochs=30)\n",
        "\n",
        "  eval = aux.evaluate(x_val,y_v)\n",
        "  k_eval.append(eval[1])\n",
        "\n",
        "print('Model evaluation ', eval)"
      ],
      "metadata": {
        "colab": {
          "base_uri": "https://localhost:8080/"
        },
        "id": "QTE3CkPk1_nM",
        "outputId": "77cd8912-3c39-4d79-974e-3dbd1c169319"
      },
      "execution_count": 24,
      "outputs": [
        {
          "output_type": "stream",
          "name": "stdout",
          "text": [
            "Epoch 1/30\n",
            "1832/1832 [==============================] - 14s 7ms/step - loss: 2.2361 - accuracy: 0.1990\n",
            "Epoch 2/30\n",
            "1832/1832 [==============================] - 13s 7ms/step - loss: 1.3373 - accuracy: 0.5490\n",
            "Epoch 3/30\n",
            "1832/1832 [==============================] - 13s 7ms/step - loss: 0.8466 - accuracy: 0.7276\n",
            "Epoch 4/30\n",
            "1832/1832 [==============================] - 13s 7ms/step - loss: 0.7314 - accuracy: 0.7672\n",
            "Epoch 5/30\n",
            "1832/1832 [==============================] - 14s 7ms/step - loss: 0.6687 - accuracy: 0.7891\n",
            "Epoch 6/30\n",
            "1832/1832 [==============================] - 13s 7ms/step - loss: 0.6327 - accuracy: 0.8005\n",
            "Epoch 7/30\n",
            "1832/1832 [==============================] - 12s 7ms/step - loss: 0.5984 - accuracy: 0.8102\n",
            "Epoch 8/30\n",
            "1832/1832 [==============================] - 12s 7ms/step - loss: 0.5797 - accuracy: 0.8178\n",
            "Epoch 9/30\n",
            "1832/1832 [==============================] - 12s 7ms/step - loss: 0.5562 - accuracy: 0.8242\n",
            "Epoch 10/30\n",
            "1832/1832 [==============================] - 12s 7ms/step - loss: 0.5385 - accuracy: 0.8302\n",
            "Epoch 11/30\n",
            "1832/1832 [==============================] - 12s 7ms/step - loss: 0.5292 - accuracy: 0.8347\n",
            "Epoch 12/30\n",
            "1832/1832 [==============================] - 12s 7ms/step - loss: 0.5220 - accuracy: 0.8365\n",
            "Epoch 13/30\n",
            "1832/1832 [==============================] - 12s 7ms/step - loss: 0.5133 - accuracy: 0.8407\n",
            "Epoch 14/30\n",
            "1832/1832 [==============================] - 12s 7ms/step - loss: 0.5014 - accuracy: 0.8426\n",
            "Epoch 15/30\n",
            "1832/1832 [==============================] - 12s 7ms/step - loss: 0.4920 - accuracy: 0.8458\n",
            "Epoch 16/30\n",
            "1832/1832 [==============================] - 12s 7ms/step - loss: 0.4895 - accuracy: 0.8471\n",
            "Epoch 17/30\n",
            "1832/1832 [==============================] - 12s 7ms/step - loss: 0.4805 - accuracy: 0.8494\n",
            "Epoch 18/30\n",
            "1832/1832 [==============================] - 13s 7ms/step - loss: 0.4748 - accuracy: 0.8529\n",
            "Epoch 19/30\n",
            "1832/1832 [==============================] - 12s 7ms/step - loss: 0.4720 - accuracy: 0.8536\n",
            "Epoch 20/30\n",
            "1832/1832 [==============================] - 12s 7ms/step - loss: 0.4726 - accuracy: 0.8550\n",
            "Epoch 21/30\n",
            "1832/1832 [==============================] - 12s 7ms/step - loss: 0.4560 - accuracy: 0.8575\n",
            "Epoch 22/30\n",
            "1832/1832 [==============================] - 12s 7ms/step - loss: 0.4580 - accuracy: 0.8569\n",
            "Epoch 23/30\n",
            "1832/1832 [==============================] - 12s 6ms/step - loss: 0.4514 - accuracy: 0.8600\n",
            "Epoch 24/30\n",
            "1832/1832 [==============================] - 12s 7ms/step - loss: 0.4517 - accuracy: 0.8600\n",
            "Epoch 25/30\n",
            "1832/1832 [==============================] - 12s 7ms/step - loss: 0.4449 - accuracy: 0.8623\n",
            "Epoch 26/30\n",
            "1832/1832 [==============================] - 12s 7ms/step - loss: 0.4392 - accuracy: 0.8646\n",
            "Epoch 27/30\n",
            "1832/1832 [==============================] - 12s 7ms/step - loss: 0.4419 - accuracy: 0.8642\n",
            "Epoch 28/30\n",
            "1832/1832 [==============================] - 12s 7ms/step - loss: 0.4346 - accuracy: 0.8655\n",
            "Epoch 29/30\n",
            "1832/1832 [==============================] - 12s 7ms/step - loss: 0.4365 - accuracy: 0.8654\n",
            "Epoch 30/30\n",
            "1832/1832 [==============================] - 12s 7ms/step - loss: 0.4319 - accuracy: 0.8654\n",
            "458/458 [==============================] - 2s 4ms/step - loss: 0.3104 - accuracy: 0.9103\n",
            "Epoch 1/30\n",
            "1832/1832 [==============================] - 13s 7ms/step - loss: 2.2430 - accuracy: 0.1913\n",
            "Epoch 2/30\n",
            "1832/1832 [==============================] - 12s 7ms/step - loss: 1.2870 - accuracy: 0.5685\n",
            "Epoch 3/30\n",
            "1832/1832 [==============================] - 12s 7ms/step - loss: 0.8226 - accuracy: 0.7348\n",
            "Epoch 4/30\n",
            "1832/1832 [==============================] - 12s 7ms/step - loss: 0.7072 - accuracy: 0.7747\n",
            "Epoch 5/30\n",
            "1832/1832 [==============================] - 12s 7ms/step - loss: 0.6512 - accuracy: 0.7938\n",
            "Epoch 6/30\n",
            "1832/1832 [==============================] - 12s 7ms/step - loss: 0.6146 - accuracy: 0.8068\n",
            "Epoch 7/30\n",
            "1832/1832 [==============================] - 12s 7ms/step - loss: 0.5863 - accuracy: 0.8134\n",
            "Epoch 8/30\n",
            "1832/1832 [==============================] - 12s 7ms/step - loss: 0.5622 - accuracy: 0.8233\n",
            "Epoch 9/30\n",
            "1832/1832 [==============================] - 12s 7ms/step - loss: 0.5481 - accuracy: 0.8271\n",
            "Epoch 10/30\n",
            "1832/1832 [==============================] - 12s 7ms/step - loss: 0.5281 - accuracy: 0.8354\n",
            "Epoch 11/30\n",
            "1832/1832 [==============================] - 12s 7ms/step - loss: 0.5196 - accuracy: 0.8363\n",
            "Epoch 12/30\n",
            "1832/1832 [==============================] - 12s 7ms/step - loss: 0.5071 - accuracy: 0.8413\n",
            "Epoch 13/30\n",
            "1832/1832 [==============================] - 13s 7ms/step - loss: 0.4978 - accuracy: 0.8455\n",
            "Epoch 14/30\n",
            "1832/1832 [==============================] - 12s 7ms/step - loss: 0.4854 - accuracy: 0.8478\n",
            "Epoch 15/30\n",
            "1832/1832 [==============================] - 12s 7ms/step - loss: 0.4851 - accuracy: 0.8485\n",
            "Epoch 16/30\n",
            "1832/1832 [==============================] - 12s 7ms/step - loss: 0.4779 - accuracy: 0.8513\n",
            "Epoch 17/30\n",
            "1832/1832 [==============================] - 12s 6ms/step - loss: 0.4674 - accuracy: 0.8538\n",
            "Epoch 18/30\n",
            "1832/1832 [==============================] - 12s 7ms/step - loss: 0.4651 - accuracy: 0.8560\n",
            "Epoch 19/30\n",
            "1832/1832 [==============================] - 12s 7ms/step - loss: 0.4593 - accuracy: 0.8591\n",
            "Epoch 20/30\n",
            "1832/1832 [==============================] - 12s 7ms/step - loss: 0.4538 - accuracy: 0.8586\n",
            "Epoch 21/30\n",
            "1832/1832 [==============================] - 12s 7ms/step - loss: 0.4503 - accuracy: 0.8609\n",
            "Epoch 22/30\n",
            "1832/1832 [==============================] - 12s 7ms/step - loss: 0.4474 - accuracy: 0.8633\n",
            "Epoch 23/30\n",
            "1832/1832 [==============================] - 12s 7ms/step - loss: 0.4402 - accuracy: 0.8620\n",
            "Epoch 24/30\n",
            "1832/1832 [==============================] - 12s 7ms/step - loss: 0.4410 - accuracy: 0.8619\n",
            "Epoch 25/30\n",
            "1832/1832 [==============================] - 12s 7ms/step - loss: 0.4356 - accuracy: 0.8638\n",
            "Epoch 26/30\n",
            "1832/1832 [==============================] - 12s 7ms/step - loss: 0.4334 - accuracy: 0.8667\n",
            "Epoch 27/30\n",
            "1832/1832 [==============================] - 13s 7ms/step - loss: 0.4265 - accuracy: 0.8690\n",
            "Epoch 28/30\n",
            "1832/1832 [==============================] - 12s 7ms/step - loss: 0.4217 - accuracy: 0.8707\n",
            "Epoch 29/30\n",
            "1832/1832 [==============================] - 12s 7ms/step - loss: 0.4207 - accuracy: 0.8694\n",
            "Epoch 30/30\n",
            "1832/1832 [==============================] - 12s 7ms/step - loss: 0.4233 - accuracy: 0.8700\n",
            "458/458 [==============================] - 2s 3ms/step - loss: 0.3227 - accuracy: 0.9032\n",
            "Epoch 1/30\n",
            "1832/1832 [==============================] - 14s 7ms/step - loss: 2.2415 - accuracy: 0.1878\n",
            "Epoch 2/30\n",
            "1832/1832 [==============================] - 12s 7ms/step - loss: 1.4428 - accuracy: 0.5046\n",
            "Epoch 3/30\n",
            "1832/1832 [==============================] - 12s 7ms/step - loss: 0.8513 - accuracy: 0.7231\n",
            "Epoch 4/30\n",
            "1832/1832 [==============================] - 12s 7ms/step - loss: 0.7345 - accuracy: 0.7643\n",
            "Epoch 5/30\n",
            "1832/1832 [==============================] - 12s 7ms/step - loss: 0.6715 - accuracy: 0.7867\n",
            "Epoch 6/30\n",
            "1832/1832 [==============================] - 12s 7ms/step - loss: 0.6244 - accuracy: 0.8030\n",
            "Epoch 7/30\n",
            "1832/1832 [==============================] - 12s 7ms/step - loss: 0.6013 - accuracy: 0.8088\n",
            "Epoch 8/30\n",
            "1832/1832 [==============================] - 12s 7ms/step - loss: 0.5809 - accuracy: 0.8170\n",
            "Epoch 9/30\n",
            "1832/1832 [==============================] - 12s 7ms/step - loss: 0.5609 - accuracy: 0.8241\n",
            "Epoch 10/30\n",
            "1832/1832 [==============================] - 13s 7ms/step - loss: 0.5416 - accuracy: 0.8300\n",
            "Epoch 11/30\n",
            "1832/1832 [==============================] - 12s 7ms/step - loss: 0.5332 - accuracy: 0.8333\n",
            "Epoch 12/30\n",
            "1832/1832 [==============================] - 12s 7ms/step - loss: 0.5168 - accuracy: 0.8390\n",
            "Epoch 13/30\n",
            "1832/1832 [==============================] - 12s 7ms/step - loss: 0.5083 - accuracy: 0.8399\n",
            "Epoch 14/30\n",
            "1832/1832 [==============================] - 12s 7ms/step - loss: 0.5043 - accuracy: 0.8418\n",
            "Epoch 15/30\n",
            "1832/1832 [==============================] - 12s 7ms/step - loss: 0.4952 - accuracy: 0.8468\n",
            "Epoch 16/30\n",
            "1832/1832 [==============================] - 12s 7ms/step - loss: 0.4885 - accuracy: 0.8479\n",
            "Epoch 17/30\n",
            "1832/1832 [==============================] - 12s 6ms/step - loss: 0.4802 - accuracy: 0.8491\n",
            "Epoch 18/30\n",
            "1832/1832 [==============================] - 12s 7ms/step - loss: 0.4703 - accuracy: 0.8530\n",
            "Epoch 19/30\n",
            "1832/1832 [==============================] - 12s 7ms/step - loss: 0.4646 - accuracy: 0.8564\n",
            "Epoch 20/30\n",
            "1832/1832 [==============================] - 12s 6ms/step - loss: 0.4603 - accuracy: 0.8574\n",
            "Epoch 21/30\n",
            "1832/1832 [==============================] - 12s 6ms/step - loss: 0.4603 - accuracy: 0.8572\n",
            "Epoch 22/30\n",
            "1832/1832 [==============================] - 12s 7ms/step - loss: 0.4582 - accuracy: 0.8586\n",
            "Epoch 23/30\n",
            "1832/1832 [==============================] - 13s 7ms/step - loss: 0.4500 - accuracy: 0.8605\n",
            "Epoch 24/30\n",
            "1832/1832 [==============================] - 12s 7ms/step - loss: 0.4452 - accuracy: 0.8622\n",
            "Epoch 25/30\n",
            "1832/1832 [==============================] - 12s 6ms/step - loss: 0.4456 - accuracy: 0.8618\n",
            "Epoch 26/30\n",
            "1832/1832 [==============================] - 12s 6ms/step - loss: 0.4437 - accuracy: 0.8628\n",
            "Epoch 27/30\n",
            "1832/1832 [==============================] - 12s 6ms/step - loss: 0.4381 - accuracy: 0.8644\n",
            "Epoch 28/30\n",
            "1832/1832 [==============================] - 12s 7ms/step - loss: 0.4333 - accuracy: 0.8670\n",
            "Epoch 29/30\n",
            "1832/1832 [==============================] - 12s 7ms/step - loss: 0.4313 - accuracy: 0.8674\n",
            "Epoch 30/30\n",
            "1832/1832 [==============================] - 12s 6ms/step - loss: 0.4249 - accuracy: 0.8676\n",
            "458/458 [==============================] - 2s 3ms/step - loss: 0.3174 - accuracy: 0.9070\n",
            "Epoch 1/30\n",
            "1832/1832 [==============================] - 13s 7ms/step - loss: 2.2337 - accuracy: 0.1937\n",
            "Epoch 2/30\n",
            "1832/1832 [==============================] - 12s 7ms/step - loss: 1.3078 - accuracy: 0.5551\n",
            "Epoch 3/30\n",
            "1832/1832 [==============================] - 12s 7ms/step - loss: 0.8186 - accuracy: 0.7357\n",
            "Epoch 4/30\n",
            "1832/1832 [==============================] - 12s 7ms/step - loss: 0.7114 - accuracy: 0.7730\n",
            "Epoch 5/30\n",
            "1832/1832 [==============================] - 12s 7ms/step - loss: 0.6468 - accuracy: 0.7966\n",
            "Epoch 6/30\n",
            "1832/1832 [==============================] - 13s 7ms/step - loss: 0.6046 - accuracy: 0.8080\n",
            "Epoch 7/30\n",
            "1832/1832 [==============================] - 12s 7ms/step - loss: 0.5807 - accuracy: 0.8177\n",
            "Epoch 8/30\n",
            "1832/1832 [==============================] - 12s 7ms/step - loss: 0.5622 - accuracy: 0.8244\n",
            "Epoch 9/30\n",
            "1832/1832 [==============================] - 12s 7ms/step - loss: 0.5401 - accuracy: 0.8312\n",
            "Epoch 10/30\n",
            "1832/1832 [==============================] - 12s 7ms/step - loss: 0.5278 - accuracy: 0.8341\n",
            "Epoch 11/30\n",
            "1832/1832 [==============================] - 12s 7ms/step - loss: 0.5129 - accuracy: 0.8396\n",
            "Epoch 12/30\n",
            "1832/1832 [==============================] - 12s 7ms/step - loss: 0.5053 - accuracy: 0.8422\n",
            "Epoch 13/30\n",
            "1832/1832 [==============================] - 12s 7ms/step - loss: 0.4966 - accuracy: 0.8459\n",
            "Epoch 14/30\n",
            "1832/1832 [==============================] - 12s 7ms/step - loss: 0.4843 - accuracy: 0.8484\n",
            "Epoch 15/30\n",
            "1832/1832 [==============================] - 12s 7ms/step - loss: 0.4768 - accuracy: 0.8514\n",
            "Epoch 16/30\n",
            "1832/1832 [==============================] - 12s 7ms/step - loss: 0.4717 - accuracy: 0.8534\n",
            "Epoch 17/30\n",
            "1832/1832 [==============================] - 12s 7ms/step - loss: 0.4663 - accuracy: 0.8557\n",
            "Epoch 18/30\n",
            "1832/1832 [==============================] - 12s 7ms/step - loss: 0.4601 - accuracy: 0.8576\n",
            "Epoch 19/30\n",
            "1832/1832 [==============================] - 12s 7ms/step - loss: 0.4521 - accuracy: 0.8608\n",
            "Epoch 20/30\n",
            "1832/1832 [==============================] - 14s 7ms/step - loss: 0.4544 - accuracy: 0.8604\n",
            "Epoch 21/30\n",
            "1832/1832 [==============================] - 12s 7ms/step - loss: 0.4412 - accuracy: 0.8634\n",
            "Epoch 22/30\n",
            "1832/1832 [==============================] - 13s 7ms/step - loss: 0.4428 - accuracy: 0.8637\n",
            "Epoch 23/30\n",
            "1832/1832 [==============================] - 12s 7ms/step - loss: 0.4368 - accuracy: 0.8649\n",
            "Epoch 24/30\n",
            "1832/1832 [==============================] - 12s 7ms/step - loss: 0.4297 - accuracy: 0.8658\n",
            "Epoch 25/30\n",
            "1832/1832 [==============================] - 12s 7ms/step - loss: 0.4324 - accuracy: 0.8670\n",
            "Epoch 26/30\n",
            "1832/1832 [==============================] - 12s 7ms/step - loss: 0.4298 - accuracy: 0.8670\n",
            "Epoch 27/30\n",
            "1832/1832 [==============================] - 12s 7ms/step - loss: 0.4261 - accuracy: 0.8685\n",
            "Epoch 28/30\n",
            "1832/1832 [==============================] - 12s 7ms/step - loss: 0.4230 - accuracy: 0.8684\n",
            "Epoch 29/30\n",
            "1832/1832 [==============================] - 12s 7ms/step - loss: 0.4212 - accuracy: 0.8702\n",
            "Epoch 30/30\n",
            "1832/1832 [==============================] - 12s 7ms/step - loss: 0.4156 - accuracy: 0.8720\n",
            "458/458 [==============================] - 2s 3ms/step - loss: 0.3204 - accuracy: 0.9055\n",
            "Epoch 1/30\n",
            "1832/1832 [==============================] - 15s 8ms/step - loss: 2.2563 - accuracy: 0.1868\n",
            "Epoch 2/30\n",
            "1832/1832 [==============================] - 12s 7ms/step - loss: 2.0091 - accuracy: 0.2843\n",
            "Epoch 3/30\n",
            "1832/1832 [==============================] - 12s 7ms/step - loss: 1.0259 - accuracy: 0.6633\n",
            "Epoch 4/30\n",
            "1832/1832 [==============================] - 12s 7ms/step - loss: 0.7774 - accuracy: 0.7502\n",
            "Epoch 5/30\n",
            "1832/1832 [==============================] - 12s 7ms/step - loss: 0.6869 - accuracy: 0.7825\n",
            "Epoch 6/30\n",
            "1832/1832 [==============================] - 13s 7ms/step - loss: 0.6345 - accuracy: 0.8006\n",
            "Epoch 7/30\n",
            "1832/1832 [==============================] - 13s 7ms/step - loss: 0.6052 - accuracy: 0.8104\n",
            "Epoch 8/30\n",
            "1832/1832 [==============================] - 12s 7ms/step - loss: 0.5828 - accuracy: 0.8180\n",
            "Epoch 9/30\n",
            "1832/1832 [==============================] - 12s 7ms/step - loss: 0.5607 - accuracy: 0.8229\n",
            "Epoch 10/30\n",
            "1832/1832 [==============================] - 12s 7ms/step - loss: 0.5398 - accuracy: 0.8323\n",
            "Epoch 11/30\n",
            "1832/1832 [==============================] - 12s 7ms/step - loss: 0.5286 - accuracy: 0.8333\n",
            "Epoch 12/30\n",
            "1832/1832 [==============================] - 12s 7ms/step - loss: 0.5134 - accuracy: 0.8399\n",
            "Epoch 13/30\n",
            "1832/1832 [==============================] - 13s 7ms/step - loss: 0.5105 - accuracy: 0.8403\n",
            "Epoch 14/30\n",
            "1832/1832 [==============================] - 13s 7ms/step - loss: 0.4979 - accuracy: 0.8455\n",
            "Epoch 15/30\n",
            "1832/1832 [==============================] - 13s 7ms/step - loss: 0.4913 - accuracy: 0.8469\n",
            "Epoch 16/30\n",
            "1832/1832 [==============================] - 13s 7ms/step - loss: 0.4772 - accuracy: 0.8516\n",
            "Epoch 17/30\n",
            "1832/1832 [==============================] - 12s 7ms/step - loss: 0.4742 - accuracy: 0.8532\n",
            "Epoch 18/30\n",
            "1832/1832 [==============================] - 12s 7ms/step - loss: 0.4656 - accuracy: 0.8567\n",
            "Epoch 19/30\n",
            "1832/1832 [==============================] - 12s 7ms/step - loss: 0.4634 - accuracy: 0.8568\n",
            "Epoch 20/30\n",
            "1832/1832 [==============================] - 12s 7ms/step - loss: 0.4533 - accuracy: 0.8607\n",
            "Epoch 21/30\n",
            "1832/1832 [==============================] - 13s 7ms/step - loss: 0.4517 - accuracy: 0.8596\n",
            "Epoch 22/30\n",
            "1832/1832 [==============================] - 12s 7ms/step - loss: 0.4490 - accuracy: 0.8611\n",
            "Epoch 23/30\n",
            "1832/1832 [==============================] - 12s 7ms/step - loss: 0.4431 - accuracy: 0.8622\n",
            "Epoch 24/30\n",
            "1832/1832 [==============================] - 13s 7ms/step - loss: 0.4400 - accuracy: 0.8639\n",
            "Epoch 25/30\n",
            "1832/1832 [==============================] - 13s 7ms/step - loss: 0.4369 - accuracy: 0.8655\n",
            "Epoch 26/30\n",
            "1832/1832 [==============================] - 12s 7ms/step - loss: 0.4331 - accuracy: 0.8679\n",
            "Epoch 27/30\n",
            "1832/1832 [==============================] - 13s 7ms/step - loss: 0.4298 - accuracy: 0.8674\n",
            "Epoch 28/30\n",
            "1832/1832 [==============================] - 12s 7ms/step - loss: 0.4281 - accuracy: 0.8670\n",
            "Epoch 29/30\n",
            "1832/1832 [==============================] - 12s 7ms/step - loss: 0.4263 - accuracy: 0.8693\n",
            "Epoch 30/30\n",
            "1832/1832 [==============================] - 12s 7ms/step - loss: 0.4237 - accuracy: 0.8699\n",
            "458/458 [==============================] - 2s 3ms/step - loss: 0.2975 - accuracy: 0.9152\n",
            "Model evaluation  [0.29751813411712646, 0.9151594042778015]\n"
          ]
        }
      ]
    },
    {
      "cell_type": "markdown",
      "source": [
        "Un accuracy de 90 puede ser considerado como plausible dependiendo de la tarea que se le asigne. De igual manera, la razón entre la desviación estándar de la media apuntan a que dicho accuracy posee una estabilidad sustancial (<1%)."
      ],
      "metadata": {
        "id": "UqLrzQGjGEhR"
      }
    },
    {
      "cell_type": "code",
      "source": [
        "result = np.array(k_eval)\n",
        "print(\"Mean accuracy: \", result.mean())\n",
        "print(\"Standard deviation: \", result.std())"
      ],
      "metadata": {
        "colab": {
          "base_uri": "https://localhost:8080/"
        },
        "id": "mUUEIboYKyDo",
        "outputId": "3b7741ef-dbf8-499f-aa96-02bec1c6003c"
      },
      "execution_count": 25,
      "outputs": [
        {
          "output_type": "stream",
          "name": "stdout",
          "text": [
            "Mean accuracy:  0.9082136034965516\n",
            "Standard deviation:  0.004157153818691504\n"
          ]
        }
      ]
    },
    {
      "cell_type": "markdown",
      "source": [
        "Se muestan los resultados sobre el set de prueba provisto por el dataset. Es notable que tuvo un accuracy sustancialmente más alto que el promedio del KFold. Esto puede deberse a la capa de data augmentation que altera las imágenes para prevenir overfitting sobre el set de entrenamiento, pero que resulta benéfico para su desempeño en datos no vistos previamente."
      ],
      "metadata": {
        "id": "UkIBwHgNHJH6"
      }
    },
    {
      "cell_type": "code",
      "source": [
        "test_loss, test_acc = m1.evaluate(x=test_images, y=test_labels, verbose=0)\n",
        "\n",
        "print('Test accuracy is: {:0.4f} \\nTest loss is: {:0.4f}'.\n",
        "      format(test_acc, test_loss))"
      ],
      "metadata": {
        "id": "_8yGk8oT08qM",
        "colab": {
          "base_uri": "https://localhost:8080/"
        },
        "outputId": "425ea771-fd47-48ee-84e5-4322159bffd4"
      },
      "execution_count": 26,
      "outputs": [
        {
          "output_type": "stream",
          "name": "stdout",
          "text": [
            "Test accuracy is: 0.9002 \n",
            "Test loss is: 0.3368\n"
          ]
        }
      ]
    },
    {
      "cell_type": "markdown",
      "source": [
        "# Segundo modelo (posibles mejoras)\n",
        "\n",
        "### Hacer la red más profunda\n",
        "\n",
        "El primer modelo consta de 6 capas de convolusión, 3 con un tamaño de output de 32 y 3 de tamaño de 64. Entonces, una primera propuesta es hacer la red más profunda agregando otras tres capas de convolusión con tamaño de output mayor (128), para que se mantenga la complejidad de las capas intermedias. (densidad de output intermedio). Esto implica tener más parámetros para interpretar diferencias más sutiles.\n",
        "\n",
        "### Agregar skip connections\n",
        "\n",
        "Al hacer la red más profunda nos podemos encontrar con problemas de variabilidad no deseada en el gradiente de la función de costo (shattered gradient), por lo que conexiones residuales pueden ayudar a aminorar este fenómeno.\n",
        "\n",
        "### Agregar una capa densa al final\n",
        "\n",
        "Aunque es posible que una red densa provoque overfitting al aprender las características proporcionadas por las CNN, podría ser útil para mejorar el accuracy un poco más en caso de que la CNN por sí sola no alcance resultados deseados.\n",
        "\n",
        "### Alinear Max-Pooling con la red que incrementa el número de kernels\n",
        "\n",
        "Aunque el beneficio no sea asegurado, se puede interpretar como la multiplicación del número de celdas que un kernel \"ve\" en cada uno de los inputs y el número de kernel per se. Si se mantiene el número de kernels después de un Max Pooling, dichos kernels verán una simplificación de los inputs anteriores y probablemente carezcan de información valiosa, y esto se propagará a las capas siguientes. Esto asume que la información perdida por el Max Pooling en efecto es significativa, pero se sigue tomando las ventajas del pooling aplicándolo en un momento más oportuno.\n"
      ],
      "metadata": {
        "id": "HkKTPxfqIAiB"
      }
    },
    {
      "cell_type": "code",
      "execution_count": 27,
      "metadata": {
        "id": "bC3kSRUTmKo7"
      },
      "outputs": [],
      "source": [
        "def M2():    \n",
        "    input = keras.Input(shape=(32, 32, 3))\n",
        "\n",
        "    data_augmentation = keras.Sequential(\n",
        "        [\n",
        "            layers.RandomRotation(0.2),\n",
        "            layers.RandomZoom(0.2),\n",
        "        ]\n",
        "    )\n",
        "\n",
        "    x = data_augmentation(input)\n",
        "\n",
        "    x = layers.Rescaling(1./255)(x)\n",
        "\n",
        "    for size in [32, 64, 128]:\n",
        "        residual = x\n",
        "        x = layers.BatchNormalization()(x)\n",
        "        x = layers.Conv2D(size, 3, padding=\"same\", use_bias=False)(x)\n",
        "        x = layers.Activation(\"relu\")(x)\n",
        "\n",
        "        x = layers.Dropout(0.3)(x)\n",
        "        x = layers.Conv2D(size, 3, padding=\"same\", use_bias=False)(x)\n",
        "        x = layers.Activation(\"relu\")(x)\n",
        "\n",
        "        x = layers.BatchNormalization()(x)\n",
        "        x = layers.Conv2D(size, 3, padding=\"same\", use_bias=False)(x)\n",
        "        x = layers.Activation(\"relu\")(x)\n",
        "\n",
        "        x = layers.MaxPooling2D(3, strides=2, padding=\"same\")(x)\n",
        "        x = layers.Dropout(0.3)(x)\n",
        "        \n",
        "\n",
        "        residual = layers.Conv2D(\n",
        "            size, 1, strides=2, padding=\"same\", use_bias=False)(residual)\n",
        "\n",
        "        x = layers.add([x, residual])\n",
        "\n",
        "    x = layers.BatchNormalization()(x)\n",
        "    x = layers.Flatten()(x)\n",
        "    x = layers.Dense(256, activation=\"relu\")(x)\n",
        "    outputs = layers.Dense(10, activation=\"softmax\")(x)\n",
        "    model2 = keras.Model(inputs=input, outputs=outputs)\n",
        "    return model2\n",
        "\n",
        "model2 = M2()"
      ]
    },
    {
      "cell_type": "markdown",
      "source": [
        "Al tratarse de una red algo más profunda, se reducirá un poco el learning rate respecto al anterior para aminorar un posible fenómento de exploding gradient."
      ],
      "metadata": {
        "id": "IFUqj81YYkDb"
      }
    },
    {
      "cell_type": "code",
      "execution_count": 28,
      "metadata": {
        "id": "vUPHuUW8muCQ",
        "colab": {
          "base_uri": "https://localhost:8080/"
        },
        "outputId": "84bca1a9-d003-4fc2-89b7-292367981d5e"
      },
      "outputs": [
        {
          "output_type": "stream",
          "name": "stderr",
          "text": [
            "/usr/local/lib/python3.8/dist-packages/keras/optimizers/optimizer_v2/adam.py:110: UserWarning: The `lr` argument is deprecated, use `learning_rate` instead.\n",
            "  super(Adam, self).__init__(name, **kwargs)\n"
          ]
        }
      ],
      "source": [
        "early_stopping = keras.callbacks.EarlyStopping(patience=8)\n",
        "optimizer = keras.optimizers.Adam(lr=.0008, amsgrad=True)\n",
        "model2.compile(optimizer=optimizer,\n",
        "              loss='categorical_crossentropy',\n",
        "              metrics=['accuracy'])"
      ]
    },
    {
      "cell_type": "code",
      "execution_count": 29,
      "metadata": {
        "colab": {
          "base_uri": "https://localhost:8080/"
        },
        "id": "0H_wVQEWm2Vi",
        "outputId": "584113be-3157-4d41-eb70-3218cc866df1"
      },
      "outputs": [
        {
          "output_type": "stream",
          "name": "stdout",
          "text": [
            "Epoch 1/40\n",
            "487/487 [==============================] - 14s 26ms/step - loss: 2.2382 - accuracy: 0.1939 - val_loss: 1.8839 - val_accuracy: 0.3352\n",
            "Epoch 2/40\n",
            "487/487 [==============================] - 12s 25ms/step - loss: 1.2304 - accuracy: 0.5842 - val_loss: 0.5994 - val_accuracy: 0.8114\n",
            "Epoch 3/40\n",
            "487/487 [==============================] - 12s 25ms/step - loss: 0.6948 - accuracy: 0.7756 - val_loss: 0.4943 - val_accuracy: 0.8438\n",
            "Epoch 4/40\n",
            "487/487 [==============================] - 12s 25ms/step - loss: 0.5620 - accuracy: 0.8201 - val_loss: 0.3786 - val_accuracy: 0.8843\n",
            "Epoch 5/40\n",
            "487/487 [==============================] - 12s 25ms/step - loss: 0.4983 - accuracy: 0.8443 - val_loss: 0.3604 - val_accuracy: 0.8907\n",
            "Epoch 6/40\n",
            "487/487 [==============================] - 12s 25ms/step - loss: 0.4608 - accuracy: 0.8564 - val_loss: 0.3346 - val_accuracy: 0.8984\n",
            "Epoch 7/40\n",
            "487/487 [==============================] - 12s 25ms/step - loss: 0.4326 - accuracy: 0.8660 - val_loss: 0.3095 - val_accuracy: 0.9078\n",
            "Epoch 8/40\n",
            "487/487 [==============================] - 12s 25ms/step - loss: 0.4140 - accuracy: 0.8711 - val_loss: 0.3085 - val_accuracy: 0.9089\n",
            "Epoch 9/40\n",
            "487/487 [==============================] - 12s 25ms/step - loss: 0.3932 - accuracy: 0.8786 - val_loss: 0.2798 - val_accuracy: 0.9161\n",
            "Epoch 10/40\n",
            "487/487 [==============================] - 12s 25ms/step - loss: 0.3773 - accuracy: 0.8833 - val_loss: 0.2818 - val_accuracy: 0.9179\n",
            "Epoch 11/40\n",
            "487/487 [==============================] - 12s 25ms/step - loss: 0.3691 - accuracy: 0.8867 - val_loss: 0.2784 - val_accuracy: 0.9150\n",
            "Epoch 12/40\n",
            "487/487 [==============================] - 12s 25ms/step - loss: 0.3544 - accuracy: 0.8902 - val_loss: 0.2596 - val_accuracy: 0.9230\n",
            "Epoch 13/40\n",
            "487/487 [==============================] - 12s 25ms/step - loss: 0.3470 - accuracy: 0.8930 - val_loss: 0.2813 - val_accuracy: 0.9166\n",
            "Epoch 14/40\n",
            "487/487 [==============================] - 12s 25ms/step - loss: 0.3399 - accuracy: 0.8961 - val_loss: 0.2590 - val_accuracy: 0.9220\n",
            "Epoch 15/40\n",
            "487/487 [==============================] - 12s 25ms/step - loss: 0.3325 - accuracy: 0.8987 - val_loss: 0.2546 - val_accuracy: 0.9234\n",
            "Epoch 16/40\n",
            "487/487 [==============================] - 12s 25ms/step - loss: 0.3268 - accuracy: 0.9001 - val_loss: 0.2553 - val_accuracy: 0.9249\n",
            "Epoch 17/40\n",
            "487/487 [==============================] - 12s 25ms/step - loss: 0.3177 - accuracy: 0.9029 - val_loss: 0.2614 - val_accuracy: 0.9232\n",
            "Epoch 18/40\n",
            "487/487 [==============================] - 12s 25ms/step - loss: 0.3113 - accuracy: 0.9042 - val_loss: 0.2395 - val_accuracy: 0.9284\n",
            "Epoch 19/40\n",
            "487/487 [==============================] - 12s 25ms/step - loss: 0.3146 - accuracy: 0.9034 - val_loss: 0.2402 - val_accuracy: 0.9291\n",
            "Epoch 20/40\n",
            "487/487 [==============================] - 12s 25ms/step - loss: 0.3059 - accuracy: 0.9056 - val_loss: 0.2382 - val_accuracy: 0.9307\n",
            "Epoch 21/40\n",
            "487/487 [==============================] - 12s 25ms/step - loss: 0.3032 - accuracy: 0.9070 - val_loss: 0.2305 - val_accuracy: 0.9325\n",
            "Epoch 22/40\n",
            "487/487 [==============================] - 12s 25ms/step - loss: 0.2968 - accuracy: 0.9100 - val_loss: 0.2387 - val_accuracy: 0.9301\n",
            "Epoch 23/40\n",
            "487/487 [==============================] - 12s 26ms/step - loss: 0.2892 - accuracy: 0.9111 - val_loss: 0.2330 - val_accuracy: 0.9328\n",
            "Epoch 24/40\n",
            "487/487 [==============================] - 12s 25ms/step - loss: 0.2865 - accuracy: 0.9128 - val_loss: 0.2292 - val_accuracy: 0.9364\n",
            "Epoch 25/40\n",
            "487/487 [==============================] - 12s 25ms/step - loss: 0.2834 - accuracy: 0.9138 - val_loss: 0.2299 - val_accuracy: 0.9338\n",
            "Epoch 26/40\n",
            "487/487 [==============================] - 12s 25ms/step - loss: 0.2823 - accuracy: 0.9145 - val_loss: 0.2263 - val_accuracy: 0.9322\n",
            "Epoch 27/40\n",
            "487/487 [==============================] - 12s 25ms/step - loss: 0.2781 - accuracy: 0.9154 - val_loss: 0.2190 - val_accuracy: 0.9363\n",
            "Epoch 28/40\n",
            "487/487 [==============================] - 12s 25ms/step - loss: 0.2748 - accuracy: 0.9163 - val_loss: 0.2408 - val_accuracy: 0.9316\n",
            "Epoch 29/40\n",
            "487/487 [==============================] - 12s 25ms/step - loss: 0.2745 - accuracy: 0.9173 - val_loss: 0.2192 - val_accuracy: 0.9368\n",
            "Epoch 30/40\n",
            "487/487 [==============================] - 12s 25ms/step - loss: 0.2696 - accuracy: 0.9182 - val_loss: 0.2217 - val_accuracy: 0.9370\n",
            "Epoch 31/40\n",
            "487/487 [==============================] - 12s 25ms/step - loss: 0.2685 - accuracy: 0.9188 - val_loss: 0.2223 - val_accuracy: 0.9369\n",
            "Epoch 32/40\n",
            "487/487 [==============================] - 12s 25ms/step - loss: 0.2655 - accuracy: 0.9201 - val_loss: 0.2212 - val_accuracy: 0.9361\n",
            "Epoch 33/40\n",
            "487/487 [==============================] - 12s 25ms/step - loss: 0.2641 - accuracy: 0.9209 - val_loss: 0.2239 - val_accuracy: 0.9356\n",
            "Epoch 34/40\n",
            "487/487 [==============================] - 12s 25ms/step - loss: 0.2609 - accuracy: 0.9215 - val_loss: 0.2247 - val_accuracy: 0.9343\n",
            "Epoch 35/40\n",
            "487/487 [==============================] - 12s 25ms/step - loss: 0.2607 - accuracy: 0.9212 - val_loss: 0.2142 - val_accuracy: 0.9378\n",
            "Epoch 36/40\n",
            "487/487 [==============================] - 12s 25ms/step - loss: 0.2559 - accuracy: 0.9212 - val_loss: 0.2159 - val_accuracy: 0.9383\n",
            "Epoch 37/40\n",
            "487/487 [==============================] - 12s 25ms/step - loss: 0.2524 - accuracy: 0.9236 - val_loss: 0.2229 - val_accuracy: 0.9356\n",
            "Epoch 38/40\n",
            "487/487 [==============================] - 12s 25ms/step - loss: 0.2508 - accuracy: 0.9242 - val_loss: 0.2157 - val_accuracy: 0.9350\n",
            "Epoch 39/40\n",
            "487/487 [==============================] - 12s 25ms/step - loss: 0.2497 - accuracy: 0.9253 - val_loss: 0.2168 - val_accuracy: 0.9375\n",
            "Epoch 40/40\n",
            "487/487 [==============================] - 12s 25ms/step - loss: 0.2464 - accuracy: 0.9262 - val_loss: 0.2132 - val_accuracy: 0.9399\n"
          ]
        }
      ],
      "source": [
        "history2 = model2.fit(X_train, y_train, batch_size=128, \n",
        "                      epochs=40, validation_data=(X_val, y_val))"
      ]
    },
    {
      "cell_type": "code",
      "source": [
        "model2.summary()"
      ],
      "metadata": {
        "colab": {
          "base_uri": "https://localhost:8080/"
        },
        "id": "xuod83Yz-CsL",
        "outputId": "dd80711f-6598-479c-a0c8-58aa463242e8"
      },
      "execution_count": 49,
      "outputs": [
        {
          "output_type": "stream",
          "name": "stdout",
          "text": [
            "Model: \"model\"\n",
            "__________________________________________________________________________________________________\n",
            " Layer (type)                   Output Shape         Param #     Connected to                     \n",
            "==================================================================================================\n",
            " input_1 (InputLayer)           [(None, 32, 32, 3)]  0           []                               \n",
            "                                                                                                  \n",
            " sequential_7 (Sequential)      (None, 32, 32, 3)    0           ['input_1[0][0]']                \n",
            "                                                                                                  \n",
            " rescaling (Rescaling)          (None, 32, 32, 3)    0           ['sequential_7[0][0]']           \n",
            "                                                                                                  \n",
            " batch_normalization_18 (BatchN  (None, 32, 32, 3)   12          ['rescaling[0][0]']              \n",
            " ormalization)                                                                                    \n",
            "                                                                                                  \n",
            " conv2d_36 (Conv2D)             (None, 32, 32, 32)   864         ['batch_normalization_18[0][0]'] \n",
            "                                                                                                  \n",
            " activation (Activation)        (None, 32, 32, 32)   0           ['conv2d_36[0][0]']              \n",
            "                                                                                                  \n",
            " dropout_18 (Dropout)           (None, 32, 32, 32)   0           ['activation[0][0]']             \n",
            "                                                                                                  \n",
            " conv2d_37 (Conv2D)             (None, 32, 32, 32)   9216        ['dropout_18[0][0]']             \n",
            "                                                                                                  \n",
            " activation_1 (Activation)      (None, 32, 32, 32)   0           ['conv2d_37[0][0]']              \n",
            "                                                                                                  \n",
            " batch_normalization_19 (BatchN  (None, 32, 32, 32)  128         ['activation_1[0][0]']           \n",
            " ormalization)                                                                                    \n",
            "                                                                                                  \n",
            " conv2d_38 (Conv2D)             (None, 32, 32, 32)   9216        ['batch_normalization_19[0][0]'] \n",
            "                                                                                                  \n",
            " activation_2 (Activation)      (None, 32, 32, 32)   0           ['conv2d_38[0][0]']              \n",
            "                                                                                                  \n",
            " max_pooling2d_18 (MaxPooling2D  (None, 16, 16, 32)  0           ['activation_2[0][0]']           \n",
            " )                                                                                                \n",
            "                                                                                                  \n",
            " dropout_19 (Dropout)           (None, 16, 16, 32)   0           ['max_pooling2d_18[0][0]']       \n",
            "                                                                                                  \n",
            " conv2d_39 (Conv2D)             (None, 16, 16, 32)   96          ['rescaling[0][0]']              \n",
            "                                                                                                  \n",
            " add (Add)                      (None, 16, 16, 32)   0           ['dropout_19[0][0]',             \n",
            "                                                                  'conv2d_39[0][0]']              \n",
            "                                                                                                  \n",
            " batch_normalization_20 (BatchN  (None, 16, 16, 32)  128         ['add[0][0]']                    \n",
            " ormalization)                                                                                    \n",
            "                                                                                                  \n",
            " conv2d_40 (Conv2D)             (None, 16, 16, 64)   18432       ['batch_normalization_20[0][0]'] \n",
            "                                                                                                  \n",
            " activation_3 (Activation)      (None, 16, 16, 64)   0           ['conv2d_40[0][0]']              \n",
            "                                                                                                  \n",
            " dropout_20 (Dropout)           (None, 16, 16, 64)   0           ['activation_3[0][0]']           \n",
            "                                                                                                  \n",
            " conv2d_41 (Conv2D)             (None, 16, 16, 64)   36864       ['dropout_20[0][0]']             \n",
            "                                                                                                  \n",
            " activation_4 (Activation)      (None, 16, 16, 64)   0           ['conv2d_41[0][0]']              \n",
            "                                                                                                  \n",
            " batch_normalization_21 (BatchN  (None, 16, 16, 64)  256         ['activation_4[0][0]']           \n",
            " ormalization)                                                                                    \n",
            "                                                                                                  \n",
            " conv2d_42 (Conv2D)             (None, 16, 16, 64)   36864       ['batch_normalization_21[0][0]'] \n",
            "                                                                                                  \n",
            " activation_5 (Activation)      (None, 16, 16, 64)   0           ['conv2d_42[0][0]']              \n",
            "                                                                                                  \n",
            " max_pooling2d_19 (MaxPooling2D  (None, 8, 8, 64)    0           ['activation_5[0][0]']           \n",
            " )                                                                                                \n",
            "                                                                                                  \n",
            " dropout_21 (Dropout)           (None, 8, 8, 64)     0           ['max_pooling2d_19[0][0]']       \n",
            "                                                                                                  \n",
            " conv2d_43 (Conv2D)             (None, 8, 8, 64)     2048        ['add[0][0]']                    \n",
            "                                                                                                  \n",
            " add_1 (Add)                    (None, 8, 8, 64)     0           ['dropout_21[0][0]',             \n",
            "                                                                  'conv2d_43[0][0]']              \n",
            "                                                                                                  \n",
            " batch_normalization_22 (BatchN  (None, 8, 8, 64)    256         ['add_1[0][0]']                  \n",
            " ormalization)                                                                                    \n",
            "                                                                                                  \n",
            " conv2d_44 (Conv2D)             (None, 8, 8, 128)    73728       ['batch_normalization_22[0][0]'] \n",
            "                                                                                                  \n",
            " activation_6 (Activation)      (None, 8, 8, 128)    0           ['conv2d_44[0][0]']              \n",
            "                                                                                                  \n",
            " dropout_22 (Dropout)           (None, 8, 8, 128)    0           ['activation_6[0][0]']           \n",
            "                                                                                                  \n",
            " conv2d_45 (Conv2D)             (None, 8, 8, 128)    147456      ['dropout_22[0][0]']             \n",
            "                                                                                                  \n",
            " activation_7 (Activation)      (None, 8, 8, 128)    0           ['conv2d_45[0][0]']              \n",
            "                                                                                                  \n",
            " batch_normalization_23 (BatchN  (None, 8, 8, 128)   512         ['activation_7[0][0]']           \n",
            " ormalization)                                                                                    \n",
            "                                                                                                  \n",
            " conv2d_46 (Conv2D)             (None, 8, 8, 128)    147456      ['batch_normalization_23[0][0]'] \n",
            "                                                                                                  \n",
            " activation_8 (Activation)      (None, 8, 8, 128)    0           ['conv2d_46[0][0]']              \n",
            "                                                                                                  \n",
            " max_pooling2d_20 (MaxPooling2D  (None, 4, 4, 128)   0           ['activation_8[0][0]']           \n",
            " )                                                                                                \n",
            "                                                                                                  \n",
            " dropout_23 (Dropout)           (None, 4, 4, 128)    0           ['max_pooling2d_20[0][0]']       \n",
            "                                                                                                  \n",
            " conv2d_47 (Conv2D)             (None, 4, 4, 128)    8192        ['add_1[0][0]']                  \n",
            "                                                                                                  \n",
            " add_2 (Add)                    (None, 4, 4, 128)    0           ['dropout_23[0][0]',             \n",
            "                                                                  'conv2d_47[0][0]']              \n",
            "                                                                                                  \n",
            " batch_normalization_24 (BatchN  (None, 4, 4, 128)   512         ['add_2[0][0]']                  \n",
            " ormalization)                                                                                    \n",
            "                                                                                                  \n",
            " flatten_6 (Flatten)            (None, 2048)         0           ['batch_normalization_24[0][0]'] \n",
            "                                                                                                  \n",
            " dense_6 (Dense)                (None, 256)          524544      ['flatten_6[0][0]']              \n",
            "                                                                                                  \n",
            " dense_7 (Dense)                (None, 10)           2570        ['dense_6[0][0]']                \n",
            "                                                                                                  \n",
            "==================================================================================================\n",
            "Total params: 1,019,350\n",
            "Trainable params: 1,018,448\n",
            "Non-trainable params: 902\n",
            "__________________________________________________________________________________________________\n"
          ]
        }
      ]
    },
    {
      "cell_type": "markdown",
      "source": [
        "No se observa underfitting u overfitting al igual que en el primer modelo (no se separan las líneas). No obstante, los valores de accuracy tanto de entrenamiento como validación son superiores. Incluso la separación entre éstas es menor. Esto indica un \"fit\" superior. Además, el accuracy de validación se estabiliza más rápido que en la primera arquitectura."
      ],
      "metadata": {
        "id": "KDMoLWiGcpBD"
      }
    },
    {
      "cell_type": "code",
      "source": [
        "train_acc = history2.history['accuracy']\n",
        "val_acc = history2.history['val_accuracy']\n",
        "\n",
        "plt.figure(figsize=(20, 10))\n",
        "\n",
        "plt.subplot(1, 2, 1)\n",
        "plt.plot(train_acc, label='Training Accuracy')\n",
        "plt.plot(val_acc, label='Validation Accuracy')\n",
        "plt.legend()\n",
        "plt.title('Epochs vs. Training and Validation Accuracy')"
      ],
      "metadata": {
        "colab": {
          "base_uri": "https://localhost:8080/",
          "height": 625
        },
        "id": "idF_8vR-ciuT",
        "outputId": "247367a9-ec2b-4513-c974-ebe6fed7172b"
      },
      "execution_count": 30,
      "outputs": [
        {
          "output_type": "execute_result",
          "data": {
            "text/plain": [
              "Text(0.5, 1.0, 'Epochs vs. Training and Validation Accuracy')"
            ]
          },
          "metadata": {},
          "execution_count": 30
        },
        {
          "output_type": "display_data",
          "data": {
            "text/plain": [
              "<Figure size 1440x720 with 1 Axes>"
            ],
            "image/png": "[encoded data removed]"
          },
          "metadata": {
            "needs_background": "light"
          }
        }
      ]
    },
    {
      "cell_type": "markdown",
      "source": [
        "## Evaluación\n",
        "\n",
        "Se procederá a realizar la mismo procedimiento de KFold cross-validation que el modelo anterior. (k=5)"
      ],
      "metadata": {
        "id": "mryosiRXY5Dq"
      }
    },
    {
      "cell_type": "code",
      "execution_count": 31,
      "metadata": {
        "id": "1De5B4mCGY6I",
        "colab": {
          "base_uri": "https://localhost:8080/"
        },
        "outputId": "f602e574-a526-4ce3-90f7-765ab0e7c63e"
      },
      "outputs": [
        {
          "output_type": "stream",
          "name": "stdout",
          "text": [
            "Epoch 1/30\n",
            "1832/1832 [==============================] - 19s 10ms/step - loss: 2.0194 - accuracy: 0.2699\n",
            "Epoch 2/30\n",
            "1832/1832 [==============================] - 18s 10ms/step - loss: 0.8311 - accuracy: 0.7285\n",
            "Epoch 3/30\n",
            "1832/1832 [==============================] - 17s 10ms/step - loss: 0.5993 - accuracy: 0.8096\n",
            "Epoch 4/30\n",
            "1832/1832 [==============================] - 17s 10ms/step - loss: 0.5223 - accuracy: 0.8331\n",
            "Epoch 5/30\n",
            "1832/1832 [==============================] - 17s 9ms/step - loss: 0.4821 - accuracy: 0.8504\n",
            "Epoch 6/30\n",
            "1832/1832 [==============================] - 17s 10ms/step - loss: 0.4525 - accuracy: 0.8580\n",
            "Epoch 7/30\n",
            "1832/1832 [==============================] - 17s 9ms/step - loss: 0.4322 - accuracy: 0.8666\n",
            "Epoch 8/30\n",
            "1832/1832 [==============================] - 18s 10ms/step - loss: 0.4130 - accuracy: 0.8726\n",
            "Epoch 9/30\n",
            "1832/1832 [==============================] - 17s 9ms/step - loss: 0.4004 - accuracy: 0.8773\n",
            "Epoch 10/30\n",
            "1832/1832 [==============================] - 17s 9ms/step - loss: 0.3885 - accuracy: 0.8808\n",
            "Epoch 11/30\n",
            "1832/1832 [==============================] - 17s 9ms/step - loss: 0.3794 - accuracy: 0.8827\n",
            "Epoch 12/30\n",
            "1832/1832 [==============================] - 17s 9ms/step - loss: 0.3707 - accuracy: 0.8847\n",
            "Epoch 13/30\n",
            "1832/1832 [==============================] - 18s 10ms/step - loss: 0.3612 - accuracy: 0.8891\n",
            "Epoch 14/30\n",
            "1832/1832 [==============================] - 17s 10ms/step - loss: 0.3539 - accuracy: 0.8909\n",
            "Epoch 15/30\n",
            "1832/1832 [==============================] - 17s 10ms/step - loss: 0.3502 - accuracy: 0.8926\n",
            "Epoch 16/30\n",
            "1832/1832 [==============================] - 17s 10ms/step - loss: 0.3394 - accuracy: 0.8959\n",
            "Epoch 17/30\n",
            "1832/1832 [==============================] - 19s 10ms/step - loss: 0.3290 - accuracy: 0.8996\n",
            "Epoch 18/30\n",
            "1832/1832 [==============================] - 18s 10ms/step - loss: 0.3248 - accuracy: 0.9010\n",
            "Epoch 19/30\n",
            "1832/1832 [==============================] - 17s 10ms/step - loss: 0.3270 - accuracy: 0.8991\n",
            "Epoch 20/30\n",
            "1832/1832 [==============================] - 17s 10ms/step - loss: 0.3177 - accuracy: 0.9027\n",
            "Epoch 21/30\n",
            "1832/1832 [==============================] - 17s 9ms/step - loss: 0.3163 - accuracy: 0.9033\n",
            "Epoch 22/30\n",
            "1832/1832 [==============================] - 18s 10ms/step - loss: 0.3154 - accuracy: 0.9030\n",
            "Epoch 23/30\n",
            "1832/1832 [==============================] - 17s 9ms/step - loss: 0.3085 - accuracy: 0.9054\n",
            "Epoch 24/30\n",
            "1832/1832 [==============================] - 17s 9ms/step - loss: 0.3045 - accuracy: 0.9080\n",
            "Epoch 25/30\n",
            "1832/1832 [==============================] - 17s 9ms/step - loss: 0.3024 - accuracy: 0.9078\n",
            "Epoch 26/30\n",
            "1832/1832 [==============================] - 18s 10ms/step - loss: 0.2996 - accuracy: 0.9084\n",
            "Epoch 27/30\n",
            "1832/1832 [==============================] - 17s 9ms/step - loss: 0.2968 - accuracy: 0.9101\n",
            "Epoch 28/30\n",
            "1832/1832 [==============================] - 17s 9ms/step - loss: 0.2926 - accuracy: 0.9097\n",
            "Epoch 29/30\n",
            "1832/1832 [==============================] - 17s 9ms/step - loss: 0.2901 - accuracy: 0.9113\n",
            "Epoch 30/30\n",
            "1832/1832 [==============================] - 17s 10ms/step - loss: 0.2904 - accuracy: 0.9122\n",
            "458/458 [==============================] - 2s 4ms/step - loss: 0.2290 - accuracy: 0.9360\n",
            "Epoch 1/30\n",
            "1832/1832 [==============================] - 19s 10ms/step - loss: 1.8138 - accuracy: 0.3560\n",
            "Epoch 2/30\n",
            "1832/1832 [==============================] - 17s 10ms/step - loss: 0.7592 - accuracy: 0.7540\n",
            "Epoch 3/30\n",
            "1832/1832 [==============================] - 18s 10ms/step - loss: 0.5820 - accuracy: 0.8156\n",
            "Epoch 4/30\n",
            "1832/1832 [==============================] - 18s 10ms/step - loss: 0.5122 - accuracy: 0.8377\n",
            "Epoch 5/30\n",
            "1832/1832 [==============================] - 19s 10ms/step - loss: 0.4763 - accuracy: 0.8512\n",
            "Epoch 6/30\n",
            "1832/1832 [==============================] - 18s 10ms/step - loss: 0.4485 - accuracy: 0.8603\n",
            "Epoch 7/30\n",
            "1832/1832 [==============================] - 18s 10ms/step - loss: 0.4276 - accuracy: 0.8677\n",
            "Epoch 8/30\n",
            "1832/1832 [==============================] - 18s 10ms/step - loss: 0.4074 - accuracy: 0.8741\n",
            "Epoch 9/30\n",
            "1832/1832 [==============================] - 18s 10ms/step - loss: 0.3961 - accuracy: 0.8769\n",
            "Epoch 10/30\n",
            "1832/1832 [==============================] - 18s 10ms/step - loss: 0.3826 - accuracy: 0.8823\n",
            "Epoch 11/30\n",
            "1832/1832 [==============================] - 18s 10ms/step - loss: 0.3756 - accuracy: 0.8855\n",
            "Epoch 12/30\n",
            "1832/1832 [==============================] - 17s 10ms/step - loss: 0.3644 - accuracy: 0.8879\n",
            "Epoch 13/30\n",
            "1832/1832 [==============================] - 18s 10ms/step - loss: 0.3583 - accuracy: 0.8911\n",
            "Epoch 14/30\n",
            "1832/1832 [==============================] - 18s 10ms/step - loss: 0.3511 - accuracy: 0.8933\n",
            "Epoch 15/30\n",
            "1832/1832 [==============================] - 19s 10ms/step - loss: 0.3480 - accuracy: 0.8939\n",
            "Epoch 16/30\n",
            "1832/1832 [==============================] - 18s 10ms/step - loss: 0.3405 - accuracy: 0.8961\n",
            "Epoch 17/30\n",
            "1832/1832 [==============================] - 18s 10ms/step - loss: 0.3342 - accuracy: 0.8986\n",
            "Epoch 18/30\n",
            "1832/1832 [==============================] - 17s 9ms/step - loss: 0.3308 - accuracy: 0.8986\n",
            "Epoch 19/30\n",
            "1832/1832 [==============================] - 17s 10ms/step - loss: 0.3284 - accuracy: 0.8997\n",
            "Epoch 20/30\n",
            "1832/1832 [==============================] - 17s 9ms/step - loss: 0.3215 - accuracy: 0.9020\n",
            "Epoch 21/30\n",
            "1832/1832 [==============================] - 17s 10ms/step - loss: 0.3197 - accuracy: 0.9021\n",
            "Epoch 22/30\n",
            "1832/1832 [==============================] - 17s 9ms/step - loss: 0.3137 - accuracy: 0.9048\n",
            "Epoch 23/30\n",
            "1832/1832 [==============================] - 18s 10ms/step - loss: 0.3072 - accuracy: 0.9062\n",
            "Epoch 24/30\n",
            "1832/1832 [==============================] - 18s 10ms/step - loss: 0.3041 - accuracy: 0.9080\n",
            "Epoch 25/30\n",
            "1832/1832 [==============================] - 17s 9ms/step - loss: 0.3033 - accuracy: 0.9090\n",
            "Epoch 26/30\n",
            "1832/1832 [==============================] - 17s 9ms/step - loss: 0.2991 - accuracy: 0.9078\n",
            "Epoch 27/30\n",
            "1832/1832 [==============================] - 17s 9ms/step - loss: 0.2953 - accuracy: 0.9100\n",
            "Epoch 28/30\n",
            "1832/1832 [==============================] - 17s 9ms/step - loss: 0.2923 - accuracy: 0.9116\n",
            "Epoch 29/30\n",
            "1832/1832 [==============================] - 17s 9ms/step - loss: 0.2917 - accuracy: 0.9127\n",
            "Epoch 30/30\n",
            "1832/1832 [==============================] - 17s 10ms/step - loss: 0.2865 - accuracy: 0.9137\n",
            "458/458 [==============================] - 2s 4ms/step - loss: 0.2257 - accuracy: 0.9351\n",
            "Epoch 1/30\n",
            "1832/1832 [==============================] - 19s 10ms/step - loss: 2.0764 - accuracy: 0.2462\n",
            "Epoch 2/30\n",
            "1832/1832 [==============================] - 18s 10ms/step - loss: 0.8665 - accuracy: 0.7174\n",
            "Epoch 3/30\n",
            "1832/1832 [==============================] - 17s 9ms/step - loss: 0.6037 - accuracy: 0.8079\n",
            "Epoch 4/30\n",
            "1832/1832 [==============================] - 17s 9ms/step - loss: 0.5290 - accuracy: 0.8335\n",
            "Epoch 5/30\n",
            "1832/1832 [==============================] - 17s 9ms/step - loss: 0.4907 - accuracy: 0.8465\n",
            "Epoch 6/30\n",
            "1832/1832 [==============================] - 17s 9ms/step - loss: 0.4566 - accuracy: 0.8589\n",
            "Epoch 7/30\n",
            "1832/1832 [==============================] - 17s 10ms/step - loss: 0.4366 - accuracy: 0.8650\n",
            "Epoch 8/30\n",
            "1832/1832 [==============================] - 18s 10ms/step - loss: 0.4155 - accuracy: 0.8705\n",
            "Epoch 9/30\n",
            "1832/1832 [==============================] - 18s 10ms/step - loss: 0.4035 - accuracy: 0.8758\n",
            "Epoch 10/30\n",
            "1832/1832 [==============================] - 17s 9ms/step - loss: 0.3938 - accuracy: 0.8790\n",
            "Epoch 11/30\n",
            "1832/1832 [==============================] - 18s 10ms/step - loss: 0.3759 - accuracy: 0.8847\n",
            "Epoch 12/30\n",
            "1832/1832 [==============================] - 17s 9ms/step - loss: 0.3719 - accuracy: 0.8854\n",
            "Epoch 13/30\n",
            "1832/1832 [==============================] - 17s 10ms/step - loss: 0.3642 - accuracy: 0.8869\n",
            "Epoch 14/30\n",
            "1832/1832 [==============================] - 17s 10ms/step - loss: 0.3562 - accuracy: 0.8904\n",
            "Epoch 15/30\n",
            "1832/1832 [==============================] - 17s 10ms/step - loss: 0.3449 - accuracy: 0.8946\n",
            "Epoch 16/30\n",
            "1832/1832 [==============================] - 17s 9ms/step - loss: 0.3400 - accuracy: 0.8952\n",
            "Epoch 17/30\n",
            "1832/1832 [==============================] - 17s 9ms/step - loss: 0.3379 - accuracy: 0.8976\n",
            "Epoch 18/30\n",
            "1832/1832 [==============================] - 18s 10ms/step - loss: 0.3317 - accuracy: 0.8979\n",
            "Epoch 19/30\n",
            "1832/1832 [==============================] - 17s 9ms/step - loss: 0.3293 - accuracy: 0.8992\n",
            "Epoch 20/30\n",
            "1832/1832 [==============================] - 17s 9ms/step - loss: 0.3242 - accuracy: 0.9019\n",
            "Epoch 21/30\n",
            "1832/1832 [==============================] - 18s 10ms/step - loss: 0.3143 - accuracy: 0.9035\n",
            "Epoch 22/30\n",
            "1832/1832 [==============================] - 17s 10ms/step - loss: 0.3135 - accuracy: 0.9046\n",
            "Epoch 23/30\n",
            "1832/1832 [==============================] - 17s 9ms/step - loss: 0.3105 - accuracy: 0.9052\n",
            "Epoch 24/30\n",
            "1832/1832 [==============================] - 17s 10ms/step - loss: 0.3045 - accuracy: 0.9065\n",
            "Epoch 25/30\n",
            "1832/1832 [==============================] - 17s 10ms/step - loss: 0.3059 - accuracy: 0.9069\n",
            "Epoch 26/30\n",
            "1832/1832 [==============================] - 17s 10ms/step - loss: 0.2978 - accuracy: 0.9096\n",
            "Epoch 27/30\n",
            "1832/1832 [==============================] - 18s 10ms/step - loss: 0.2993 - accuracy: 0.9087\n",
            "Epoch 28/30\n",
            "1832/1832 [==============================] - 17s 9ms/step - loss: 0.2921 - accuracy: 0.9104\n",
            "Epoch 29/30\n",
            "1832/1832 [==============================] - 17s 10ms/step - loss: 0.2915 - accuracy: 0.9117\n",
            "Epoch 30/30\n",
            "1832/1832 [==============================] - 17s 9ms/step - loss: 0.2898 - accuracy: 0.9122\n",
            "458/458 [==============================] - 2s 4ms/step - loss: 0.2450 - accuracy: 0.9339\n",
            "Epoch 1/30\n",
            "1832/1832 [==============================] - 20s 10ms/step - loss: 2.1557 - accuracy: 0.2191\n",
            "Epoch 2/30\n",
            "1832/1832 [==============================] - 17s 9ms/step - loss: 0.9447 - accuracy: 0.6877\n",
            "Epoch 3/30\n",
            "1832/1832 [==============================] - 17s 10ms/step - loss: 0.6236 - accuracy: 0.8012\n",
            "Epoch 4/30\n",
            "1832/1832 [==============================] - 17s 10ms/step - loss: 0.5331 - accuracy: 0.8312\n",
            "Epoch 5/30\n",
            "1832/1832 [==============================] - 17s 10ms/step - loss: 0.4889 - accuracy: 0.8471\n",
            "Epoch 6/30\n",
            "1832/1832 [==============================] - 18s 10ms/step - loss: 0.4612 - accuracy: 0.8568\n",
            "Epoch 7/30\n",
            "1832/1832 [==============================] - 17s 9ms/step - loss: 0.4369 - accuracy: 0.8646\n",
            "Epoch 8/30\n",
            "1832/1832 [==============================] - 17s 9ms/step - loss: 0.4211 - accuracy: 0.8688\n",
            "Epoch 9/30\n",
            "1832/1832 [==============================] - 17s 9ms/step - loss: 0.4023 - accuracy: 0.8748\n",
            "Epoch 10/30\n",
            "1832/1832 [==============================] - 17s 10ms/step - loss: 0.3875 - accuracy: 0.8805\n",
            "Epoch 11/30\n",
            "1832/1832 [==============================] - 18s 10ms/step - loss: 0.3754 - accuracy: 0.8840\n",
            "Epoch 12/30\n",
            "1832/1832 [==============================] - 17s 9ms/step - loss: 0.3691 - accuracy: 0.8863\n",
            "Epoch 13/30\n",
            "1832/1832 [==============================] - 17s 9ms/step - loss: 0.3637 - accuracy: 0.8880\n",
            "Epoch 14/30\n",
            "1832/1832 [==============================] - 18s 10ms/step - loss: 0.3549 - accuracy: 0.8919\n",
            "Epoch 15/30\n",
            "1832/1832 [==============================] - 17s 10ms/step - loss: 0.3481 - accuracy: 0.8924\n",
            "Epoch 16/30\n",
            "1832/1832 [==============================] - 17s 10ms/step - loss: 0.3440 - accuracy: 0.8949\n",
            "Epoch 17/30\n",
            "1832/1832 [==============================] - 17s 9ms/step - loss: 0.3388 - accuracy: 0.8965\n",
            "Epoch 18/30\n",
            "1832/1832 [==============================] - 17s 10ms/step - loss: 0.3320 - accuracy: 0.8981\n",
            "Epoch 19/30\n",
            "1832/1832 [==============================] - 17s 10ms/step - loss: 0.3240 - accuracy: 0.9013\n",
            "Epoch 20/30\n",
            "1832/1832 [==============================] - 18s 10ms/step - loss: 0.3234 - accuracy: 0.9006\n",
            "Epoch 21/30\n",
            "1832/1832 [==============================] - 18s 10ms/step - loss: 0.3187 - accuracy: 0.9026\n",
            "Epoch 22/30\n",
            "1832/1832 [==============================] - 17s 9ms/step - loss: 0.3144 - accuracy: 0.9019\n",
            "Epoch 23/30\n",
            "1832/1832 [==============================] - 17s 9ms/step - loss: 0.3119 - accuracy: 0.9053\n",
            "Epoch 24/30\n",
            "1832/1832 [==============================] - 17s 10ms/step - loss: 0.3084 - accuracy: 0.9054\n",
            "Epoch 25/30\n",
            "1832/1832 [==============================] - 17s 10ms/step - loss: 0.3024 - accuracy: 0.9066\n",
            "Epoch 26/30\n",
            "1832/1832 [==============================] - 17s 10ms/step - loss: 0.2984 - accuracy: 0.9090\n",
            "Epoch 27/30\n",
            "1832/1832 [==============================] - 17s 10ms/step - loss: 0.2970 - accuracy: 0.9091\n",
            "Epoch 28/30\n",
            "1832/1832 [==============================] - 17s 10ms/step - loss: 0.2972 - accuracy: 0.9092\n",
            "Epoch 29/30\n",
            "1832/1832 [==============================] - 17s 10ms/step - loss: 0.2927 - accuracy: 0.9112\n",
            "Epoch 30/30\n",
            "1832/1832 [==============================] - 18s 10ms/step - loss: 0.2935 - accuracy: 0.9101\n",
            "458/458 [==============================] - 2s 5ms/step - loss: 0.2418 - accuracy: 0.9309\n",
            "Epoch 1/30\n",
            "1832/1832 [==============================] - 19s 10ms/step - loss: 2.0522 - accuracy: 0.2600\n",
            "Epoch 2/30\n",
            "1832/1832 [==============================] - 18s 10ms/step - loss: 0.9039 - accuracy: 0.7028\n",
            "Epoch 3/30\n",
            "1832/1832 [==============================] - 18s 10ms/step - loss: 0.6201 - accuracy: 0.8026\n",
            "Epoch 4/30\n",
            "1832/1832 [==============================] - 18s 10ms/step - loss: 0.5361 - accuracy: 0.8305\n",
            "Epoch 5/30\n",
            "1832/1832 [==============================] - 18s 10ms/step - loss: 0.4897 - accuracy: 0.8486\n",
            "Epoch 6/30\n",
            "1832/1832 [==============================] - 17s 10ms/step - loss: 0.4570 - accuracy: 0.8583\n",
            "Epoch 7/30\n",
            "1832/1832 [==============================] - 18s 10ms/step - loss: 0.4378 - accuracy: 0.8646\n",
            "Epoch 8/30\n",
            "1832/1832 [==============================] - 18s 10ms/step - loss: 0.4189 - accuracy: 0.8715\n",
            "Epoch 9/30\n",
            "1832/1832 [==============================] - 18s 10ms/step - loss: 0.4086 - accuracy: 0.8747\n",
            "Epoch 10/30\n",
            "1832/1832 [==============================] - 18s 10ms/step - loss: 0.3883 - accuracy: 0.8796\n",
            "Epoch 11/30\n",
            "1832/1832 [==============================] - 18s 10ms/step - loss: 0.3791 - accuracy: 0.8829\n",
            "Epoch 12/30\n",
            "1832/1832 [==============================] - 17s 10ms/step - loss: 0.3740 - accuracy: 0.8845\n",
            "Epoch 13/30\n",
            "1832/1832 [==============================] - 17s 10ms/step - loss: 0.3641 - accuracy: 0.8880\n",
            "Epoch 14/30\n",
            "1832/1832 [==============================] - 17s 9ms/step - loss: 0.3576 - accuracy: 0.8899\n",
            "Epoch 15/30\n",
            "1832/1832 [==============================] - 17s 10ms/step - loss: 0.3510 - accuracy: 0.8919\n",
            "Epoch 16/30\n",
            "1832/1832 [==============================] - 17s 10ms/step - loss: 0.3464 - accuracy: 0.8935\n",
            "Epoch 17/30\n",
            "1832/1832 [==============================] - 17s 10ms/step - loss: 0.3405 - accuracy: 0.8951\n",
            "Epoch 18/30\n",
            "1832/1832 [==============================] - 17s 10ms/step - loss: 0.3354 - accuracy: 0.8971\n",
            "Epoch 19/30\n",
            "1832/1832 [==============================] - 18s 10ms/step - loss: 0.3262 - accuracy: 0.9008\n",
            "Epoch 20/30\n",
            "1832/1832 [==============================] - 18s 10ms/step - loss: 0.3240 - accuracy: 0.9015\n",
            "Epoch 21/30\n",
            "1832/1832 [==============================] - 18s 10ms/step - loss: 0.3202 - accuracy: 0.9024\n",
            "Epoch 22/30\n",
            "1832/1832 [==============================] - 17s 9ms/step - loss: 0.3183 - accuracy: 0.9030\n",
            "Epoch 23/30\n",
            "1832/1832 [==============================] - 18s 10ms/step - loss: 0.3138 - accuracy: 0.9047\n",
            "Epoch 24/30\n",
            "1832/1832 [==============================] - 18s 10ms/step - loss: 0.3085 - accuracy: 0.9053\n",
            "Epoch 25/30\n",
            "1832/1832 [==============================] - 17s 10ms/step - loss: 0.3069 - accuracy: 0.9064\n",
            "Epoch 26/30\n",
            "1832/1832 [==============================] - 18s 10ms/step - loss: 0.3003 - accuracy: 0.9093\n",
            "Epoch 27/30\n",
            "1832/1832 [==============================] - 17s 9ms/step - loss: 0.2951 - accuracy: 0.9111\n",
            "Epoch 28/30\n",
            "1832/1832 [==============================] - 17s 9ms/step - loss: 0.2947 - accuracy: 0.9115\n",
            "Epoch 29/30\n",
            "1832/1832 [==============================] - 17s 10ms/step - loss: 0.2914 - accuracy: 0.9116\n",
            "Epoch 30/30\n",
            "1832/1832 [==============================] - 18s 10ms/step - loss: 0.2895 - accuracy: 0.9108\n",
            "458/458 [==============================] - 2s 4ms/step - loss: 0.2182 - accuracy: 0.9375\n",
            "Model evaluation  [0.21819119155406952, 0.9374786615371704]\n"
          ]
        }
      ],
      "source": [
        "n_split = 5\n",
        "k_eval = []\n",
        "\n",
        "for train_i ,val_i in KFold(n_split).split(train_images):\n",
        "  x_train,x_val= train_images[train_i], train_images[val_i]\n",
        "  y_t,y_v= train_labels[train_i], train_labels[val_i]\n",
        "\n",
        "  aux = M2()\n",
        "\n",
        "  aux.compile(optimizer=optimizer,\n",
        "              loss='categorical_crossentropy',\n",
        "              metrics=['accuracy'])\n",
        "  \n",
        "  aux.fit(x_train, y_t,epochs=30)\n",
        "\n",
        "  eval = aux.evaluate(x_val,y_v)\n",
        "  k_eval.append(eval[1])\n",
        "\n",
        "print('Model evaluation ', eval)"
      ]
    },
    {
      "cell_type": "markdown",
      "source": [
        "El modelo que implementa las sugerencias presentó un incremento de .03 apróximadamente y mantuvo una relación con la desviación estándar similar al primer modelo (<1%). Esto es una mejora significativa."
      ],
      "metadata": {
        "id": "yZPhrhfnZa1M"
      }
    },
    {
      "cell_type": "code",
      "source": [
        "result = np.array(k_eval)\n",
        "print(\"Mean accuracy: \", result.mean())\n",
        "print(\"Standard deviation: \", result.std())"
      ],
      "metadata": {
        "colab": {
          "base_uri": "https://localhost:8080/"
        },
        "id": "cqK6zGZxf2l_",
        "outputId": "1cc27eeb-f199-403c-b485-f56885570d60"
      },
      "execution_count": 32,
      "outputs": [
        {
          "output_type": "stream",
          "name": "stdout",
          "text": [
            "Mean accuracy:  0.9346819877624511\n",
            "Standard deviation:  0.002219978995536582\n"
          ]
        }
      ]
    },
    {
      "cell_type": "markdown",
      "source": [
        "Finalmente se muestra el desempeño de la versión entrenada por 40 épocas sobre el set de prueba. El accuracy incrementó .03 aproximadamente , aunque no fue la misma magnitud incremental que en los set de validación, aún fue una mejora significativa. Se tendría también que evaluar ambos modelos al entrenarse en todavía más épocas para conocer su convergencia."
      ],
      "metadata": {
        "id": "t0nSxNM6agEj"
      }
    },
    {
      "cell_type": "code",
      "source": [
        "test_loss, test_acc = model2.evaluate(x=test_images, y=test_labels, verbose=0)\n",
        "\n",
        "print('Test accuracy is: {:0.4f} \\nTest loss is: {:0.4f}'.\n",
        "      format(test_acc, test_loss))"
      ],
      "metadata": {
        "colab": {
          "base_uri": "https://localhost:8080/"
        },
        "id": "xjuz9c2kuOQY",
        "outputId": "8b5ee0b1-fd5f-476d-8822-88ab5a4c76b6"
      },
      "execution_count": 33,
      "outputs": [
        {
          "output_type": "stream",
          "name": "stdout",
          "text": [
            "Test accuracy is: 0.9469 \n",
            "Test loss is: 0.1926\n"
          ]
        }
      ]
    },
    {
      "cell_type": "markdown",
      "source": [
        "## Predicciones\n",
        "\n",
        "Se define una breve función para visualizar las predicciones del modelo."
      ],
      "metadata": {
        "id": "XV9DheOtjGr5"
      }
    },
    {
      "cell_type": "code",
      "source": [
        "def m2_predict(index):\n",
        "    plt.imshow(test_images[index])\n",
        "    plt.show()\n",
        "\n",
        "    print('Label: ', (np.argmax(test_labels[index]) + 1) % 10)\n",
        "    print('Predicted label: ', (np.argmax(model2.predict(test_images[index].reshape((1,32,32,3)))) + 1) % 10)"
      ],
      "metadata": {
        "id": "lq53XDqBiz4J"
      },
      "execution_count": 47,
      "outputs": []
    },
    {
      "cell_type": "code",
      "source": [
        "m2_predict(123)"
      ],
      "metadata": {
        "colab": {
          "base_uri": "https://localhost:8080/",
          "height": 321
        },
        "id": "aK6OoL5a8HUx",
        "outputId": "213b3181-dc6a-4af2-927a-4e75489ee869"
      },
      "execution_count": 48,
      "outputs": [
        {
          "output_type": "display_data",
          "data": {
            "text/plain": [
              "<Figure size 432x288 with 1 Axes>"
            ],
            "image/png": "[encoded data removed]"
          },
          "metadata": {
            "needs_background": "light"
          }
        },
        {
          "output_type": "stream",
          "name": "stdout",
          "text": [
            "Label:  7\n",
            "1/1 [==============================] - 0s 27ms/step\n",
            "Predicted label:  7\n"
          ]
        }
      ]
    }
  ],
  "metadata": {
    "accelerator": "GPU",
    "colab": {
      "provenance": []
    },
    "gpuClass": "standard",
    "kernelspec": {
      "display_name": "Python 3",
      "name": "python3"
    },
    "language_info": {
      "name": "python"
    }
  },
  "nbformat": 4,
  "nbformat_minor": 0
}