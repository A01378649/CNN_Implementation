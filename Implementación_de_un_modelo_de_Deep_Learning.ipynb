{
  "cells": [
    {
      "cell_type": "markdown",
      "source": [
        "# Implementación de un modelo de Deep Learning"
      ],
      "metadata": {
        "id": "WzxVclfYof0l"
      }
    },
    {
      "cell_type": "code",
      "execution_count": 1,
      "metadata": {
        "colab": {
          "base_uri": "https://localhost:8080/"
        },
        "id": "WRa53RpC036s",
        "outputId": "ca7585b5-b4c4-4f50-8eaf-874c7bc6e141"
      },
      "outputs": [
        {
          "output_type": "stream",
          "name": "stdout",
          "text": [
            "Mounted at /content/drive\n",
            "/content/drive/MyDrive/IA\n"
          ]
        }
      ],
      "source": [
        "from google.colab import drive\n",
        "drive.mount('/content/drive')\n",
        "\n",
        "#%cd \"/content/drive/MyDrive/IA\""
      ]
    },
    {
      "cell_type": "code",
      "execution_count": null,
      "metadata": {
        "colab": {
          "base_uri": "https://localhost:8080/",
          "height": 90
        },
        "id": "6IrEnA88Dfdc",
        "outputId": "c0516fb4-5d75-4a81-d68a-b57997b733cb"
      },
      "outputs": [
        {
          "data": {
            "text/html": [
              "\n",
              "     <input type=\"file\" id=\"files-85e36a6e-4893-4f5b-91b7-872e7257f49f\" name=\"files[]\" multiple disabled\n",
              "        style=\"border:none\" />\n",
              "     <output id=\"result-85e36a6e-4893-4f5b-91b7-872e7257f49f\">\n",
              "      Upload widget is only available when the cell has been executed in the\n",
              "      current browser session. Please rerun this cell to enable.\n",
              "      </output>\n",
              "      <script>// Copyright 2017 Google LLC\n",
              "//\n",
              "// Licensed under the Apache License, Version 2.0 (the \"License\");\n",
              "// you may not use this file except in compliance with the License.\n",
              "// You may obtain a copy of the License at\n",
              "//\n",
              "//      http://www.apache.org/licenses/LICENSE-2.0\n",
              "//\n",
              "// Unless required by applicable law or agreed to in writing, software\n",
              "// distributed under the License is distributed on an \"AS IS\" BASIS,\n",
              "// WITHOUT WARRANTIES OR CONDITIONS OF ANY KIND, either express or implied.\n",
              "// See the License for the specific language governing permissions and\n",
              "// limitations under the License.\n",
              "\n",
              "/**\n",
              " * @fileoverview Helpers for google.colab Python module.\n",
              " */\n",
              "(function(scope) {\n",
              "function span(text, styleAttributes = {}) {\n",
              "  const element = document.createElement('span');\n",
              "  element.textContent = text;\n",
              "  for (const key of Object.keys(styleAttributes)) {\n",
              "    element.style[key] = styleAttributes[key];\n",
              "  }\n",
              "  return element;\n",
              "}\n",
              "\n",
              "// Max number of bytes which will be uploaded at a time.\n",
              "const MAX_PAYLOAD_SIZE = 100 * 1024;\n",
              "\n",
              "function _uploadFiles(inputId, outputId) {\n",
              "  const steps = uploadFilesStep(inputId, outputId);\n",
              "  const outputElement = document.getElementById(outputId);\n",
              "  // Cache steps on the outputElement to make it available for the next call\n",
              "  // to uploadFilesContinue from Python.\n",
              "  outputElement.steps = steps;\n",
              "\n",
              "  return _uploadFilesContinue(outputId);\n",
              "}\n",
              "\n",
              "// This is roughly an async generator (not supported in the browser yet),\n",
              "// where there are multiple asynchronous steps and the Python side is going\n",
              "// to poll for completion of each step.\n",
              "// This uses a Promise to block the python side on completion of each step,\n",
              "// then passes the result of the previous step as the input to the next step.\n",
              "function _uploadFilesContinue(outputId) {\n",
              "  const outputElement = document.getElementById(outputId);\n",
              "  const steps = outputElement.steps;\n",
              "\n",
              "  const next = steps.next(outputElement.lastPromiseValue);\n",
              "  return Promise.resolve(next.value.promise).then((value) => {\n",
              "    // Cache the last promise value to make it available to the next\n",
              "    // step of the generator.\n",
              "    outputElement.lastPromiseValue = value;\n",
              "    return next.value.response;\n",
              "  });\n",
              "}\n",
              "\n",
              "/**\n",
              " * Generator function which is called between each async step of the upload\n",
              " * process.\n",
              " * @param {string} inputId Element ID of the input file picker element.\n",
              " * @param {string} outputId Element ID of the output display.\n",
              " * @return {!Iterable<!Object>} Iterable of next steps.\n",
              " */\n",
              "function* uploadFilesStep(inputId, outputId) {\n",
              "  const inputElement = document.getElementById(inputId);\n",
              "  inputElement.disabled = false;\n",
              "\n",
              "  const outputElement = document.getElementById(outputId);\n",
              "  outputElement.innerHTML = '';\n",
              "\n",
              "  const pickedPromise = new Promise((resolve) => {\n",
              "    inputElement.addEventListener('change', (e) => {\n",
              "      resolve(e.target.files);\n",
              "    });\n",
              "  });\n",
              "\n",
              "  const cancel = document.createElement('button');\n",
              "  inputElement.parentElement.appendChild(cancel);\n",
              "  cancel.textContent = 'Cancel upload';\n",
              "  const cancelPromise = new Promise((resolve) => {\n",
              "    cancel.onclick = () => {\n",
              "      resolve(null);\n",
              "    };\n",
              "  });\n",
              "\n",
              "  // Wait for the user to pick the files.\n",
              "  const files = yield {\n",
              "    promise: Promise.race([pickedPromise, cancelPromise]),\n",
              "    response: {\n",
              "      action: 'starting',\n",
              "    }\n",
              "  };\n",
              "\n",
              "  cancel.remove();\n",
              "\n",
              "  // Disable the input element since further picks are not allowed.\n",
              "  inputElement.disabled = true;\n",
              "\n",
              "  if (!files) {\n",
              "    return {\n",
              "      response: {\n",
              "        action: 'complete',\n",
              "      }\n",
              "    };\n",
              "  }\n",
              "\n",
              "  for (const file of files) {\n",
              "    const li = document.createElement('li');\n",
              "    li.append(span(file.name, {fontWeight: 'bold'}));\n",
              "    li.append(span(\n",
              "        `(${file.type || 'n/a'}) - ${file.size} bytes, ` +\n",
              "        `last modified: ${\n",
              "            file.lastModifiedDate ? file.lastModifiedDate.toLocaleDateString() :\n",
              "                                    'n/a'} - `));\n",
              "    const percent = span('0% done');\n",
              "    li.appendChild(percent);\n",
              "\n",
              "    outputElement.appendChild(li);\n",
              "\n",
              "    const fileDataPromise = new Promise((resolve) => {\n",
              "      const reader = new FileReader();\n",
              "      reader.onload = (e) => {\n",
              "        resolve(e.target.result);\n",
              "      };\n",
              "      reader.readAsArrayBuffer(file);\n",
              "    });\n",
              "    // Wait for the data to be ready.\n",
              "    let fileData = yield {\n",
              "      promise: fileDataPromise,\n",
              "      response: {\n",
              "        action: 'continue',\n",
              "      }\n",
              "    };\n",
              "\n",
              "    // Use a chunked sending to avoid message size limits. See b/62115660.\n",
              "    let position = 0;\n",
              "    do {\n",
              "      const length = Math.min(fileData.byteLength - position, MAX_PAYLOAD_SIZE);\n",
              "      const chunk = new Uint8Array(fileData, position, length);\n",
              "      position += length;\n",
              "\n",
              "      const base64 = btoa(String.fromCharCode.apply(null, chunk));\n",
              "      yield {\n",
              "        response: {\n",
              "          action: 'append',\n",
              "          file: file.name,\n",
              "          data: base64,\n",
              "        },\n",
              "      };\n",
              "\n",
              "      let percentDone = fileData.byteLength === 0 ?\n",
              "          100 :\n",
              "          Math.round((position / fileData.byteLength) * 100);\n",
              "      percent.textContent = `${percentDone}% done`;\n",
              "\n",
              "    } while (position < fileData.byteLength);\n",
              "  }\n",
              "\n",
              "  // All done.\n",
              "  yield {\n",
              "    response: {\n",
              "      action: 'complete',\n",
              "    }\n",
              "  };\n",
              "}\n",
              "\n",
              "scope.google = scope.google || {};\n",
              "scope.google.colab = scope.google.colab || {};\n",
              "scope.google.colab._files = {\n",
              "  _uploadFiles,\n",
              "  _uploadFilesContinue,\n",
              "};\n",
              "})(self);\n",
              "</script> "
            ],
            "text/plain": [
              "<IPython.core.display.HTML object>"
            ]
          },
          "metadata": {},
          "output_type": "display_data"
        },
        {
          "name": "stdout",
          "output_type": "stream",
          "text": [
            "Saving kaggle.json to kaggle (4).json\n"
          ]
        },
        {
          "data": {
            "text/plain": [
              "{'kaggle.json': b'{\"username\":\"a01378649\",\"key\":\"1dca8bf62fee4ec115bdb3be7cbe32ca\"}'}"
            ]
          },
          "execution_count": 3,
          "metadata": {},
          "output_type": "execute_result"
        }
      ],
      "source": [
        "from google.colab import files\n",
        "files.upload()"
      ]
    },
    {
      "cell_type": "code",
      "execution_count": null,
      "metadata": {
        "id": "T7__eIp5JS8N"
      },
      "outputs": [],
      "source": [
        "!rm -rf ~/.kaggle "
      ]
    },
    {
      "cell_type": "code",
      "execution_count": null,
      "metadata": {
        "id": "y6YE08NGHQLD"
      },
      "outputs": [],
      "source": [
        "!mkdir ~/.kaggle\n",
        "!cp kaggle.json ~/.kaggle/\n",
        "!chmod 600 ~/.kaggle/kaggle.json"
      ]
    },
    {
      "cell_type": "code",
      "execution_count": null,
      "metadata": {
        "colab": {
          "base_uri": "https://localhost:8080/"
        },
        "id": "1a1HpTU6HgMR",
        "outputId": "03ceecd3-cee0-4d89-999d-501588c472ea"
      },
      "outputs": [
        {
          "name": "stdout",
          "output_type": "stream",
          "text": [
            "ref                                                             title                                            size  lastUpdated          downloadCount  voteCount  usabilityRating  \n",
            "--------------------------------------------------------------  ----------------------------------------------  -----  -------------------  -------------  ---------  ---------------  \n",
            "akshaydattatraykhare/diabetes-dataset                           Diabetes Dataset                                  9KB  2022-10-06 08:55:25          10952        347  1.0              \n",
            "whenamancodes/covid-19-coronavirus-pandemic-dataset             COVID -19 Coronavirus Pandemic Dataset           11KB  2022-09-30 04:05:11           8720        281  1.0              \n",
            "stetsondone/video-game-sales-by-genre                           Video Game Sales by Genre                        12KB  2022-10-31 17:56:01            760         23  1.0              \n",
            "whenamancodes/credit-card-customers-prediction                  Credit Card Customers Prediction                379KB  2022-10-30 13:03:27           1315         40  1.0              \n",
            "whenamancodes/students-performance-in-exams                     Students Performance in Exams                     9KB  2022-09-14 15:14:54          15145        283  1.0              \n",
            "akshaydattatraykhare/data-for-admission-in-the-university       Data for Admission in the University              4KB  2022-10-27 11:05:45           1848         43  1.0              \n",
            "michaelbryantds/electric-vehicle-charging-dataset               Electric Vehicle Charging Dataset                98KB  2022-11-02 01:45:23            629         32  0.9411765        \n",
            "maharshipandya/-spotify-tracks-dataset                          🎹 Spotify Tracks Dataset                          8MB  2022-10-22 14:40:15           2174         71  1.0              \n",
            "hasibalmuzdadid/global-air-pollution-dataset                    Global Air Pollution Dataset                    371KB  2022-11-08 14:43:32           1094         42  1.0              \n",
            "whenamancodes/amazon-reviews-on-women-dresses                   Amazon Reviews on Women Dresses                   3MB  2022-10-29 12:47:06            501         32  1.0              \n",
            "akshaydattatraykhare/car-details-dataset                        Car Details Dataset                              56KB  2022-10-21 06:11:56           2643         44  1.0              \n",
            "whenamancodes/international-football-from-1872-to-2022          International Football from 1872 to 2022        572KB  2022-10-30 13:27:29            632         28  0.9411765        \n",
            "whenamancodes/customer-personality-analysis                     Company's Ideal Customers | Marketing Strategy   62KB  2022-10-30 14:17:42            887         31  1.0              \n",
            "dimitryzub/walmart-coffee-listings-from-500-stores              Walmart Coffee Listings from 500 stores          85KB  2022-10-25 09:20:12           1259         40  1.0              \n",
            "dheerajmukati/most-runs-in-cricket                              Most Runs in International cricket                4KB  2022-10-16 16:49:20            677         31  1.0              \n",
            "thedevastator/food-prices-year-by-year                          Global Food Prices Year By Year                   7KB  2022-10-30 08:49:55            889         31  1.0              \n",
            "saikumartamminana/gold-price-prediction                         Gold Price Prediction                            41KB  2022-10-30 19:07:30            946         24  0.8235294        \n",
            "thedevastator/udemy-courses-revenue-generation-and-course-anal  Udemy Courses                                   429KB  2022-10-17 00:11:53           1892         57  1.0              \n",
            "whenamancodes/adidas-us-retail-products-dataset                 Adidas US Retail Products Dataset               286KB  2022-10-26 15:44:20            710         33  1.0              \n",
            "jainilcoder/online-payment-fraud-detection                      Online Payment Fraud Detection                  178MB  2022-10-26 12:35:46           1035         38  0.9705882        \n"
          ]
        }
      ],
      "source": [
        "!kaggle datasets list"
      ]
    },
    {
      "cell_type": "markdown",
      "source": [
        "## Selección de dataset\n",
        "\n",
        "Se escogerá la base de SVHN que contiene imágenes RGB de números en diferentes lugares del mundo real. Asimismo, existe ruido alrededor como parte del ambiente, o incluso otros números. En este caso, solo nos interesa categorizar el número más centrado."
      ],
      "metadata": {
        "id": "cB51Hil1pFgK"
      }
    },
    {
      "cell_type": "code",
      "execution_count": null,
      "metadata": {
        "colab": {
          "base_uri": "https://localhost:8080/"
        },
        "id": "BoaxJc5JHhm1",
        "outputId": "ea3af18d-4cf1-41a3-eaea-dbeec5045a1f"
      },
      "outputs": [
        {
          "name": "stdout",
          "output_type": "stream",
          "text": [
            "svhndataset.zip: Skipping, found more recently modified local copy (use --force to force download)\n"
          ]
        }
      ],
      "source": [
        "!kaggle datasets download -d quanbk/svhndataset"
      ]
    },
    {
      "cell_type": "code",
      "execution_count": null,
      "metadata": {
        "colab": {
          "base_uri": "https://localhost:8080/"
        },
        "id": "psCD7RgMKZ0S",
        "outputId": "2bfe1f59-e29d-47fe-c1e8-a63b87925b88"
      },
      "outputs": [
        {
          "name": "stdout",
          "output_type": "stream",
          "text": [
            "Archive:  svhndataset.zip\n",
            "replace extra_32x32.mat? [y]es, [n]o, [A]ll, [N]one, [r]ename: n\n",
            "replace test_32x32.mat? [y]es, [n]o, [A]ll, [N]one, [r]ename: n\n",
            "replace train_32x32.mat? [y]es, [n]o, [A]ll, [N]one, [r]ename: n\n"
          ]
        }
      ],
      "source": [
        "!unzip svhndataset.zip"
      ]
    },
    {
      "cell_type": "code",
      "execution_count": 2,
      "metadata": {
        "id": "cDn4LUBcLODy"
      },
      "outputs": [],
      "source": [
        "import numpy as np\n",
        "import keras\n",
        "import seaborn as sns\n",
        "from matplotlib import pyplot as plt\n",
        "from scipy.io import loadmat\n",
        "from sklearn.model_selection import train_test_split\n",
        "from sklearn.preprocessing import LabelBinarizer\n",
        "from sklearn.metrics import confusion_matrix\n",
        "from keras.preprocessing.image import ImageDataGenerator\n",
        "from tensorflow import keras\n",
        "from keras import layers"
      ]
    },
    {
      "cell_type": "markdown",
      "source": [
        "La base de datos incluye por defecto el set de entrenamiento y prueba, no obstante, hace falta alinear los datos para ser consumidos por el modelo. (Formatear a NHWC)"
      ],
      "metadata": {
        "id": "8E_d5evcqewu"
      }
    },
    {
      "cell_type": "code",
      "execution_count": 3,
      "metadata": {
        "colab": {
          "base_uri": "https://localhost:8080/"
        },
        "id": "K9ISrO0TLy6p",
        "outputId": "19933684-7a53-4a85-9196-e2c29b688606"
      },
      "outputs": [
        {
          "output_type": "stream",
          "name": "stdout",
          "text": [
            "(32, 32, 3, 73257)\n",
            "(32, 32, 3, 26032)\n"
          ]
        }
      ],
      "source": [
        "# Load the data\n",
        "\n",
        "train_raw = loadmat('train_32x32.mat')\n",
        "test_raw = loadmat('test_32x32.mat')\n",
        "\n",
        "train_images = np.array(train_raw['X'])\n",
        "test_images = np.array(test_raw['X'])\n",
        "train_labels = train_raw['y']\n",
        "test_labels = test_raw['y']\n",
        "\n",
        "print(train_images.shape)\n",
        "print(test_images.shape)"
      ]
    },
    {
      "cell_type": "code",
      "execution_count": 4,
      "metadata": {
        "colab": {
          "base_uri": "https://localhost:8080/"
        },
        "id": "FckzIleXMrlO",
        "outputId": "91a49903-3f5c-4940-be1e-878e2b01d6cd"
      },
      "outputs": [
        {
          "output_type": "stream",
          "name": "stdout",
          "text": [
            "(73257, 32, 32, 3)\n",
            "(26032, 32, 32, 3)\n"
          ]
        }
      ],
      "source": [
        "train_images = np.moveaxis(train_images, -1, 0)\n",
        "test_images = np.moveaxis(test_images, -1, 0)\n",
        "\n",
        "print(train_images.shape)\n",
        "print(test_images.shape)"
      ]
    },
    {
      "cell_type": "markdown",
      "source": [
        "Como anteriormente se explica, aunque existan dos números, el label provisto solo hace referencia al número del centro."
      ],
      "metadata": {
        "id": "kVDKToQJfsFT"
      }
    },
    {
      "cell_type": "code",
      "execution_count": 5,
      "metadata": {
        "colab": {
          "base_uri": "https://localhost:8080/",
          "height": 283
        },
        "id": "KsR_bg7LOPMi",
        "outputId": "bd032e37-a6b4-4bed-d485-31ee5b4d1b14"
      },
      "outputs": [
        {
          "output_type": "display_data",
          "data": {
            "text/plain": [
              "<Figure size 432x288 with 1 Axes>"
            ],
            "image/png": "[encoded data removed]"
          },
          "metadata": {
            "needs_background": "light"
          }
        },
        {
          "output_type": "stream",
          "name": "stdout",
          "text": [
            "Label:  [3]\n"
          ]
        }
      ],
      "source": [
        "#Probando que las imágenes se hayan cargado de manera correcta\n",
        "plt.imshow(train_images[8])\n",
        "plt.show()\n",
        "\n",
        "print('Label: ', train_labels[8])"
      ]
    },
    {
      "cell_type": "markdown",
      "source": [
        "Se utilizará One-Hot Encoding para representar las categorías (0 al 9)"
      ],
      "metadata": {
        "id": "AyXvAenYrNcj"
      }
    },
    {
      "cell_type": "code",
      "execution_count": 6,
      "metadata": {
        "id": "ERDX_jTDPBMH"
      },
      "outputs": [],
      "source": [
        "lb = LabelBinarizer()\n",
        "train_labels = lb.fit_transform(train_labels)\n",
        "test_labels = lb.fit_transform(test_labels)"
      ]
    },
    {
      "cell_type": "markdown",
      "source": [
        "Utilizaremos el set de entrenamiento inicial para crear el split de entrenamiento y validación para el modelo. (85% y 15% respectivamente)"
      ],
      "metadata": {
        "id": "axV4QekIsIBr"
      }
    },
    {
      "cell_type": "code",
      "execution_count": 7,
      "metadata": {
        "id": "6lW5FkLiPTkB"
      },
      "outputs": [],
      "source": [
        "X_train, X_val, y_train, y_val = train_test_split(train_images, train_labels,\n",
        "                                                  test_size=0.15, random_state=42)"
      ]
    },
    {
      "cell_type": "markdown",
      "source": [
        "Con esto confirmamos el número y dimensiones para los conjuntos de entrenamiento y validación."
      ],
      "metadata": {
        "id": "CzyfCPnBsCz0"
      }
    },
    {
      "cell_type": "code",
      "execution_count": 8,
      "metadata": {
        "colab": {
          "base_uri": "https://localhost:8080/"
        },
        "id": "xVHIZ6EuPoW9",
        "outputId": "2a6d19e0-d117-4aad-96e4-de012dce1352"
      },
      "outputs": [
        {
          "output_type": "stream",
          "name": "stdout",
          "text": [
            "(62268, 32, 32, 3)\n",
            "(10989, 32, 32, 3)\n"
          ]
        }
      ],
      "source": [
        "print(X_train.shape)\n",
        "print(X_val.shape)"
      ]
    },
    {
      "cell_type": "markdown",
      "source": [
        "Para incrementar el dominio de la naturaleza de las imágenes, añadiremos una capa de data augmentation para prevenir overfitting. Cabe destacar que solo se aplica rotación y zoom aleatorios para no cambiar efectivamente la categoría de la imagen. Por ejemplo, no se le pone random flip porque el número dejaría de ser reconocible."
      ],
      "metadata": {
        "id": "zhItNXyOuJQT"
      }
    },
    {
      "cell_type": "code",
      "execution_count": 9,
      "metadata": {
        "id": "3oYsDF3ePxPh"
      },
      "outputs": [],
      "source": [
        "data_augmentation = keras.Sequential(\n",
        "    [\n",
        "        layers.RandomRotation(0.2),\n",
        "        layers.RandomZoom(0.2)\n",
        "    ]\n",
        ")"
      ]
    },
    {
      "cell_type": "markdown",
      "source": [
        "## Definición del modelo\n",
        "\n",
        "Se optó por el uso de una CNN tradicional de seis capas principales de convolución. Se utiliza BatchNormalization para establizar el comportamiento durante el entrenamiento. Además, Se utilizan capas de MaxPooling intermedias para realizar downsampling y agilizar el cómputo de predicciones, de igual manera, sirve para atenuar varianzas en la imagen como rotación o el zoom que puede suceder naturalmente. Igualmente, se añaden capas de Dropout para prevenir overfitting. \n",
        "\n",
        "Finalmente, los datos procesados son utilizados por una capa de softmax que predice la categoría."
      ],
      "metadata": {
        "id": "WT2u6zypu1vK"
      }
    },
    {
      "cell_type": "code",
      "execution_count": 10,
      "metadata": {
        "id": "e0gdumKVQeWh"
      },
      "outputs": [],
      "source": [
        "#Se define una función que regresa la arquitectura en limpio cada vez que se llama\n",
        "def Model1():\n",
        "    return keras.Sequential([\n",
        "    data_augmentation,\n",
        "    keras.layers.Conv2D(32, (3, 3), padding='same', \n",
        "                           activation='relu',\n",
        "                           input_shape=(32, 32, 3)),\n",
        "    keras.layers.BatchNormalization(),\n",
        "    keras.layers.Conv2D(32, (3, 3), padding='same', \n",
        "                        activation='relu'),\n",
        "    keras.layers.MaxPooling2D((2, 2)),\n",
        "    keras.layers.Dropout(0.3),\n",
        "    \n",
        "    keras.layers.Conv2D(32, (3, 3), padding='same', \n",
        "                           activation='relu'),\n",
        "    keras.layers.BatchNormalization(),\n",
        "    keras.layers.Conv2D(64, (3, 3), padding='same',\n",
        "                        activation='relu'),\n",
        "    keras.layers.MaxPooling2D((2, 2)),\n",
        "    keras.layers.Dropout(0.3),\n",
        "    \n",
        "    keras.layers.Conv2D(64, (3, 3), padding='same', \n",
        "                           activation='relu'),\n",
        "    keras.layers.BatchNormalization(),\n",
        "    keras.layers.Conv2D(64, (3, 3), padding='same',\n",
        "                        activation='relu'),\n",
        "    keras.layers.MaxPooling2D((2, 2)),\n",
        "    keras.layers.Dropout(0.3),\n",
        "    \n",
        "    keras.layers.Flatten(),\n",
        "    keras.layers.Dense(10,  activation='softmax')\n",
        "])"
      ]
    },
    {
      "cell_type": "markdown",
      "source": [
        "No se utilizó ninguna técnica en especial para determinar el mejor learning rate (hyperparameter tunning), no obstante se sabe que para las CNN éste tiene que ser particularmente bajo, por lo que se decidió establecerlo como 0.001."
      ],
      "metadata": {
        "id": "PQJt-hs7C6dY"
      }
    },
    {
      "cell_type": "code",
      "source": [
        "m1 = Model1()\n",
        "early_stopping = keras.callbacks.EarlyStopping(patience=8)\n",
        "optimizer = keras.optimizers.Adam(lr=0.001, amsgrad=True)\n",
        "m1.compile(optimizer=optimizer,\n",
        "              loss='categorical_crossentropy',\n",
        "              metrics=['accuracy'])"
      ],
      "metadata": {
        "colab": {
          "base_uri": "https://localhost:8080/"
        },
        "id": "HjqSpzhH0EKP",
        "outputId": "62010786-3895-40fb-d1b2-ed1e01824ff3"
      },
      "execution_count": 11,
      "outputs": [
        {
          "output_type": "stream",
          "name": "stderr",
          "text": [
            "/usr/local/lib/python3.7/dist-packages/keras/optimizers/optimizer_v2/adam.py:110: UserWarning: The `lr` argument is deprecated, use `learning_rate` instead.\n",
            "  super(Adam, self).__init__(name, **kwargs)\n"
          ]
        }
      ]
    },
    {
      "cell_type": "code",
      "execution_count": 12,
      "metadata": {
        "colab": {
          "base_uri": "https://localhost:8080/",
          "height": 287
        },
        "id": "cyIfAGRYhaX1",
        "outputId": "9c8c8d09-a7a7-45d4-f22b-f140a17a20eb"
      },
      "outputs": [
        {
          "output_type": "error",
          "ename": "ValueError",
          "evalue": "ignored",
          "traceback": [
            "\u001b[0;31m---------------------------------------------------------------------------\u001b[0m",
            "\u001b[0;31mValueError\u001b[0m                                Traceback (most recent call last)",
            "\u001b[0;32m<ipython-input-12-7c827c042d7c>\u001b[0m in \u001b[0;36m<module>\u001b[0;34m\u001b[0m\n\u001b[0;32m----> 1\u001b[0;31m \u001b[0mm1\u001b[0m\u001b[0;34m.\u001b[0m\u001b[0msummary\u001b[0m\u001b[0;34m(\u001b[0m\u001b[0;34m)\u001b[0m\u001b[0;34m\u001b[0m\u001b[0;34m\u001b[0m\u001b[0m\n\u001b[0m",
            "\u001b[0;32m/usr/local/lib/python3.7/dist-packages/keras/engine/training.py\u001b[0m in \u001b[0;36msummary\u001b[0;34m(self, line_length, positions, print_fn, expand_nested, show_trainable)\u001b[0m\n\u001b[1;32m   2868\u001b[0m     \u001b[0;32mif\u001b[0m \u001b[0;32mnot\u001b[0m \u001b[0mself\u001b[0m\u001b[0;34m.\u001b[0m\u001b[0mbuilt\u001b[0m\u001b[0;34m:\u001b[0m\u001b[0;34m\u001b[0m\u001b[0;34m\u001b[0m\u001b[0m\n\u001b[1;32m   2869\u001b[0m       raise ValueError(\n\u001b[0;32m-> 2870\u001b[0;31m           \u001b[0;34m'This model has not yet been built. '\u001b[0m\u001b[0;34m\u001b[0m\u001b[0;34m\u001b[0m\u001b[0m\n\u001b[0m\u001b[1;32m   2871\u001b[0m           \u001b[0;34m'Build the model first by calling `build()` or by calling '\u001b[0m\u001b[0;34m\u001b[0m\u001b[0;34m\u001b[0m\u001b[0m\n\u001b[1;32m   2872\u001b[0m           'the model on a batch of data.')\n",
            "\u001b[0;31mValueError\u001b[0m: This model has not yet been built. Build the model first by calling `build()` or by calling the model on a batch of data."
          ]
        }
      ],
      "source": [
        "m1.summary()"
      ]
    },
    {
      "cell_type": "markdown",
      "source": [],
      "metadata": {
        "id": "4nN6VbCdC3zR"
      }
    },
    {
      "cell_type": "code",
      "execution_count": 13,
      "metadata": {
        "colab": {
          "base_uri": "https://localhost:8080/"
        },
        "id": "dB4Xh8vNilev",
        "outputId": "5e109389-1d82-41cd-bddd-e981eee142a2"
      },
      "outputs": [
        {
          "output_type": "stream",
          "name": "stdout",
          "text": [
            "Epoch 1/40\n",
            "487/487 [==============================] - 17s 15ms/step - loss: 2.2285 - accuracy: 0.2094 - val_loss: 1.7491 - val_accuracy: 0.3601\n",
            "Epoch 2/40\n",
            "487/487 [==============================] - 6s 13ms/step - loss: 1.1380 - accuracy: 0.6218 - val_loss: 0.6548 - val_accuracy: 0.7926\n",
            "Epoch 3/40\n",
            "487/487 [==============================] - 7s 13ms/step - loss: 0.7647 - accuracy: 0.7538 - val_loss: 0.5491 - val_accuracy: 0.8267\n",
            "Epoch 4/40\n",
            "487/487 [==============================] - 7s 14ms/step - loss: 0.6644 - accuracy: 0.7887 - val_loss: 0.4455 - val_accuracy: 0.8661\n",
            "Epoch 5/40\n",
            "487/487 [==============================] - 7s 13ms/step - loss: 0.6148 - accuracy: 0.8045 - val_loss: 0.4458 - val_accuracy: 0.8647\n",
            "Epoch 6/40\n",
            "487/487 [==============================] - 7s 14ms/step - loss: 0.5772 - accuracy: 0.8169 - val_loss: 0.4598 - val_accuracy: 0.8589\n",
            "Epoch 7/40\n",
            "487/487 [==============================] - 7s 13ms/step - loss: 0.5525 - accuracy: 0.8259 - val_loss: 0.3869 - val_accuracy: 0.8809\n",
            "Epoch 8/40\n",
            "487/487 [==============================] - 7s 15ms/step - loss: 0.5331 - accuracy: 0.8313 - val_loss: 0.4353 - val_accuracy: 0.8634\n",
            "Epoch 9/40\n",
            "487/487 [==============================] - 7s 14ms/step - loss: 0.5209 - accuracy: 0.8376 - val_loss: 0.3786 - val_accuracy: 0.8822\n",
            "Epoch 10/40\n",
            "487/487 [==============================] - 7s 14ms/step - loss: 0.5041 - accuracy: 0.8428 - val_loss: 0.3810 - val_accuracy: 0.8837\n",
            "Epoch 11/40\n",
            "487/487 [==============================] - 7s 13ms/step - loss: 0.4922 - accuracy: 0.8447 - val_loss: 0.4249 - val_accuracy: 0.8693\n",
            "Epoch 12/40\n",
            "487/487 [==============================] - 7s 13ms/step - loss: 0.4841 - accuracy: 0.8486 - val_loss: 0.3452 - val_accuracy: 0.8919\n",
            "Epoch 13/40\n",
            "487/487 [==============================] - 7s 13ms/step - loss: 0.4759 - accuracy: 0.8505 - val_loss: 0.3505 - val_accuracy: 0.8932\n",
            "Epoch 14/40\n",
            "487/487 [==============================] - 7s 14ms/step - loss: 0.4658 - accuracy: 0.8540 - val_loss: 0.4370 - val_accuracy: 0.8625\n",
            "Epoch 15/40\n",
            "487/487 [==============================] - 6s 13ms/step - loss: 0.4598 - accuracy: 0.8581 - val_loss: 0.3379 - val_accuracy: 0.8977\n",
            "Epoch 16/40\n",
            "487/487 [==============================] - 7s 13ms/step - loss: 0.4558 - accuracy: 0.8592 - val_loss: 0.3323 - val_accuracy: 0.8993\n",
            "Epoch 17/40\n",
            "487/487 [==============================] - 7s 13ms/step - loss: 0.4535 - accuracy: 0.8595 - val_loss: 0.3911 - val_accuracy: 0.8808\n",
            "Epoch 18/40\n",
            "487/487 [==============================] - 6s 13ms/step - loss: 0.4439 - accuracy: 0.8623 - val_loss: 0.2981 - val_accuracy: 0.9117\n",
            "Epoch 19/40\n",
            "487/487 [==============================] - 7s 13ms/step - loss: 0.4393 - accuracy: 0.8635 - val_loss: 0.3058 - val_accuracy: 0.9094\n",
            "Epoch 20/40\n",
            "487/487 [==============================] - 7s 14ms/step - loss: 0.4348 - accuracy: 0.8646 - val_loss: 0.3146 - val_accuracy: 0.9064\n",
            "Epoch 21/40\n",
            "487/487 [==============================] - 7s 14ms/step - loss: 0.4325 - accuracy: 0.8662 - val_loss: 0.3215 - val_accuracy: 0.9034\n",
            "Epoch 22/40\n",
            "487/487 [==============================] - 7s 13ms/step - loss: 0.4265 - accuracy: 0.8685 - val_loss: 0.2983 - val_accuracy: 0.9110\n",
            "Epoch 23/40\n",
            "487/487 [==============================] - 7s 14ms/step - loss: 0.4271 - accuracy: 0.8674 - val_loss: 0.2965 - val_accuracy: 0.9103\n",
            "Epoch 24/40\n",
            "487/487 [==============================] - 7s 13ms/step - loss: 0.4219 - accuracy: 0.8696 - val_loss: 0.2965 - val_accuracy: 0.9138\n",
            "Epoch 25/40\n",
            "487/487 [==============================] - 7s 13ms/step - loss: 0.4171 - accuracy: 0.8714 - val_loss: 0.3177 - val_accuracy: 0.9019\n",
            "Epoch 26/40\n",
            "487/487 [==============================] - 7s 13ms/step - loss: 0.4120 - accuracy: 0.8725 - val_loss: 0.2945 - val_accuracy: 0.9120\n",
            "Epoch 27/40\n",
            "487/487 [==============================] - 7s 14ms/step - loss: 0.4095 - accuracy: 0.8744 - val_loss: 0.3129 - val_accuracy: 0.9078\n",
            "Epoch 28/40\n",
            "487/487 [==============================] - 7s 13ms/step - loss: 0.4088 - accuracy: 0.8737 - val_loss: 0.3174 - val_accuracy: 0.9057\n",
            "Epoch 29/40\n",
            "487/487 [==============================] - 7s 13ms/step - loss: 0.4067 - accuracy: 0.8749 - val_loss: 0.3098 - val_accuracy: 0.9072\n",
            "Epoch 30/40\n",
            "487/487 [==============================] - 7s 13ms/step - loss: 0.4015 - accuracy: 0.8755 - val_loss: 0.2906 - val_accuracy: 0.9140\n",
            "Epoch 31/40\n",
            "487/487 [==============================] - 7s 13ms/step - loss: 0.4019 - accuracy: 0.8761 - val_loss: 0.3379 - val_accuracy: 0.8974\n",
            "Epoch 32/40\n",
            "487/487 [==============================] - 7s 13ms/step - loss: 0.4000 - accuracy: 0.8776 - val_loss: 0.3030 - val_accuracy: 0.9074\n",
            "Epoch 33/40\n",
            "487/487 [==============================] - 7s 13ms/step - loss: 0.3950 - accuracy: 0.8778 - val_loss: 0.2880 - val_accuracy: 0.9137\n",
            "Epoch 34/40\n",
            "487/487 [==============================] - 6s 13ms/step - loss: 0.3914 - accuracy: 0.8794 - val_loss: 0.2918 - val_accuracy: 0.9139\n",
            "Epoch 35/40\n",
            "487/487 [==============================] - 7s 13ms/step - loss: 0.3939 - accuracy: 0.8778 - val_loss: 0.2825 - val_accuracy: 0.9156\n",
            "Epoch 36/40\n",
            "487/487 [==============================] - 7s 13ms/step - loss: 0.3878 - accuracy: 0.8804 - val_loss: 0.3139 - val_accuracy: 0.9080\n",
            "Epoch 37/40\n",
            "487/487 [==============================] - 8s 17ms/step - loss: 0.3906 - accuracy: 0.8803 - val_loss: 0.2867 - val_accuracy: 0.9163\n",
            "Epoch 38/40\n",
            "487/487 [==============================] - 7s 14ms/step - loss: 0.3866 - accuracy: 0.8819 - val_loss: 0.2925 - val_accuracy: 0.9135\n",
            "Epoch 39/40\n",
            "487/487 [==============================] - 7s 13ms/step - loss: 0.3889 - accuracy: 0.8820 - val_loss: 0.2789 - val_accuracy: 0.9188\n",
            "Epoch 40/40\n",
            "487/487 [==============================] - 7s 14ms/step - loss: 0.3832 - accuracy: 0.8813 - val_loss: 0.2677 - val_accuracy: 0.9211\n"
          ]
        }
      ],
      "source": [
        "history = m1.fit(X_train, y_train, batch_size=128,\n",
        "                              epochs=40, validation_data=(X_val, y_val),\n",
        "                              callbacks=[early_stopping]) "
      ]
    },
    {
      "cell_type": "markdown",
      "source": [
        "A continuación se muestra el accuracy del modelo, comparando su desempeño en el set de entrenamiento y validación. En este caso, se observa que ambos tienen pendiente positiva en todo momento. No existe una disparidad sustancial en ambas magnitudes por lo que no se trata de underfitting u overfitting. Cabe destacar que el accuracy de entrenamiento es más estable que el de validación, pero el segundo se mantiene lo suficiente para mantener la tendencia. Inclusive se puede apreciar menos variabilidad en las últimas épocas."
      ],
      "metadata": {
        "id": "_Ht4kw8dDugo"
      }
    },
    {
      "cell_type": "code",
      "source": [
        "train_acc = history.history['accuracy']\n",
        "val_acc = history.history['val_accuracy']\n",
        "\n",
        "plt.figure(figsize=(20, 10))\n",
        "\n",
        "plt.subplot(1, 2, 1)\n",
        "plt.plot(train_acc, label='Training Accuracy')\n",
        "plt.plot(val_acc, label='Validation Accuracy')\n",
        "plt.legend()\n",
        "plt.title('Epochs vs. Training and Validation Accuracy')"
      ],
      "metadata": {
        "colab": {
          "base_uri": "https://localhost:8080/",
          "height": 624
        },
        "id": "wuw3unbX0iXt",
        "outputId": "38bc98a4-6f47-4c5a-9eeb-d6a0e8dda463"
      },
      "execution_count": 14,
      "outputs": [
        {
          "output_type": "execute_result",
          "data": {
            "text/plain": [
              "Text(0.5, 1.0, 'Epochs vs. Training and Validation Accuracy')"
            ]
          },
          "metadata": {},
          "execution_count": 14
        },
        {
          "output_type": "display_data",
          "data": {
            "text/plain": [
              "<Figure size 1440x720 with 1 Axes>"
            ],
            "image/png": "[encoded data removed]"
          },
          "metadata": {
            "needs_background": "light"
          }
        }
      ]
    },
    {
      "cell_type": "markdown",
      "source": [
        "## Evaluación del modelo\n",
        "\n",
        "Para apreciar el comportamiento del modelo durante y al final del entrenamiento, se utilizará el KFold cross-validation para analizar su consistencia. Para ello, se determinará el accuracy promedio y su desviación estándar de todas las instancias experimentales. En este caso, tanto un accuracy promedio alto y una desviación estándar baja (qué tan entrenable es) apuntan a un modelo con mejor desempeño."
      ],
      "metadata": {
        "id": "qW8NrobU0-D3"
      }
    },
    {
      "cell_type": "code",
      "source": [
        "from sklearn.model_selection import KFold"
      ],
      "metadata": {
        "id": "PPfeDmKk2RIz"
      },
      "execution_count": 15,
      "outputs": []
    },
    {
      "cell_type": "markdown",
      "source": [
        "En contraste a la primera instancia del modelo, cada iteración del KFold se entrenerán solo durante 30 épocas."
      ],
      "metadata": {
        "id": "jg6QfWmnGKTp"
      }
    },
    {
      "cell_type": "code",
      "source": [
        "#80% train y 20% validation\n",
        "n_split = 5\n",
        "k_eval = []\n",
        "\n",
        "for train_i ,val_i in KFold(n_split).split(train_images):\n",
        "  x_train,x_val= train_images[train_i], train_images[val_i]\n",
        "  y_t,y_v= train_labels[train_i], train_labels[val_i]\n",
        "\n",
        "  aux = Model1()\n",
        "\n",
        "  aux.compile(optimizer=optimizer,\n",
        "              loss='categorical_crossentropy',\n",
        "              metrics=['accuracy'])\n",
        "  \n",
        "  aux.fit(x_train, y_t,epochs=30)\n",
        "\n",
        "  eval = aux.evaluate(x_val,y_v)\n",
        "  k_eval.append(eval[1])\n",
        "\n",
        "print('Model evaluation ', eval)"
      ],
      "metadata": {
        "colab": {
          "base_uri": "https://localhost:8080/"
        },
        "id": "QTE3CkPk1_nM",
        "outputId": "f956d5b1-0662-4502-b7e7-31a0b6de28be"
      },
      "execution_count": 16,
      "outputs": [
        {
          "output_type": "stream",
          "name": "stdout",
          "text": [
            "Epoch 1/30\n",
            "1832/1832 [==============================] - 17s 8ms/step - loss: 2.2206 - accuracy: 0.1986\n",
            "Epoch 2/30\n",
            "1832/1832 [==============================] - 12s 7ms/step - loss: 1.2058 - accuracy: 0.5970\n",
            "Epoch 3/30\n",
            "1832/1832 [==============================] - 12s 7ms/step - loss: 0.8142 - accuracy: 0.7380\n",
            "Epoch 4/30\n",
            "1832/1832 [==============================] - 12s 7ms/step - loss: 0.6989 - accuracy: 0.7742\n",
            "Epoch 5/30\n",
            "1832/1832 [==============================] - 14s 7ms/step - loss: 0.6481 - accuracy: 0.7937\n",
            "Epoch 6/30\n",
            "1832/1832 [==============================] - 12s 7ms/step - loss: 0.6096 - accuracy: 0.8082\n",
            "Epoch 7/30\n",
            "1832/1832 [==============================] - 12s 7ms/step - loss: 0.5826 - accuracy: 0.8180\n",
            "Epoch 8/30\n",
            "1832/1832 [==============================] - 12s 7ms/step - loss: 0.5590 - accuracy: 0.8249\n",
            "Epoch 9/30\n",
            "1832/1832 [==============================] - 12s 7ms/step - loss: 0.5436 - accuracy: 0.8306\n",
            "Epoch 10/30\n",
            "1832/1832 [==============================] - 12s 7ms/step - loss: 0.5264 - accuracy: 0.8337\n",
            "Epoch 11/30\n",
            "1832/1832 [==============================] - 12s 7ms/step - loss: 0.5133 - accuracy: 0.8394\n",
            "Epoch 12/30\n",
            "1832/1832 [==============================] - 12s 7ms/step - loss: 0.5078 - accuracy: 0.8410\n",
            "Epoch 13/30\n",
            "1832/1832 [==============================] - 12s 7ms/step - loss: 0.5025 - accuracy: 0.8444\n",
            "Epoch 14/30\n",
            "1832/1832 [==============================] - 12s 7ms/step - loss: 0.4917 - accuracy: 0.8451\n",
            "Epoch 15/30\n",
            "1832/1832 [==============================] - 14s 8ms/step - loss: 0.4823 - accuracy: 0.8497\n",
            "Epoch 16/30\n",
            "1832/1832 [==============================] - 13s 7ms/step - loss: 0.4794 - accuracy: 0.8494\n",
            "Epoch 17/30\n",
            "1832/1832 [==============================] - 12s 7ms/step - loss: 0.4706 - accuracy: 0.8538\n",
            "Epoch 18/30\n",
            "1832/1832 [==============================] - 12s 7ms/step - loss: 0.4656 - accuracy: 0.8549\n",
            "Epoch 19/30\n",
            "1832/1832 [==============================] - 19s 10ms/step - loss: 0.4608 - accuracy: 0.8571\n",
            "Epoch 20/30\n",
            "1832/1832 [==============================] - 17s 9ms/step - loss: 0.4554 - accuracy: 0.8579\n",
            "Epoch 21/30\n",
            "1832/1832 [==============================] - 15s 8ms/step - loss: 0.4519 - accuracy: 0.8597\n",
            "Epoch 22/30\n",
            "1832/1832 [==============================] - 13s 7ms/step - loss: 0.4485 - accuracy: 0.8621\n",
            "Epoch 23/30\n",
            "1832/1832 [==============================] - 12s 7ms/step - loss: 0.4432 - accuracy: 0.8639\n",
            "Epoch 24/30\n",
            "1832/1832 [==============================] - 12s 7ms/step - loss: 0.4379 - accuracy: 0.8643\n",
            "Epoch 25/30\n",
            "1832/1832 [==============================] - 16s 9ms/step - loss: 0.4380 - accuracy: 0.8652\n",
            "Epoch 26/30\n",
            "1832/1832 [==============================] - 18s 10ms/step - loss: 0.4328 - accuracy: 0.8668\n",
            "Epoch 27/30\n",
            "1832/1832 [==============================] - 12s 7ms/step - loss: 0.4311 - accuracy: 0.8659\n",
            "Epoch 28/30\n",
            "1832/1832 [==============================] - 12s 7ms/step - loss: 0.4259 - accuracy: 0.8689\n",
            "Epoch 29/30\n",
            "1832/1832 [==============================] - 12s 7ms/step - loss: 0.4249 - accuracy: 0.8691\n",
            "Epoch 30/30\n",
            "1832/1832 [==============================] - 12s 7ms/step - loss: 0.4188 - accuracy: 0.8705\n",
            "458/458 [==============================] - 2s 4ms/step - loss: 0.2981 - accuracy: 0.9121\n",
            "Epoch 1/30\n",
            "1832/1832 [==============================] - 14s 7ms/step - loss: 2.2561 - accuracy: 0.1860\n",
            "Epoch 2/30\n",
            "1832/1832 [==============================] - 12s 7ms/step - loss: 1.6555 - accuracy: 0.4242\n",
            "Epoch 3/30\n",
            "1832/1832 [==============================] - 12s 7ms/step - loss: 0.8912 - accuracy: 0.7095\n",
            "Epoch 4/30\n",
            "1832/1832 [==============================] - 13s 7ms/step - loss: 0.7222 - accuracy: 0.7692\n",
            "Epoch 5/30\n",
            "1832/1832 [==============================] - 12s 7ms/step - loss: 0.6527 - accuracy: 0.7942\n",
            "Epoch 6/30\n",
            "1832/1832 [==============================] - 13s 7ms/step - loss: 0.6104 - accuracy: 0.8087\n",
            "Epoch 7/30\n",
            "1832/1832 [==============================] - 14s 7ms/step - loss: 0.5799 - accuracy: 0.8175\n",
            "Epoch 8/30\n",
            "1832/1832 [==============================] - 12s 7ms/step - loss: 0.5556 - accuracy: 0.8253\n",
            "Epoch 9/30\n",
            "1832/1832 [==============================] - 12s 7ms/step - loss: 0.5432 - accuracy: 0.8313\n",
            "Epoch 10/30\n",
            "1832/1832 [==============================] - 12s 7ms/step - loss: 0.5261 - accuracy: 0.8347\n",
            "Epoch 11/30\n",
            "1832/1832 [==============================] - 13s 7ms/step - loss: 0.5129 - accuracy: 0.8396\n",
            "Epoch 12/30\n",
            "1832/1832 [==============================] - 12s 7ms/step - loss: 0.5049 - accuracy: 0.8426\n",
            "Epoch 13/30\n",
            "1832/1832 [==============================] - 12s 7ms/step - loss: 0.4955 - accuracy: 0.8447\n",
            "Epoch 14/30\n",
            "1832/1832 [==============================] - 12s 7ms/step - loss: 0.4837 - accuracy: 0.8479\n",
            "Epoch 15/30\n",
            "1832/1832 [==============================] - 12s 7ms/step - loss: 0.4790 - accuracy: 0.8510\n",
            "Epoch 16/30\n",
            "1832/1832 [==============================] - 12s 7ms/step - loss: 0.4708 - accuracy: 0.8530\n",
            "Epoch 17/30\n",
            "1832/1832 [==============================] - 12s 7ms/step - loss: 0.4658 - accuracy: 0.8557\n",
            "Epoch 18/30\n",
            "1832/1832 [==============================] - 12s 7ms/step - loss: 0.4615 - accuracy: 0.8572\n",
            "Epoch 19/30\n",
            "1832/1832 [==============================] - 12s 7ms/step - loss: 0.4582 - accuracy: 0.8582\n",
            "Epoch 20/30\n",
            "1832/1832 [==============================] - 15s 8ms/step - loss: 0.4503 - accuracy: 0.8604\n",
            "Epoch 21/30\n",
            "1832/1832 [==============================] - 12s 7ms/step - loss: 0.4495 - accuracy: 0.8632\n",
            "Epoch 22/30\n",
            "1832/1832 [==============================] - 12s 7ms/step - loss: 0.4411 - accuracy: 0.8648\n",
            "Epoch 23/30\n",
            "1832/1832 [==============================] - 12s 7ms/step - loss: 0.4353 - accuracy: 0.8660\n",
            "Epoch 24/30\n",
            "1832/1832 [==============================] - 12s 7ms/step - loss: 0.4346 - accuracy: 0.8658\n",
            "Epoch 25/30\n",
            "1832/1832 [==============================] - 12s 7ms/step - loss: 0.4267 - accuracy: 0.8689\n",
            "Epoch 26/30\n",
            "1832/1832 [==============================] - 12s 7ms/step - loss: 0.4327 - accuracy: 0.8664\n",
            "Epoch 27/30\n",
            "1832/1832 [==============================] - 12s 7ms/step - loss: 0.4251 - accuracy: 0.8691\n",
            "Epoch 28/30\n",
            "1832/1832 [==============================] - 13s 7ms/step - loss: 0.4237 - accuracy: 0.8697\n",
            "Epoch 29/30\n",
            "1832/1832 [==============================] - 12s 7ms/step - loss: 0.4248 - accuracy: 0.8690\n",
            "Epoch 30/30\n",
            "1832/1832 [==============================] - 12s 7ms/step - loss: 0.4208 - accuracy: 0.8701\n",
            "458/458 [==============================] - 2s 4ms/step - loss: 0.3295 - accuracy: 0.9005\n",
            "Epoch 1/30\n",
            "1832/1832 [==============================] - 14s 7ms/step - loss: 2.2345 - accuracy: 0.1944\n",
            "Epoch 2/30\n",
            "1832/1832 [==============================] - 12s 7ms/step - loss: 1.4720 - accuracy: 0.4985\n",
            "Epoch 3/30\n",
            "1832/1832 [==============================] - 12s 7ms/step - loss: 0.8687 - accuracy: 0.7198\n",
            "Epoch 4/30\n",
            "1832/1832 [==============================] - 12s 7ms/step - loss: 0.7359 - accuracy: 0.7643\n",
            "Epoch 5/30\n",
            "1832/1832 [==============================] - 13s 7ms/step - loss: 0.6627 - accuracy: 0.7891\n",
            "Epoch 6/30\n",
            "1832/1832 [==============================] - 13s 7ms/step - loss: 0.6199 - accuracy: 0.8032\n",
            "Epoch 7/30\n",
            "1832/1832 [==============================] - 12s 7ms/step - loss: 0.5861 - accuracy: 0.8156\n",
            "Epoch 8/30\n",
            "1832/1832 [==============================] - 12s 7ms/step - loss: 0.5605 - accuracy: 0.8226\n",
            "Epoch 9/30\n",
            "1832/1832 [==============================] - 15s 8ms/step - loss: 0.5392 - accuracy: 0.8293\n",
            "Epoch 10/30\n",
            "1832/1832 [==============================] - 12s 7ms/step - loss: 0.5250 - accuracy: 0.8351\n",
            "Epoch 11/30\n",
            "1832/1832 [==============================] - 12s 7ms/step - loss: 0.5144 - accuracy: 0.8393\n",
            "Epoch 12/30\n",
            "1832/1832 [==============================] - 12s 7ms/step - loss: 0.5057 - accuracy: 0.8415\n",
            "Epoch 13/30\n",
            "1832/1832 [==============================] - 12s 7ms/step - loss: 0.4890 - accuracy: 0.8490\n",
            "Epoch 14/30\n",
            "1832/1832 [==============================] - 12s 7ms/step - loss: 0.4863 - accuracy: 0.8492\n",
            "Epoch 15/30\n",
            "1832/1832 [==============================] - 13s 7ms/step - loss: 0.4767 - accuracy: 0.8504\n",
            "Epoch 16/30\n",
            "1832/1832 [==============================] - 12s 7ms/step - loss: 0.4688 - accuracy: 0.8544\n",
            "Epoch 17/30\n",
            "1832/1832 [==============================] - 12s 7ms/step - loss: 0.4627 - accuracy: 0.8554\n",
            "Epoch 18/30\n",
            "1832/1832 [==============================] - 12s 7ms/step - loss: 0.4557 - accuracy: 0.8582\n",
            "Epoch 19/30\n",
            "1832/1832 [==============================] - 13s 7ms/step - loss: 0.4575 - accuracy: 0.8590\n",
            "Epoch 20/30\n",
            "1832/1832 [==============================] - 13s 7ms/step - loss: 0.4471 - accuracy: 0.8610\n",
            "Epoch 21/30\n",
            "1832/1832 [==============================] - 12s 7ms/step - loss: 0.4434 - accuracy: 0.8630\n",
            "Epoch 22/30\n",
            "1832/1832 [==============================] - 12s 7ms/step - loss: 0.4416 - accuracy: 0.8631\n",
            "Epoch 23/30\n",
            "1832/1832 [==============================] - 13s 7ms/step - loss: 0.4393 - accuracy: 0.8642\n",
            "Epoch 24/30\n",
            "1832/1832 [==============================] - 12s 7ms/step - loss: 0.4350 - accuracy: 0.8663\n",
            "Epoch 25/30\n",
            "1832/1832 [==============================] - 13s 7ms/step - loss: 0.4256 - accuracy: 0.8697\n",
            "Epoch 26/30\n",
            "1832/1832 [==============================] - 12s 7ms/step - loss: 0.4263 - accuracy: 0.8683\n",
            "Epoch 27/30\n",
            "1832/1832 [==============================] - 12s 7ms/step - loss: 0.4227 - accuracy: 0.8694\n",
            "Epoch 28/30\n",
            "1832/1832 [==============================] - 12s 7ms/step - loss: 0.4216 - accuracy: 0.8711\n",
            "Epoch 29/30\n",
            "1832/1832 [==============================] - 15s 8ms/step - loss: 0.4195 - accuracy: 0.8711\n",
            "Epoch 30/30\n",
            "1832/1832 [==============================] - 13s 7ms/step - loss: 0.4168 - accuracy: 0.8714\n",
            "458/458 [==============================] - 2s 4ms/step - loss: 0.3167 - accuracy: 0.9070\n",
            "Epoch 1/30\n",
            "1832/1832 [==============================] - 13s 7ms/step - loss: 2.2281 - accuracy: 0.1934\n",
            "Epoch 2/30\n",
            "1832/1832 [==============================] - 12s 7ms/step - loss: 1.3684 - accuracy: 0.5358\n",
            "Epoch 3/30\n",
            "1832/1832 [==============================] - 12s 7ms/step - loss: 0.8229 - accuracy: 0.7351\n",
            "Epoch 4/30\n",
            "1832/1832 [==============================] - 13s 7ms/step - loss: 0.7097 - accuracy: 0.7746\n",
            "Epoch 5/30\n",
            "1832/1832 [==============================] - 12s 7ms/step - loss: 0.6479 - accuracy: 0.7958\n",
            "Epoch 6/30\n",
            "1832/1832 [==============================] - 12s 7ms/step - loss: 0.6122 - accuracy: 0.8075\n",
            "Epoch 7/30\n",
            "1832/1832 [==============================] - 12s 7ms/step - loss: 0.5809 - accuracy: 0.8175\n",
            "Epoch 8/30\n",
            "1832/1832 [==============================] - 12s 7ms/step - loss: 0.5613 - accuracy: 0.8238\n",
            "Epoch 9/30\n",
            "1832/1832 [==============================] - 13s 7ms/step - loss: 0.5413 - accuracy: 0.8294\n",
            "Epoch 10/30\n",
            "1832/1832 [==============================] - 12s 7ms/step - loss: 0.5310 - accuracy: 0.8349\n",
            "Epoch 11/30\n",
            "1832/1832 [==============================] - 12s 7ms/step - loss: 0.5123 - accuracy: 0.8408\n",
            "Epoch 12/30\n",
            "1832/1832 [==============================] - 12s 7ms/step - loss: 0.5051 - accuracy: 0.8408\n",
            "Epoch 13/30\n",
            "1832/1832 [==============================] - 13s 7ms/step - loss: 0.4903 - accuracy: 0.8478\n",
            "Epoch 14/30\n",
            "1832/1832 [==============================] - 12s 7ms/step - loss: 0.4817 - accuracy: 0.8507\n",
            "Epoch 15/30\n",
            "1832/1832 [==============================] - 12s 7ms/step - loss: 0.4758 - accuracy: 0.8512\n",
            "Epoch 16/30\n",
            "1832/1832 [==============================] - 12s 7ms/step - loss: 0.4745 - accuracy: 0.8523\n",
            "Epoch 17/30\n",
            "1832/1832 [==============================] - 12s 7ms/step - loss: 0.4658 - accuracy: 0.8555\n",
            "Epoch 18/30\n",
            "1832/1832 [==============================] - 15s 8ms/step - loss: 0.4603 - accuracy: 0.8579\n",
            "Epoch 19/30\n",
            "1832/1832 [==============================] - 12s 7ms/step - loss: 0.4572 - accuracy: 0.8613\n",
            "Epoch 20/30\n",
            "1832/1832 [==============================] - 12s 7ms/step - loss: 0.4502 - accuracy: 0.8608\n",
            "Epoch 21/30\n",
            "1832/1832 [==============================] - 12s 7ms/step - loss: 0.4472 - accuracy: 0.8603\n",
            "Epoch 22/30\n",
            "1832/1832 [==============================] - 12s 7ms/step - loss: 0.4431 - accuracy: 0.8631\n",
            "Epoch 23/30\n",
            "1832/1832 [==============================] - 12s 7ms/step - loss: 0.4401 - accuracy: 0.8633\n",
            "Epoch 24/30\n",
            "1832/1832 [==============================] - 12s 7ms/step - loss: 0.4395 - accuracy: 0.8636\n",
            "Epoch 25/30\n",
            "1832/1832 [==============================] - 12s 7ms/step - loss: 0.4315 - accuracy: 0.8662\n",
            "Epoch 26/30\n",
            "1832/1832 [==============================] - 12s 7ms/step - loss: 0.4277 - accuracy: 0.8667\n",
            "Epoch 27/30\n",
            "1832/1832 [==============================] - 12s 7ms/step - loss: 0.4274 - accuracy: 0.8680\n",
            "Epoch 28/30\n",
            "1832/1832 [==============================] - 12s 7ms/step - loss: 0.4221 - accuracy: 0.8692\n",
            "Epoch 29/30\n",
            "1832/1832 [==============================] - 13s 7ms/step - loss: 0.4195 - accuracy: 0.8709\n",
            "Epoch 30/30\n",
            "1832/1832 [==============================] - 12s 7ms/step - loss: 0.4145 - accuracy: 0.8711\n",
            "458/458 [==============================] - 2s 3ms/step - loss: 0.2951 - accuracy: 0.9139\n",
            "Epoch 1/30\n",
            "1832/1832 [==============================] - 14s 7ms/step - loss: 2.1812 - accuracy: 0.2179\n",
            "Epoch 2/30\n",
            "1832/1832 [==============================] - 12s 7ms/step - loss: 1.1405 - accuracy: 0.6208\n",
            "Epoch 3/30\n",
            "1832/1832 [==============================] - 12s 7ms/step - loss: 0.7989 - accuracy: 0.7441\n",
            "Epoch 4/30\n",
            "1832/1832 [==============================] - 12s 7ms/step - loss: 0.6956 - accuracy: 0.7796\n",
            "Epoch 5/30\n",
            "1832/1832 [==============================] - 12s 7ms/step - loss: 0.6392 - accuracy: 0.7969\n",
            "Epoch 6/30\n",
            "1832/1832 [==============================] - 12s 7ms/step - loss: 0.6105 - accuracy: 0.8075\n",
            "Epoch 7/30\n",
            "1832/1832 [==============================] - 15s 8ms/step - loss: 0.5802 - accuracy: 0.8164\n",
            "Epoch 8/30\n",
            "1832/1832 [==============================] - 13s 7ms/step - loss: 0.5638 - accuracy: 0.8226\n",
            "Epoch 9/30\n",
            "1832/1832 [==============================] - 12s 7ms/step - loss: 0.5490 - accuracy: 0.8282\n",
            "Epoch 10/30\n",
            "1832/1832 [==============================] - 12s 7ms/step - loss: 0.5319 - accuracy: 0.8343\n",
            "Epoch 11/30\n",
            "1832/1832 [==============================] - 12s 7ms/step - loss: 0.5193 - accuracy: 0.8374\n",
            "Epoch 12/30\n",
            "1832/1832 [==============================] - 12s 7ms/step - loss: 0.5104 - accuracy: 0.8402\n",
            "Epoch 13/30\n",
            "1832/1832 [==============================] - 12s 7ms/step - loss: 0.5018 - accuracy: 0.8432\n",
            "Epoch 14/30\n",
            "1832/1832 [==============================] - 12s 7ms/step - loss: 0.4989 - accuracy: 0.8438\n",
            "Epoch 15/30\n",
            "1832/1832 [==============================] - 12s 7ms/step - loss: 0.4863 - accuracy: 0.8483\n",
            "Epoch 16/30\n",
            "1832/1832 [==============================] - 12s 7ms/step - loss: 0.4820 - accuracy: 0.8513\n",
            "Epoch 17/30\n",
            "1832/1832 [==============================] - 12s 7ms/step - loss: 0.4750 - accuracy: 0.8529\n",
            "Epoch 18/30\n",
            "1832/1832 [==============================] - 12s 7ms/step - loss: 0.4711 - accuracy: 0.8531\n",
            "Epoch 19/30\n",
            "1832/1832 [==============================] - 12s 7ms/step - loss: 0.4700 - accuracy: 0.8537\n",
            "Epoch 20/30\n",
            "1832/1832 [==============================] - 12s 7ms/step - loss: 0.4606 - accuracy: 0.8547\n",
            "Epoch 21/30\n",
            "1832/1832 [==============================] - 14s 7ms/step - loss: 0.4551 - accuracy: 0.8592\n",
            "Epoch 22/30\n",
            "1832/1832 [==============================] - 12s 7ms/step - loss: 0.4558 - accuracy: 0.8588\n",
            "Epoch 23/30\n",
            "1832/1832 [==============================] - 12s 7ms/step - loss: 0.4519 - accuracy: 0.8599\n",
            "Epoch 24/30\n",
            "1832/1832 [==============================] - 12s 7ms/step - loss: 0.4453 - accuracy: 0.8618\n",
            "Epoch 25/30\n",
            "1832/1832 [==============================] - 12s 7ms/step - loss: 0.4417 - accuracy: 0.8636\n",
            "Epoch 26/30\n",
            "1832/1832 [==============================] - 15s 8ms/step - loss: 0.4428 - accuracy: 0.8627\n",
            "Epoch 27/30\n",
            "1832/1832 [==============================] - 13s 7ms/step - loss: 0.4377 - accuracy: 0.8666\n",
            "Epoch 28/30\n",
            "1832/1832 [==============================] - 12s 7ms/step - loss: 0.4330 - accuracy: 0.8662\n",
            "Epoch 29/30\n",
            "1832/1832 [==============================] - 12s 7ms/step - loss: 0.4317 - accuracy: 0.8671\n",
            "Epoch 30/30\n",
            "1832/1832 [==============================] - 13s 7ms/step - loss: 0.4263 - accuracy: 0.8682\n",
            "458/458 [==============================] - 2s 4ms/step - loss: 0.2993 - accuracy: 0.9128\n",
            "Model evaluation  [0.2992788553237915, 0.9127704501152039]\n"
          ]
        }
      ]
    },
    {
      "cell_type": "markdown",
      "source": [
        "Un accuracy de 90 puede ser considerado como plausible dependiendo de la tarea que se le asigne. De igual manera, la razón entre la desviación estándar de la media apuntan a que dicho accuracy posee una estabilidad sustancial (<1%)."
      ],
      "metadata": {
        "id": "UqLrzQGjGEhR"
      }
    },
    {
      "cell_type": "code",
      "source": [
        "result = np.array(k_eval)\n",
        "print(\"Mean accuracy: \", result.mean())\n",
        "print(\"Standard deviation: \", result.std())"
      ],
      "metadata": {
        "colab": {
          "base_uri": "https://localhost:8080/"
        },
        "id": "mUUEIboYKyDo",
        "outputId": "5771bfb4-e7e5-42b0-db77-4b1c8679c19a"
      },
      "execution_count": 17,
      "outputs": [
        {
          "output_type": "stream",
          "name": "stdout",
          "text": [
            "Mean accuracy:  0.909251081943512\n",
            "Standard deviation:  0.004986134754204118\n"
          ]
        }
      ]
    },
    {
      "cell_type": "markdown",
      "source": [
        "Se muestan los resultados sobre el set de prueba provisto por el dataset. Es notable que tuvo un accuracy sustancialmente más alto que el promedio del KFold. Esto puede deberse a la capa de data augmentation que altera las imágenes para prevenir overfitting sobre el set de entrenamiento, pero que resulta benéfico para su desempeño en datos no vistos previamente."
      ],
      "metadata": {
        "id": "UkIBwHgNHJH6"
      }
    },
    {
      "cell_type": "code",
      "source": [
        "test_loss, test_acc = m1.evaluate(x=test_images, y=test_labels, verbose=0)\n",
        "\n",
        "print('Test accuracy is: {:0.4f} \\nTest loss is: {:0.4f}'.\n",
        "      format(test_acc, test_loss))"
      ],
      "metadata": {
        "id": "_8yGk8oT08qM",
        "colab": {
          "base_uri": "https://localhost:8080/"
        },
        "outputId": "7a392201-d079-493d-fa09-fbe622b945c1"
      },
      "execution_count": 18,
      "outputs": [
        {
          "output_type": "stream",
          "name": "stdout",
          "text": [
            "Test accuracy is: 0.9303 \n",
            "Test loss is: 0.2499\n"
          ]
        }
      ]
    },
    {
      "cell_type": "markdown",
      "source": [
        "# Segundo modelo (posibles mejoras)\n",
        "\n",
        "### Hacer la red más profunda\n",
        "\n",
        "El primer modelo consta de 6 capas de convolusión, 3 con un tamaño de output de 32 y 3 de tamaño de 64. Entonces, una primera propuesta es hacer la red más profunda agregando otras tres capas de convolusión con tamaño de output mayor (128), para que se mantenga la complejidad de las capas intermedias. (densidad de output intermedio). Esto implica tener más parámetros para interpretar diferencias más sutiles.\n",
        "\n",
        "### Agregar skip connections\n",
        "\n",
        "Al hacer la red más profunda nos podemos encontrar con problemas de variabilidad no deseada en el gradiente de la función de costo (shattered gradient), por lo que conexiones residuales pueden ayudar a aminorar este fenómeno.\n",
        "\n",
        "### Agregar una capa densa al final\n",
        "\n",
        "Aunque es posible que una red densa provoque overfitting al aprender las características proporcionadas por las CNN, podría ser útil para mejorar el accuracy un poco más en caso de que la CNN por sí sola no alcance resultados deseados.\n",
        "\n",
        "### Alinear Max-Pooling con la red que incrementa el número de kernels\n",
        "\n",
        "Aunque el beneficio no sea asegurado, se puede interpretar como la multiplicación del número de celdas que un kernel \"ve\" en cada uno de los inputs y el número de kernel per se. Si se mantiene el número de kernels después de un Max Pooling, dichos kernels verán una simplificación de los inputs anteriores y probablemente carezcan de información valiosa, y esto se propagará a las capas siguientes. Esto asume que la información perdida por el Max Pooling en efecto es significativa, pero se sigue tomando las ventajas del pooling aplicándolo en un momento más oportuno.\n"
      ],
      "metadata": {
        "id": "HkKTPxfqIAiB"
      }
    },
    {
      "cell_type": "code",
      "execution_count": 10,
      "metadata": {
        "id": "bC3kSRUTmKo7"
      },
      "outputs": [],
      "source": [
        "def M2():    \n",
        "    input = keras.Input(shape=(32, 32, 3))\n",
        "\n",
        "    data_augmentation = keras.Sequential(\n",
        "        [\n",
        "            layers.RandomRotation(0.2),\n",
        "            layers.RandomZoom(0.2),\n",
        "        ]\n",
        "    )\n",
        "\n",
        "    x = data_augmentation(input)\n",
        "\n",
        "    x = layers.Rescaling(1./255)(x)\n",
        "\n",
        "    for size in [32, 64, 128]:\n",
        "        residual = x\n",
        "        x = layers.BatchNormalization()(x)\n",
        "        x = layers.Conv2D(size, 3, padding=\"same\", use_bias=False)(x)\n",
        "        x = layers.Activation(\"relu\")(x)\n",
        "\n",
        "        x = layers.Dropout(0.3)(x)\n",
        "        x = layers.Conv2D(size, 3, padding=\"same\", use_bias=False)(x)\n",
        "        x = layers.Activation(\"relu\")(x)\n",
        "\n",
        "        x = layers.BatchNormalization()(x)\n",
        "        x = layers.Conv2D(size, 3, padding=\"same\", use_bias=False)(x)\n",
        "        x = layers.Activation(\"relu\")(x)\n",
        "\n",
        "        x = layers.MaxPooling2D(3, strides=2, padding=\"same\")(x)\n",
        "        x = layers.Dropout(0.3)(x)\n",
        "        \n",
        "\n",
        "        residual = layers.Conv2D(\n",
        "            size, 1, strides=2, padding=\"same\", use_bias=False)(residual)\n",
        "\n",
        "        x = layers.add([x, residual])\n",
        "\n",
        "    x = layers.BatchNormalization()(x)\n",
        "    x = layers.Flatten()(x)\n",
        "    x = layers.Dense(256, activation=\"relu\")(x)\n",
        "    outputs = layers.Dense(10, activation=\"softmax\")(x)\n",
        "    model2 = keras.Model(inputs=input, outputs=outputs)\n",
        "    return model2\n",
        "\n",
        "model2 = M2()"
      ]
    },
    {
      "cell_type": "markdown",
      "source": [
        "Al tratarse de una red algo más profunda, se reducirá un poco el learning rate respecto al anterior para aminorar un posible fenómento de exploding gradient."
      ],
      "metadata": {
        "id": "IFUqj81YYkDb"
      }
    },
    {
      "cell_type": "code",
      "execution_count": 11,
      "metadata": {
        "id": "vUPHuUW8muCQ",
        "colab": {
          "base_uri": "https://localhost:8080/"
        },
        "outputId": "790a4691-eb73-4f34-d216-d3f673d9b5af"
      },
      "outputs": [
        {
          "output_type": "stream",
          "name": "stderr",
          "text": [
            "/usr/local/lib/python3.7/dist-packages/keras/optimizers/optimizer_v2/adam.py:110: UserWarning: The `lr` argument is deprecated, use `learning_rate` instead.\n",
            "  super(Adam, self).__init__(name, **kwargs)\n"
          ]
        }
      ],
      "source": [
        "early_stopping = keras.callbacks.EarlyStopping(patience=8)\n",
        "optimizer = keras.optimizers.Adam(lr=.0008, amsgrad=True)\n",
        "model2.compile(optimizer=optimizer,\n",
        "              loss='categorical_crossentropy',\n",
        "              metrics=['accuracy'])"
      ]
    },
    {
      "cell_type": "code",
      "execution_count": 13,
      "metadata": {
        "colab": {
          "base_uri": "https://localhost:8080/"
        },
        "id": "0H_wVQEWm2Vi",
        "outputId": "d4bb2eee-e04e-4f5b-967e-feeb859d6f83"
      },
      "outputs": [
        {
          "output_type": "stream",
          "name": "stdout",
          "text": [
            "Epoch 1/40\n",
            "487/487 [==============================] - 13s 26ms/step - loss: 2.1549 - accuracy: 0.2266 - val_loss: 1.3844 - val_accuracy: 0.5507\n",
            "Epoch 2/40\n",
            "487/487 [==============================] - 12s 25ms/step - loss: 1.0326 - accuracy: 0.6600 - val_loss: 0.5862 - val_accuracy: 0.8145\n",
            "Epoch 3/40\n",
            "487/487 [==============================] - 12s 25ms/step - loss: 0.6635 - accuracy: 0.7868 - val_loss: 0.4313 - val_accuracy: 0.8692\n",
            "Epoch 4/40\n",
            "487/487 [==============================] - 15s 30ms/step - loss: 0.5475 - accuracy: 0.8281 - val_loss: 0.4215 - val_accuracy: 0.8702\n",
            "Epoch 5/40\n",
            "487/487 [==============================] - 12s 25ms/step - loss: 0.4951 - accuracy: 0.8437 - val_loss: 0.3382 - val_accuracy: 0.8990\n",
            "Epoch 6/40\n",
            "487/487 [==============================] - 13s 26ms/step - loss: 0.4597 - accuracy: 0.8559 - val_loss: 0.3207 - val_accuracy: 0.9051\n",
            "Epoch 7/40\n",
            "487/487 [==============================] - 14s 28ms/step - loss: 0.4270 - accuracy: 0.8668 - val_loss: 0.3136 - val_accuracy: 0.9063\n",
            "Epoch 8/40\n",
            "487/487 [==============================] - 14s 28ms/step - loss: 0.4092 - accuracy: 0.8727 - val_loss: 0.3341 - val_accuracy: 0.8993\n",
            "Epoch 9/40\n",
            "487/487 [==============================] - 14s 28ms/step - loss: 0.3916 - accuracy: 0.8794 - val_loss: 0.2962 - val_accuracy: 0.9114\n",
            "Epoch 10/40\n",
            "487/487 [==============================] - 13s 26ms/step - loss: 0.3785 - accuracy: 0.8833 - val_loss: 0.2869 - val_accuracy: 0.9168\n",
            "Epoch 11/40\n",
            "487/487 [==============================] - 14s 28ms/step - loss: 0.3626 - accuracy: 0.8886 - val_loss: 0.2751 - val_accuracy: 0.9196\n",
            "Epoch 12/40\n",
            "487/487 [==============================] - 12s 25ms/step - loss: 0.3535 - accuracy: 0.8921 - val_loss: 0.2704 - val_accuracy: 0.9232\n",
            "Epoch 13/40\n",
            "487/487 [==============================] - 13s 26ms/step - loss: 0.3499 - accuracy: 0.8939 - val_loss: 0.2636 - val_accuracy: 0.9229\n",
            "Epoch 14/40\n",
            "487/487 [==============================] - 14s 28ms/step - loss: 0.3334 - accuracy: 0.8985 - val_loss: 0.2535 - val_accuracy: 0.9275\n",
            "Epoch 15/40\n",
            "487/487 [==============================] - 14s 29ms/step - loss: 0.3316 - accuracy: 0.8993 - val_loss: 0.2558 - val_accuracy: 0.9260\n",
            "Epoch 16/40\n",
            "487/487 [==============================] - 12s 25ms/step - loss: 0.3235 - accuracy: 0.9024 - val_loss: 0.2587 - val_accuracy: 0.9262\n",
            "Epoch 17/40\n",
            "487/487 [==============================] - 13s 27ms/step - loss: 0.3183 - accuracy: 0.9032 - val_loss: 0.2458 - val_accuracy: 0.9285\n",
            "Epoch 18/40\n",
            "487/487 [==============================] - 12s 25ms/step - loss: 0.3117 - accuracy: 0.9058 - val_loss: 0.2383 - val_accuracy: 0.9307\n",
            "Epoch 19/40\n",
            "487/487 [==============================] - 12s 25ms/step - loss: 0.3103 - accuracy: 0.9051 - val_loss: 0.2431 - val_accuracy: 0.9321\n",
            "Epoch 20/40\n",
            "487/487 [==============================] - 12s 25ms/step - loss: 0.3035 - accuracy: 0.9077 - val_loss: 0.2532 - val_accuracy: 0.9274\n",
            "Epoch 21/40\n",
            "487/487 [==============================] - 12s 25ms/step - loss: 0.2963 - accuracy: 0.9097 - val_loss: 0.2421 - val_accuracy: 0.9297\n",
            "Epoch 22/40\n",
            "487/487 [==============================] - 12s 25ms/step - loss: 0.2982 - accuracy: 0.9097 - val_loss: 0.2397 - val_accuracy: 0.9342\n",
            "Epoch 23/40\n",
            "487/487 [==============================] - 12s 25ms/step - loss: 0.2884 - accuracy: 0.9117 - val_loss: 0.2274 - val_accuracy: 0.9348\n",
            "Epoch 24/40\n",
            "487/487 [==============================] - 12s 25ms/step - loss: 0.2845 - accuracy: 0.9136 - val_loss: 0.2305 - val_accuracy: 0.9350\n",
            "Epoch 25/40\n",
            "487/487 [==============================] - 12s 25ms/step - loss: 0.2842 - accuracy: 0.9152 - val_loss: 0.2293 - val_accuracy: 0.9340\n",
            "Epoch 26/40\n",
            "487/487 [==============================] - 12s 25ms/step - loss: 0.2823 - accuracy: 0.9142 - val_loss: 0.2281 - val_accuracy: 0.9339\n",
            "Epoch 27/40\n",
            "487/487 [==============================] - 12s 25ms/step - loss: 0.2733 - accuracy: 0.9169 - val_loss: 0.2227 - val_accuracy: 0.9362\n",
            "Epoch 28/40\n",
            "487/487 [==============================] - 12s 25ms/step - loss: 0.2712 - accuracy: 0.9178 - val_loss: 0.2433 - val_accuracy: 0.9322\n",
            "Epoch 29/40\n",
            "487/487 [==============================] - 12s 25ms/step - loss: 0.2725 - accuracy: 0.9184 - val_loss: 0.2262 - val_accuracy: 0.9370\n",
            "Epoch 30/40\n",
            "487/487 [==============================] - 12s 25ms/step - loss: 0.2690 - accuracy: 0.9195 - val_loss: 0.2282 - val_accuracy: 0.9358\n",
            "Epoch 31/40\n",
            "487/487 [==============================] - 12s 25ms/step - loss: 0.2683 - accuracy: 0.9200 - val_loss: 0.2282 - val_accuracy: 0.9353\n",
            "Epoch 32/40\n",
            "487/487 [==============================] - 12s 25ms/step - loss: 0.2627 - accuracy: 0.9207 - val_loss: 0.2221 - val_accuracy: 0.9363\n",
            "Epoch 33/40\n",
            "487/487 [==============================] - 12s 25ms/step - loss: 0.2623 - accuracy: 0.9211 - val_loss: 0.2205 - val_accuracy: 0.9378\n",
            "Epoch 34/40\n",
            "487/487 [==============================] - 12s 25ms/step - loss: 0.2606 - accuracy: 0.9210 - val_loss: 0.2193 - val_accuracy: 0.9386\n",
            "Epoch 35/40\n",
            "487/487 [==============================] - 12s 25ms/step - loss: 0.2572 - accuracy: 0.9218 - val_loss: 0.2156 - val_accuracy: 0.9402\n",
            "Epoch 36/40\n",
            "487/487 [==============================] - 12s 25ms/step - loss: 0.2499 - accuracy: 0.9242 - val_loss: 0.2139 - val_accuracy: 0.9373\n",
            "Epoch 37/40\n",
            "487/487 [==============================] - 12s 25ms/step - loss: 0.2491 - accuracy: 0.9256 - val_loss: 0.2131 - val_accuracy: 0.9401\n",
            "Epoch 38/40\n",
            "487/487 [==============================] - 12s 25ms/step - loss: 0.2518 - accuracy: 0.9238 - val_loss: 0.2138 - val_accuracy: 0.9408\n",
            "Epoch 39/40\n",
            "487/487 [==============================] - 12s 25ms/step - loss: 0.2468 - accuracy: 0.9263 - val_loss: 0.2215 - val_accuracy: 0.9398\n",
            "Epoch 40/40\n",
            "487/487 [==============================] - 12s 25ms/step - loss: 0.2461 - accuracy: 0.9256 - val_loss: 0.2110 - val_accuracy: 0.9418\n"
          ]
        }
      ],
      "source": [
        "history2 = model2.fit(X_train, y_train, batch_size=128, \n",
        "                      epochs=40, validation_data=(X_val, y_val))"
      ]
    },
    {
      "cell_type": "markdown",
      "source": [
        "No se observa underfitting u overfitting al igual que en el primer modelo (no se separan las líneas). No obstante, los valores de accuracy tanto de entrenamiento como validación son superiores. Incluso la separación entre éstas es menor. Esto indica un \"fit\" superior. Además, el accuracy de validación se estabiliza más rápido que en la primera arquitectura."
      ],
      "metadata": {
        "id": "KDMoLWiGcpBD"
      }
    },
    {
      "cell_type": "code",
      "source": [
        "train_acc = history2.history['accuracy']\n",
        "val_acc = history2.history['val_accuracy']\n",
        "\n",
        "plt.figure(figsize=(20, 10))\n",
        "\n",
        "plt.subplot(1, 2, 1)\n",
        "plt.plot(train_acc, label='Training Accuracy')\n",
        "plt.plot(val_acc, label='Validation Accuracy')\n",
        "plt.legend()\n",
        "plt.title('Epochs vs. Training and Validation Accuracy')"
      ],
      "metadata": {
        "colab": {
          "base_uri": "https://localhost:8080/",
          "height": 624
        },
        "id": "idF_8vR-ciuT",
        "outputId": "5a913aac-471b-4a83-a2fc-2d699cad6dc8"
      },
      "execution_count": 16,
      "outputs": [
        {
          "output_type": "execute_result",
          "data": {
            "text/plain": [
              "Text(0.5, 1.0, 'Epochs vs. Training and Validation Accuracy')"
            ]
          },
          "metadata": {},
          "execution_count": 16
        },
        {
          "output_type": "display_data",
          "data": {
            "text/plain": [
              "<Figure size 1440x720 with 1 Axes>"
            ],
            "image/png": "[encoded data removed]"
          },
          "metadata": {
            "needs_background": "light"
          }
        }
      ]
    },
    {
      "cell_type": "markdown",
      "source": [
        "## Evaluación\n",
        "\n",
        "Se procederá a realizar la mismo procedimiento de KFold cross-validation que el modelo anterior. (k=5)"
      ],
      "metadata": {
        "id": "mryosiRXY5Dq"
      }
    },
    {
      "cell_type": "code",
      "execution_count": 23,
      "metadata": {
        "id": "1De5B4mCGY6I",
        "colab": {
          "base_uri": "https://localhost:8080/"
        },
        "outputId": "b82d58d4-328b-4de4-ab1b-c6e2c4e8b800"
      },
      "outputs": [
        {
          "output_type": "stream",
          "name": "stdout",
          "text": [
            "Epoch 1/30\n",
            "1832/1832 [==============================] - 20s 10ms/step - loss: 2.0819 - accuracy: 0.3306\n",
            "Epoch 2/30\n",
            "1832/1832 [==============================] - 18s 10ms/step - loss: 1.0439 - accuracy: 0.6600\n",
            "Epoch 3/30\n",
            "1832/1832 [==============================] - 18s 10ms/step - loss: 0.7649 - accuracy: 0.7538\n",
            "Epoch 4/30\n",
            "1832/1832 [==============================] - 20s 11ms/step - loss: 0.6432 - accuracy: 0.7933\n",
            "Epoch 5/30\n",
            "1832/1832 [==============================] - 18s 10ms/step - loss: 0.5639 - accuracy: 0.8217\n",
            "Epoch 6/30\n",
            "1832/1832 [==============================] - 18s 10ms/step - loss: 0.5108 - accuracy: 0.8393\n",
            "Epoch 7/30\n",
            "1832/1832 [==============================] - 18s 10ms/step - loss: 0.4769 - accuracy: 0.8500\n",
            "Epoch 8/30\n",
            "1832/1832 [==============================] - 18s 10ms/step - loss: 0.4507 - accuracy: 0.8590\n",
            "Epoch 9/30\n",
            "1832/1832 [==============================] - 18s 10ms/step - loss: 0.4193 - accuracy: 0.8687\n",
            "Epoch 10/30\n",
            "1832/1832 [==============================] - 18s 10ms/step - loss: 0.4063 - accuracy: 0.8737\n",
            "Epoch 11/30\n",
            "1832/1832 [==============================] - 18s 10ms/step - loss: 0.3894 - accuracy: 0.8802\n",
            "Epoch 12/30\n",
            "1832/1832 [==============================] - 18s 10ms/step - loss: 0.3783 - accuracy: 0.8828\n",
            "Epoch 13/30\n",
            "1832/1832 [==============================] - 18s 10ms/step - loss: 0.3695 - accuracy: 0.8863\n",
            "Epoch 14/30\n",
            "1832/1832 [==============================] - 18s 10ms/step - loss: 0.3622 - accuracy: 0.8874\n",
            "Epoch 15/30\n",
            "1832/1832 [==============================] - 18s 10ms/step - loss: 0.3486 - accuracy: 0.8924\n",
            "Epoch 16/30\n",
            "1832/1832 [==============================] - 18s 10ms/step - loss: 0.3434 - accuracy: 0.8946\n",
            "Epoch 17/30\n",
            "1832/1832 [==============================] - 20s 11ms/step - loss: 0.3365 - accuracy: 0.8976\n",
            "Epoch 18/30\n",
            "1832/1832 [==============================] - 18s 10ms/step - loss: 0.3330 - accuracy: 0.8981\n",
            "Epoch 19/30\n",
            "1832/1832 [==============================] - 18s 10ms/step - loss: 0.3260 - accuracy: 0.9007\n",
            "Epoch 20/30\n",
            "1832/1832 [==============================] - 18s 10ms/step - loss: 0.3186 - accuracy: 0.9016\n",
            "Epoch 21/30\n",
            "1832/1832 [==============================] - 18s 10ms/step - loss: 0.3147 - accuracy: 0.9032\n",
            "Epoch 22/30\n",
            "1832/1832 [==============================] - 18s 10ms/step - loss: 0.3085 - accuracy: 0.9058\n",
            "Epoch 23/30\n",
            "1832/1832 [==============================] - 18s 10ms/step - loss: 0.3078 - accuracy: 0.9059\n",
            "Epoch 24/30\n",
            "1832/1832 [==============================] - 18s 10ms/step - loss: 0.3044 - accuracy: 0.9057\n",
            "Epoch 25/30\n",
            "1832/1832 [==============================] - 18s 10ms/step - loss: 0.2997 - accuracy: 0.9082\n",
            "Epoch 26/30\n",
            "1832/1832 [==============================] - 18s 10ms/step - loss: 0.2931 - accuracy: 0.9103\n",
            "Epoch 27/30\n",
            "1832/1832 [==============================] - 18s 10ms/step - loss: 0.2903 - accuracy: 0.9114\n",
            "Epoch 28/30\n",
            "1832/1832 [==============================] - 18s 10ms/step - loss: 0.2873 - accuracy: 0.9124\n",
            "Epoch 29/30\n",
            "1832/1832 [==============================] - 18s 10ms/step - loss: 0.2847 - accuracy: 0.9132\n",
            "Epoch 30/30\n",
            "1832/1832 [==============================] - 20s 11ms/step - loss: 0.2808 - accuracy: 0.9139\n",
            "458/458 [==============================] - 2s 5ms/step - loss: 0.2679 - accuracy: 0.9241\n",
            "Epoch 1/30\n",
            "1832/1832 [==============================] - 19s 10ms/step - loss: 1.8269 - accuracy: 0.4112\n",
            "Epoch 2/30\n",
            "1832/1832 [==============================] - 18s 10ms/step - loss: 0.8382 - accuracy: 0.7277\n",
            "Epoch 3/30\n",
            "1832/1832 [==============================] - 18s 10ms/step - loss: 0.6348 - accuracy: 0.7971\n",
            "Epoch 4/30\n",
            "1832/1832 [==============================] - 18s 10ms/step - loss: 0.5460 - accuracy: 0.8263\n",
            "Epoch 5/30\n",
            "1832/1832 [==============================] - 18s 10ms/step - loss: 0.4910 - accuracy: 0.8473\n",
            "Epoch 6/30\n",
            "1832/1832 [==============================] - 18s 10ms/step - loss: 0.4560 - accuracy: 0.8575\n",
            "Epoch 7/30\n",
            "1832/1832 [==============================] - 18s 10ms/step - loss: 0.4323 - accuracy: 0.8661\n",
            "Epoch 8/30\n",
            "1832/1832 [==============================] - 18s 10ms/step - loss: 0.4136 - accuracy: 0.8720\n",
            "Epoch 9/30\n",
            "1832/1832 [==============================] - 18s 10ms/step - loss: 0.3944 - accuracy: 0.8784\n",
            "Epoch 10/30\n",
            "1832/1832 [==============================] - 18s 10ms/step - loss: 0.3832 - accuracy: 0.8816\n",
            "Epoch 11/30\n",
            "1832/1832 [==============================] - 20s 11ms/step - loss: 0.3689 - accuracy: 0.8866\n",
            "Epoch 12/30\n",
            "1832/1832 [==============================] - 18s 10ms/step - loss: 0.3590 - accuracy: 0.8893\n",
            "Epoch 13/30\n",
            "1832/1832 [==============================] - 18s 10ms/step - loss: 0.3518 - accuracy: 0.8926\n",
            "Epoch 14/30\n",
            "1832/1832 [==============================] - 18s 10ms/step - loss: 0.3410 - accuracy: 0.8963\n",
            "Epoch 15/30\n",
            "1832/1832 [==============================] - 18s 10ms/step - loss: 0.3353 - accuracy: 0.8982\n",
            "Epoch 16/30\n",
            "1832/1832 [==============================] - 18s 10ms/step - loss: 0.3267 - accuracy: 0.9010\n",
            "Epoch 17/30\n",
            "1832/1832 [==============================] - 18s 10ms/step - loss: 0.3218 - accuracy: 0.9026\n",
            "Epoch 18/30\n",
            "1832/1832 [==============================] - 18s 10ms/step - loss: 0.3190 - accuracy: 0.9020\n",
            "Epoch 19/30\n",
            "1832/1832 [==============================] - 18s 10ms/step - loss: 0.3145 - accuracy: 0.9041\n",
            "Epoch 20/30\n",
            "1832/1832 [==============================] - 18s 10ms/step - loss: 0.3077 - accuracy: 0.9056\n",
            "Epoch 21/30\n",
            "1832/1832 [==============================] - 18s 10ms/step - loss: 0.3082 - accuracy: 0.9068\n",
            "Epoch 22/30\n",
            "1832/1832 [==============================] - 18s 10ms/step - loss: 0.2988 - accuracy: 0.9082\n",
            "Epoch 23/30\n",
            "1832/1832 [==============================] - 18s 10ms/step - loss: 0.2939 - accuracy: 0.9108\n",
            "Epoch 24/30\n",
            "1832/1832 [==============================] - 20s 11ms/step - loss: 0.2909 - accuracy: 0.9115\n",
            "Epoch 25/30\n",
            "1832/1832 [==============================] - 18s 10ms/step - loss: 0.2890 - accuracy: 0.9128\n",
            "Epoch 26/30\n",
            "1832/1832 [==============================] - 18s 10ms/step - loss: 0.2818 - accuracy: 0.9149\n",
            "Epoch 27/30\n",
            "1832/1832 [==============================] - 18s 10ms/step - loss: 0.2828 - accuracy: 0.9146\n",
            "Epoch 28/30\n",
            "1832/1832 [==============================] - 18s 10ms/step - loss: 0.2803 - accuracy: 0.9149\n",
            "Epoch 29/30\n",
            "1832/1832 [==============================] - 18s 10ms/step - loss: 0.2747 - accuracy: 0.9165\n",
            "Epoch 30/30\n",
            "1832/1832 [==============================] - 18s 10ms/step - loss: 0.2755 - accuracy: 0.9170\n",
            "458/458 [==============================] - 2s 5ms/step - loss: 0.2357 - accuracy: 0.9333\n",
            "Epoch 1/30\n",
            "1832/1832 [==============================] - 20s 10ms/step - loss: 2.1372 - accuracy: 0.2935\n",
            "Epoch 2/30\n",
            "1832/1832 [==============================] - 18s 10ms/step - loss: 1.0593 - accuracy: 0.6512\n",
            "Epoch 3/30\n",
            "1832/1832 [==============================] - 18s 10ms/step - loss: 0.7476 - accuracy: 0.7615\n",
            "Epoch 4/30\n",
            "1832/1832 [==============================] - 18s 10ms/step - loss: 0.6169 - accuracy: 0.8026\n",
            "Epoch 5/30\n",
            "1832/1832 [==============================] - 20s 11ms/step - loss: 0.5420 - accuracy: 0.8281\n",
            "Epoch 6/30\n",
            "1832/1832 [==============================] - 18s 10ms/step - loss: 0.4979 - accuracy: 0.8425\n",
            "Epoch 7/30\n",
            "1832/1832 [==============================] - 18s 10ms/step - loss: 0.4599 - accuracy: 0.8553\n",
            "Epoch 8/30\n",
            "1832/1832 [==============================] - 18s 10ms/step - loss: 0.4372 - accuracy: 0.8636\n",
            "Epoch 9/30\n",
            "1832/1832 [==============================] - 18s 10ms/step - loss: 0.4136 - accuracy: 0.8705\n",
            "Epoch 10/30\n",
            "1832/1832 [==============================] - 18s 10ms/step - loss: 0.4018 - accuracy: 0.8744\n",
            "Epoch 11/30\n",
            "1832/1832 [==============================] - 18s 10ms/step - loss: 0.3891 - accuracy: 0.8788\n",
            "Epoch 12/30\n",
            "1832/1832 [==============================] - 18s 10ms/step - loss: 0.3799 - accuracy: 0.8825\n",
            "Epoch 13/30\n",
            "1832/1832 [==============================] - 18s 10ms/step - loss: 0.3664 - accuracy: 0.8885\n",
            "Epoch 14/30\n",
            "1832/1832 [==============================] - 18s 10ms/step - loss: 0.3564 - accuracy: 0.8899\n",
            "Epoch 15/30\n",
            "1832/1832 [==============================] - 18s 10ms/step - loss: 0.3465 - accuracy: 0.8932\n",
            "Epoch 16/30\n",
            "1832/1832 [==============================] - 18s 10ms/step - loss: 0.3465 - accuracy: 0.8943\n",
            "Epoch 17/30\n",
            "1832/1832 [==============================] - 18s 10ms/step - loss: 0.3376 - accuracy: 0.8964\n",
            "Epoch 18/30\n",
            "1832/1832 [==============================] - 20s 11ms/step - loss: 0.3286 - accuracy: 0.8996\n",
            "Epoch 19/30\n",
            "1832/1832 [==============================] - 18s 10ms/step - loss: 0.3223 - accuracy: 0.9013\n",
            "Epoch 20/30\n",
            "1832/1832 [==============================] - 18s 10ms/step - loss: 0.3212 - accuracy: 0.9019\n",
            "Epoch 21/30\n",
            "1832/1832 [==============================] - 18s 10ms/step - loss: 0.3111 - accuracy: 0.9048\n",
            "Epoch 22/30\n",
            "1832/1832 [==============================] - 18s 10ms/step - loss: 0.3072 - accuracy: 0.9056\n",
            "Epoch 23/30\n",
            "1832/1832 [==============================] - 18s 10ms/step - loss: 0.3039 - accuracy: 0.9067\n",
            "Epoch 24/30\n",
            "1832/1832 [==============================] - 18s 10ms/step - loss: 0.3022 - accuracy: 0.9083\n",
            "Epoch 25/30\n",
            "1832/1832 [==============================] - 18s 10ms/step - loss: 0.2986 - accuracy: 0.9102\n",
            "Epoch 26/30\n",
            "1832/1832 [==============================] - 18s 10ms/step - loss: 0.2910 - accuracy: 0.9119\n",
            "Epoch 27/30\n",
            "1832/1832 [==============================] - 18s 10ms/step - loss: 0.2894 - accuracy: 0.9111\n",
            "Epoch 28/30\n",
            "1832/1832 [==============================] - 18s 10ms/step - loss: 0.2865 - accuracy: 0.9145\n",
            "Epoch 29/30\n",
            "1832/1832 [==============================] - 18s 10ms/step - loss: 0.2858 - accuracy: 0.9138\n",
            "Epoch 30/30\n",
            "1832/1832 [==============================] - 20s 11ms/step - loss: 0.2781 - accuracy: 0.9162\n",
            "458/458 [==============================] - 2s 4ms/step - loss: 0.2461 - accuracy: 0.9331\n",
            "Epoch 1/30\n",
            "1832/1832 [==============================] - 20s 10ms/step - loss: 1.9152 - accuracy: 0.3793\n",
            "Epoch 2/30\n",
            "1832/1832 [==============================] - 18s 10ms/step - loss: 0.9118 - accuracy: 0.7025\n",
            "Epoch 3/30\n",
            "1832/1832 [==============================] - 18s 10ms/step - loss: 0.6961 - accuracy: 0.7768\n",
            "Epoch 4/30\n",
            "1832/1832 [==============================] - 18s 10ms/step - loss: 0.5916 - accuracy: 0.8112\n",
            "Epoch 5/30\n",
            "1832/1832 [==============================] - 18s 10ms/step - loss: 0.5212 - accuracy: 0.8367\n",
            "Epoch 6/30\n",
            "1832/1832 [==============================] - 18s 10ms/step - loss: 0.4840 - accuracy: 0.8488\n",
            "Epoch 7/30\n",
            "1832/1832 [==============================] - 18s 10ms/step - loss: 0.4515 - accuracy: 0.8592\n",
            "Epoch 8/30\n",
            "1832/1832 [==============================] - 18s 10ms/step - loss: 0.4270 - accuracy: 0.8663\n",
            "Epoch 9/30\n",
            "1832/1832 [==============================] - 18s 10ms/step - loss: 0.4026 - accuracy: 0.8747\n",
            "Epoch 10/30\n",
            "1832/1832 [==============================] - 18s 10ms/step - loss: 0.3935 - accuracy: 0.8777\n",
            "Epoch 11/30\n",
            "1832/1832 [==============================] - 18s 10ms/step - loss: 0.3802 - accuracy: 0.8833\n",
            "Epoch 12/30\n",
            "1832/1832 [==============================] - 18s 10ms/step - loss: 0.3652 - accuracy: 0.8871\n",
            "Epoch 13/30\n",
            "1832/1832 [==============================] - 21s 11ms/step - loss: 0.3618 - accuracy: 0.8879\n",
            "Epoch 14/30\n",
            "1832/1832 [==============================] - 18s 10ms/step - loss: 0.3473 - accuracy: 0.8937\n",
            "Epoch 15/30\n",
            "1832/1832 [==============================] - 18s 10ms/step - loss: 0.3433 - accuracy: 0.8955\n",
            "Epoch 16/30\n",
            "1832/1832 [==============================] - 18s 10ms/step - loss: 0.3341 - accuracy: 0.8979\n",
            "Epoch 17/30\n",
            "1832/1832 [==============================] - 18s 10ms/step - loss: 0.3258 - accuracy: 0.9000\n",
            "Epoch 18/30\n",
            "1832/1832 [==============================] - 18s 10ms/step - loss: 0.3210 - accuracy: 0.9010\n",
            "Epoch 19/30\n",
            "1832/1832 [==============================] - 18s 10ms/step - loss: 0.3177 - accuracy: 0.9030\n",
            "Epoch 20/30\n",
            "1832/1832 [==============================] - 18s 10ms/step - loss: 0.3109 - accuracy: 0.9047\n",
            "Epoch 21/30\n",
            "1832/1832 [==============================] - 18s 10ms/step - loss: 0.3056 - accuracy: 0.9068\n",
            "Epoch 22/30\n",
            "1832/1832 [==============================] - 18s 10ms/step - loss: 0.3018 - accuracy: 0.9074\n",
            "Epoch 23/30\n",
            "1832/1832 [==============================] - 18s 10ms/step - loss: 0.2999 - accuracy: 0.9087\n",
            "Epoch 24/30\n",
            "1832/1832 [==============================] - 18s 10ms/step - loss: 0.2929 - accuracy: 0.9107\n",
            "Epoch 25/30\n",
            "1832/1832 [==============================] - 19s 11ms/step - loss: 0.2921 - accuracy: 0.9104\n",
            "Epoch 26/30\n",
            "1832/1832 [==============================] - 19s 10ms/step - loss: 0.2857 - accuracy: 0.9134\n",
            "Epoch 27/30\n",
            "1832/1832 [==============================] - 18s 10ms/step - loss: 0.2830 - accuracy: 0.9135\n",
            "Epoch 28/30\n",
            "1832/1832 [==============================] - 18s 10ms/step - loss: 0.2815 - accuracy: 0.9149\n",
            "Epoch 29/30\n",
            "1832/1832 [==============================] - 18s 10ms/step - loss: 0.2776 - accuracy: 0.9157\n",
            "Epoch 30/30\n",
            "1832/1832 [==============================] - 18s 10ms/step - loss: 0.2738 - accuracy: 0.9156\n",
            "458/458 [==============================] - 2s 4ms/step - loss: 0.2381 - accuracy: 0.9343\n",
            "Epoch 1/30\n",
            "1832/1832 [==============================] - 20s 10ms/step - loss: 2.0154 - accuracy: 0.3469\n",
            "Epoch 2/30\n",
            "1832/1832 [==============================] - 18s 10ms/step - loss: 1.0327 - accuracy: 0.6585\n",
            "Epoch 3/30\n",
            "1832/1832 [==============================] - 18s 10ms/step - loss: 0.7379 - accuracy: 0.7633\n",
            "Epoch 4/30\n",
            "1832/1832 [==============================] - 18s 10ms/step - loss: 0.6106 - accuracy: 0.8055\n",
            "Epoch 5/30\n",
            "1832/1832 [==============================] - 18s 10ms/step - loss: 0.5453 - accuracy: 0.8277\n",
            "Epoch 6/30\n",
            "1832/1832 [==============================] - 18s 10ms/step - loss: 0.4926 - accuracy: 0.8442\n",
            "Epoch 7/30\n",
            "1832/1832 [==============================] - 21s 11ms/step - loss: 0.4592 - accuracy: 0.8562\n",
            "Epoch 8/30\n",
            "1832/1832 [==============================] - 18s 10ms/step - loss: 0.4333 - accuracy: 0.8665\n",
            "Epoch 9/30\n",
            "1832/1832 [==============================] - 18s 10ms/step - loss: 0.4156 - accuracy: 0.8714\n",
            "Epoch 10/30\n",
            "1832/1832 [==============================] - 18s 10ms/step - loss: 0.3981 - accuracy: 0.8771\n",
            "Epoch 11/30\n",
            "1832/1832 [==============================] - 18s 10ms/step - loss: 0.3805 - accuracy: 0.8828\n",
            "Epoch 12/30\n",
            "1832/1832 [==============================] - 18s 10ms/step - loss: 0.3719 - accuracy: 0.8847\n",
            "Epoch 13/30\n",
            "1832/1832 [==============================] - 18s 10ms/step - loss: 0.3605 - accuracy: 0.8884\n",
            "Epoch 14/30\n",
            "1832/1832 [==============================] - 18s 10ms/step - loss: 0.3503 - accuracy: 0.8941\n",
            "Epoch 15/30\n",
            "1832/1832 [==============================] - 18s 10ms/step - loss: 0.3465 - accuracy: 0.8943\n",
            "Epoch 16/30\n",
            "1832/1832 [==============================] - 18s 10ms/step - loss: 0.3399 - accuracy: 0.8953\n",
            "Epoch 17/30\n",
            "1832/1832 [==============================] - 18s 10ms/step - loss: 0.3322 - accuracy: 0.8975\n",
            "Epoch 18/30\n",
            "1832/1832 [==============================] - 18s 10ms/step - loss: 0.3220 - accuracy: 0.9014\n",
            "Epoch 19/30\n",
            "1832/1832 [==============================] - 20s 11ms/step - loss: 0.3196 - accuracy: 0.9033\n",
            "Epoch 20/30\n",
            "1832/1832 [==============================] - 18s 10ms/step - loss: 0.3145 - accuracy: 0.9050\n",
            "Epoch 21/30\n",
            "1832/1832 [==============================] - 18s 10ms/step - loss: 0.3118 - accuracy: 0.9045\n",
            "Epoch 22/30\n",
            "1832/1832 [==============================] - 18s 10ms/step - loss: 0.3091 - accuracy: 0.9070\n",
            "Epoch 23/30\n",
            "1832/1832 [==============================] - 18s 10ms/step - loss: 0.3005 - accuracy: 0.9077\n",
            "Epoch 24/30\n",
            "1832/1832 [==============================] - 18s 10ms/step - loss: 0.2989 - accuracy: 0.9097\n",
            "Epoch 25/30\n",
            "1832/1832 [==============================] - 18s 10ms/step - loss: 0.2928 - accuracy: 0.9106\n",
            "Epoch 26/30\n",
            "1832/1832 [==============================] - 18s 10ms/step - loss: 0.2897 - accuracy: 0.9112\n",
            "Epoch 27/30\n",
            "1832/1832 [==============================] - 18s 10ms/step - loss: 0.2850 - accuracy: 0.9135\n",
            "Epoch 28/30\n",
            "1832/1832 [==============================] - 18s 10ms/step - loss: 0.2832 - accuracy: 0.9141\n",
            "Epoch 29/30\n",
            "1832/1832 [==============================] - 18s 10ms/step - loss: 0.2801 - accuracy: 0.9138\n",
            "Epoch 30/30\n",
            "1832/1832 [==============================] - 18s 10ms/step - loss: 0.2762 - accuracy: 0.9169\n",
            "458/458 [==============================] - 2s 4ms/step - loss: 0.2368 - accuracy: 0.9328\n",
            "Model evaluation  [0.23676173388957977, 0.9327691197395325]\n"
          ]
        }
      ],
      "source": [
        "n_split = 5\n",
        "k_eval = []\n",
        "\n",
        "for train_i ,val_i in KFold(n_split).split(train_images):\n",
        "  x_train,x_val= train_images[train_i], train_images[val_i]\n",
        "  y_t,y_v= train_labels[train_i], train_labels[val_i]\n",
        "\n",
        "  aux = M2()\n",
        "\n",
        "  aux.compile(optimizer=optimizer,\n",
        "              loss='categorical_crossentropy',\n",
        "              metrics=['accuracy'])\n",
        "  \n",
        "  aux.fit(x_train, y_t,epochs=30)\n",
        "\n",
        "  eval = aux.evaluate(x_val,y_v)\n",
        "  k_eval.append(eval[1])\n",
        "\n",
        "print('Model evaluation ', eval)"
      ]
    },
    {
      "cell_type": "markdown",
      "source": [
        "El modelo que implementa las sugerencias presentó un incremento de .03 apróximadamente y mantuvo una relación con la desviación estándar similar al primer modelo (<1%). Esto es una mejora significativa."
      ],
      "metadata": {
        "id": "yZPhrhfnZa1M"
      }
    },
    {
      "cell_type": "code",
      "source": [
        "result = np.array(k_eval)\n",
        "print(\"Mean accuracy: \", result.mean())\n",
        "print(\"Standard deviation: \", result.std())"
      ],
      "metadata": {
        "colab": {
          "base_uri": "https://localhost:8080/"
        },
        "id": "cqK6zGZxf2l_",
        "outputId": "b9eadda6-9b71-40ac-a5d3-17d5c792ebe5"
      },
      "execution_count": 24,
      "outputs": [
        {
          "output_type": "stream",
          "name": "stdout",
          "text": [
            "Mean accuracy:  0.9315151572227478\n",
            "Standard deviation:  0.00373798836209485\n"
          ]
        }
      ]
    },
    {
      "cell_type": "markdown",
      "source": [
        "Finalmente se muestra el desempeño de la versión entrenada por 40 épocas sobre el set de prueba. El accuracy incrementó .015 aproximadamente , aunque no fue la misma magnitud incremental que en los set de validación, aún fue una mejora significativa. Se tendría también que evaluar ambos modelos al entrenarse en todavía más épocas para conocer su convergencia."
      ],
      "metadata": {
        "id": "t0nSxNM6agEj"
      }
    },
    {
      "cell_type": "code",
      "source": [
        "test_loss, test_acc = model2.evaluate(x=test_images, y=test_labels, verbose=0)\n",
        "\n",
        "print('Test accuracy is: {:0.4f} \\nTest loss is: {:0.4f}'.\n",
        "      format(test_acc, test_loss))"
      ],
      "metadata": {
        "colab": {
          "base_uri": "https://localhost:8080/"
        },
        "id": "xjuz9c2kuOQY",
        "outputId": "153c9362-dc33-404e-945b-2bf9dc42e6a0"
      },
      "execution_count": 25,
      "outputs": [
        {
          "output_type": "stream",
          "name": "stdout",
          "text": [
            "Test accuracy is: 0.9446 \n",
            "Test loss is: 0.1997\n"
          ]
        }
      ]
    }
  ],
  "metadata": {
    "accelerator": "GPU",
    "colab": {
      "provenance": []
    },
    "gpuClass": "standard",
    "kernelspec": {
      "display_name": "Python 3",
      "name": "python3"
    },
    "language_info": {
      "name": "python"
    }
  },
  "nbformat": 4,
  "nbformat_minor": 0
}